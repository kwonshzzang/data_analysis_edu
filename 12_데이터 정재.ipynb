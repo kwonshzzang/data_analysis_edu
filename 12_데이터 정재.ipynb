{
 "cells": [
  {
   "cell_type": "code",
   "execution_count": 1,
   "metadata": {
    "collapsed": true
   },
   "outputs": [],
   "source": [
    "import numpy as np\n",
    "import pandas as pd\n",
    "import matplotlib.pyplot as plt"
   ]
  },
  {
   "cell_type": "markdown",
   "source": [
    "### 데이터 정제\n",
    "- 결측치에 대한 처리\n",
    "- 이상치에 대한 처리\n",
    "- 극단치에 대한 처리\n",
    "- 어떠한 조건을 만족하는 데이터에 대한 처리"
   ],
   "metadata": {
    "collapsed": false
   }
  },
  {
   "cell_type": "markdown",
   "source": [
    "### 처리방법\n",
    "- 제거: 문제가 있다고 판단되는 행이나 열을 제거한다. 데이터가 왜곡되진 않지만 양이 줄어든다.\n",
    "- 대체: 문제가 있다고 판단되는 값을 다른 값으로 변경한다. 데이터의 양은 유지되지만 왜곡된 데이터가 존재하게 된다."
   ],
   "metadata": {
    "collapsed": false
   }
  },
  {
   "cell_type": "code",
   "execution_count": 2,
   "outputs": [
    {
     "data": {
      "text/plain": "    학년  성별   국어    영어    수학    과학\n이름                               \n철수   1  남자   98   NaN  88.0  64.0\n영희   2  여자   88  90.0  62.0  72.0\n민수   1  남자   92  70.0   NaN   NaN\n수현   3  여자   63  60.0  31.0  70.0\n호영   4  남자  120  50.0   NaN  88.0",
      "text/html": "<div>\n<style scoped>\n    .dataframe tbody tr th:only-of-type {\n        vertical-align: middle;\n    }\n\n    .dataframe tbody tr th {\n        vertical-align: top;\n    }\n\n    .dataframe thead th {\n        text-align: right;\n    }\n</style>\n<table border=\"1\" class=\"dataframe\">\n  <thead>\n    <tr style=\"text-align: right;\">\n      <th></th>\n      <th>학년</th>\n      <th>성별</th>\n      <th>국어</th>\n      <th>영어</th>\n      <th>수학</th>\n      <th>과학</th>\n    </tr>\n    <tr>\n      <th>이름</th>\n      <th></th>\n      <th></th>\n      <th></th>\n      <th></th>\n      <th></th>\n      <th></th>\n    </tr>\n  </thead>\n  <tbody>\n    <tr>\n      <th>철수</th>\n      <td>1</td>\n      <td>남자</td>\n      <td>98</td>\n      <td>NaN</td>\n      <td>88.0</td>\n      <td>64.0</td>\n    </tr>\n    <tr>\n      <th>영희</th>\n      <td>2</td>\n      <td>여자</td>\n      <td>88</td>\n      <td>90.0</td>\n      <td>62.0</td>\n      <td>72.0</td>\n    </tr>\n    <tr>\n      <th>민수</th>\n      <td>1</td>\n      <td>남자</td>\n      <td>92</td>\n      <td>70.0</td>\n      <td>NaN</td>\n      <td>NaN</td>\n    </tr>\n    <tr>\n      <th>수현</th>\n      <td>3</td>\n      <td>여자</td>\n      <td>63</td>\n      <td>60.0</td>\n      <td>31.0</td>\n      <td>70.0</td>\n    </tr>\n    <tr>\n      <th>호영</th>\n      <td>4</td>\n      <td>남자</td>\n      <td>120</td>\n      <td>50.0</td>\n      <td>NaN</td>\n      <td>88.0</td>\n    </tr>\n  </tbody>\n</table>\n</div>"
     },
     "execution_count": 2,
     "metadata": {},
     "output_type": "execute_result"
    }
   ],
   "source": [
    "df1 = pd.read_csv('data/grade.csv', encoding='euc-kr')\n",
    "df1.set_index('이름', inplace=True)\n",
    "df1"
   ],
   "metadata": {
    "collapsed": false
   }
  },
  {
   "cell_type": "markdown",
   "source": [
    "### 결측치 처리"
   ],
   "metadata": {
    "collapsed": false
   }
  },
  {
   "cell_type": "code",
   "execution_count": 3,
   "outputs": [
    {
     "name": "stdout",
     "output_type": "stream",
     "text": [
      "<class 'pandas.core.frame.DataFrame'>\n",
      "Index: 5 entries, 철수 to 호영\n",
      "Data columns (total 6 columns):\n",
      " #   Column  Non-Null Count  Dtype  \n",
      "---  ------  --------------  -----  \n",
      " 0   학년      5 non-null      int64  \n",
      " 1   성별      5 non-null      object \n",
      " 2   국어      5 non-null      int64  \n",
      " 3   영어      4 non-null      float64\n",
      " 4   수학      3 non-null      float64\n",
      " 5   과학      4 non-null      float64\n",
      "dtypes: float64(3), int64(2), object(1)\n",
      "memory usage: 280.0+ bytes\n"
     ]
    }
   ],
   "source": [
    "# 결측치 확인 1\n",
    "# 데이터프레임의 요약정보를 통해 확인함\n",
    "# Non-null Count: 결측치를 제외한 데이터의 개수\n",
    "df1.info()"
   ],
   "metadata": {
    "collapsed": false
   }
  },
  {
   "cell_type": "code",
   "execution_count": 7,
   "outputs": [
    {
     "data": {
      "text/plain": "학년    0\n성별    0\n국어    0\n영어    1\n수학    2\n과학    1\ndtype: int64"
     },
     "execution_count": 7,
     "metadata": {},
     "output_type": "execute_result"
    }
   ],
   "source": [
    "# 결측치 확인 2\n",
    "# 통계함수를 이용\n",
    "# 파이썬에서 모든 통계함수는 결측치를 제외하고 계산함\n",
    "# 따라서 count 함수를 사용하면 결측치를 제외한 데이터 개수를 구할 수 있음\n",
    "# 전체 행의 개수를 파악함\n",
    "a1,_ = df1.shape\n",
    "\n",
    "# 결측치를 제외한 각 행별 개수를 구함\n",
    "a2 = df1.count()\n",
    "\n",
    "# 전체 행의 개수에서 결측치를 제외한 각 행별 개수를 구함\n",
    "a3 = a1 - a2\n",
    "a3"
   ],
   "metadata": {
    "collapsed": false
   }
  },
  {
   "cell_type": "code",
   "execution_count": 9,
   "outputs": [
    {
     "data": {
      "text/plain": "학년    0\n성별    0\n국어    0\n영어    1\n수학    2\n과학    1\ndtype: int64"
     },
     "execution_count": 9,
     "metadata": {},
     "output_type": "execute_result"
    }
   ],
   "source": [
    "# 결측치 확인 3\n",
    "# isna: 결측치 부분은 True, 결측치가 아닌 부분은 Fasle로 되어 있는 데이터프레임을 반환\n",
    "# sum: 각 컬럼의 총합을 구함. True나 False로 되어 있을 경우\n",
    "# True를 1, False를 0으로 취급하여 총합을 구함\n",
    "df1.isna().sum()"
   ],
   "metadata": {
    "collapsed": false
   }
  },
  {
   "cell_type": "code",
   "execution_count": 11,
   "outputs": [
    {
     "data": {
      "text/plain": "    학년  성별   국어    영어    수학    과학\n이름                               \n철수   1  남자   98   NaN  88.0  64.0\n영희   2  여자   88  90.0  62.0  72.0\n민수   1  남자   92  70.0   NaN   NaN\n수현   3  여자   63  60.0  31.0  70.0\n호영   4  남자  120  50.0   NaN  88.0",
      "text/html": "<div>\n<style scoped>\n    .dataframe tbody tr th:only-of-type {\n        vertical-align: middle;\n    }\n\n    .dataframe tbody tr th {\n        vertical-align: top;\n    }\n\n    .dataframe thead th {\n        text-align: right;\n    }\n</style>\n<table border=\"1\" class=\"dataframe\">\n  <thead>\n    <tr style=\"text-align: right;\">\n      <th></th>\n      <th>학년</th>\n      <th>성별</th>\n      <th>국어</th>\n      <th>영어</th>\n      <th>수학</th>\n      <th>과학</th>\n    </tr>\n    <tr>\n      <th>이름</th>\n      <th></th>\n      <th></th>\n      <th></th>\n      <th></th>\n      <th></th>\n      <th></th>\n    </tr>\n  </thead>\n  <tbody>\n    <tr>\n      <th>철수</th>\n      <td>1</td>\n      <td>남자</td>\n      <td>98</td>\n      <td>NaN</td>\n      <td>88.0</td>\n      <td>64.0</td>\n    </tr>\n    <tr>\n      <th>영희</th>\n      <td>2</td>\n      <td>여자</td>\n      <td>88</td>\n      <td>90.0</td>\n      <td>62.0</td>\n      <td>72.0</td>\n    </tr>\n    <tr>\n      <th>민수</th>\n      <td>1</td>\n      <td>남자</td>\n      <td>92</td>\n      <td>70.0</td>\n      <td>NaN</td>\n      <td>NaN</td>\n    </tr>\n    <tr>\n      <th>수현</th>\n      <td>3</td>\n      <td>여자</td>\n      <td>63</td>\n      <td>60.0</td>\n      <td>31.0</td>\n      <td>70.0</td>\n    </tr>\n    <tr>\n      <th>호영</th>\n      <td>4</td>\n      <td>남자</td>\n      <td>120</td>\n      <td>50.0</td>\n      <td>NaN</td>\n      <td>88.0</td>\n    </tr>\n  </tbody>\n</table>\n</div>"
     },
     "metadata": {},
     "output_type": "display_data"
    },
    {
     "data": {
      "text/plain": "    학년  성별  국어    영어    수학    과학\n이름                              \n영희   2  여자  88  90.0  62.0  72.0\n수현   3  여자  63  60.0  31.0  70.0",
      "text/html": "<div>\n<style scoped>\n    .dataframe tbody tr th:only-of-type {\n        vertical-align: middle;\n    }\n\n    .dataframe tbody tr th {\n        vertical-align: top;\n    }\n\n    .dataframe thead th {\n        text-align: right;\n    }\n</style>\n<table border=\"1\" class=\"dataframe\">\n  <thead>\n    <tr style=\"text-align: right;\">\n      <th></th>\n      <th>학년</th>\n      <th>성별</th>\n      <th>국어</th>\n      <th>영어</th>\n      <th>수학</th>\n      <th>과학</th>\n    </tr>\n    <tr>\n      <th>이름</th>\n      <th></th>\n      <th></th>\n      <th></th>\n      <th></th>\n      <th></th>\n      <th></th>\n    </tr>\n  </thead>\n  <tbody>\n    <tr>\n      <th>영희</th>\n      <td>2</td>\n      <td>여자</td>\n      <td>88</td>\n      <td>90.0</td>\n      <td>62.0</td>\n      <td>72.0</td>\n    </tr>\n    <tr>\n      <th>수현</th>\n      <td>3</td>\n      <td>여자</td>\n      <td>63</td>\n      <td>60.0</td>\n      <td>31.0</td>\n      <td>70.0</td>\n    </tr>\n  </tbody>\n</table>\n</div>"
     },
     "metadata": {},
     "output_type": "display_data"
    }
   ],
   "source": [
    "# 결측치가 포함된 모든 행을 제거함\n",
    "df2 = df1.copy()\n",
    "\n",
    "display(df2)\n",
    "\n",
    "df2.dropna(inplace=True)\n",
    "\n",
    "display(df2)"
   ],
   "metadata": {
    "collapsed": false
   }
  },
  {
   "cell_type": "code",
   "execution_count": 13,
   "outputs": [
    {
     "data": {
      "text/plain": "    학년  성별   국어    영어    수학    과학\n이름                               \n철수   1  남자   98   NaN  88.0  64.0\n영희   2  여자   88  90.0  62.0  72.0\n민수   1  남자   92  70.0   NaN   NaN\n수현   3  여자   63  60.0  31.0  70.0\n호영   4  남자  120  50.0   NaN  88.0",
      "text/html": "<div>\n<style scoped>\n    .dataframe tbody tr th:only-of-type {\n        vertical-align: middle;\n    }\n\n    .dataframe tbody tr th {\n        vertical-align: top;\n    }\n\n    .dataframe thead th {\n        text-align: right;\n    }\n</style>\n<table border=\"1\" class=\"dataframe\">\n  <thead>\n    <tr style=\"text-align: right;\">\n      <th></th>\n      <th>학년</th>\n      <th>성별</th>\n      <th>국어</th>\n      <th>영어</th>\n      <th>수학</th>\n      <th>과학</th>\n    </tr>\n    <tr>\n      <th>이름</th>\n      <th></th>\n      <th></th>\n      <th></th>\n      <th></th>\n      <th></th>\n      <th></th>\n    </tr>\n  </thead>\n  <tbody>\n    <tr>\n      <th>철수</th>\n      <td>1</td>\n      <td>남자</td>\n      <td>98</td>\n      <td>NaN</td>\n      <td>88.0</td>\n      <td>64.0</td>\n    </tr>\n    <tr>\n      <th>영희</th>\n      <td>2</td>\n      <td>여자</td>\n      <td>88</td>\n      <td>90.0</td>\n      <td>62.0</td>\n      <td>72.0</td>\n    </tr>\n    <tr>\n      <th>민수</th>\n      <td>1</td>\n      <td>남자</td>\n      <td>92</td>\n      <td>70.0</td>\n      <td>NaN</td>\n      <td>NaN</td>\n    </tr>\n    <tr>\n      <th>수현</th>\n      <td>3</td>\n      <td>여자</td>\n      <td>63</td>\n      <td>60.0</td>\n      <td>31.0</td>\n      <td>70.0</td>\n    </tr>\n    <tr>\n      <th>호영</th>\n      <td>4</td>\n      <td>남자</td>\n      <td>120</td>\n      <td>50.0</td>\n      <td>NaN</td>\n      <td>88.0</td>\n    </tr>\n  </tbody>\n</table>\n</div>"
     },
     "metadata": {},
     "output_type": "display_data"
    },
    {
     "data": {
      "text/plain": "    학년  성별  국어    영어    수학    과학\n이름                              \n철수   1  남자  98   NaN  88.0  64.0\n영희   2  여자  88  90.0  62.0  72.0\n수현   3  여자  63  60.0  31.0  70.0",
      "text/html": "<div>\n<style scoped>\n    .dataframe tbody tr th:only-of-type {\n        vertical-align: middle;\n    }\n\n    .dataframe tbody tr th {\n        vertical-align: top;\n    }\n\n    .dataframe thead th {\n        text-align: right;\n    }\n</style>\n<table border=\"1\" class=\"dataframe\">\n  <thead>\n    <tr style=\"text-align: right;\">\n      <th></th>\n      <th>학년</th>\n      <th>성별</th>\n      <th>국어</th>\n      <th>영어</th>\n      <th>수학</th>\n      <th>과학</th>\n    </tr>\n    <tr>\n      <th>이름</th>\n      <th></th>\n      <th></th>\n      <th></th>\n      <th></th>\n      <th></th>\n      <th></th>\n    </tr>\n  </thead>\n  <tbody>\n    <tr>\n      <th>철수</th>\n      <td>1</td>\n      <td>남자</td>\n      <td>98</td>\n      <td>NaN</td>\n      <td>88.0</td>\n      <td>64.0</td>\n    </tr>\n    <tr>\n      <th>영희</th>\n      <td>2</td>\n      <td>여자</td>\n      <td>88</td>\n      <td>90.0</td>\n      <td>62.0</td>\n      <td>72.0</td>\n    </tr>\n    <tr>\n      <th>수현</th>\n      <td>3</td>\n      <td>여자</td>\n      <td>63</td>\n      <td>60.0</td>\n      <td>31.0</td>\n      <td>70.0</td>\n    </tr>\n  </tbody>\n</table>\n</div>"
     },
     "metadata": {},
     "output_type": "display_data"
    }
   ],
   "source": [
    "# 결측치 존재 여부를 확인할 컬럼을 지정\n",
    "# 지정하지 않은 컬럼은 결측치 존재 여부를 확인하지 않음\n",
    "df2 = df1.copy()\n",
    "\n",
    "display(df2)\n",
    "\n",
    "df2.dropna(subset=['수학', '과학'], inplace=True)\n",
    "\n",
    "display(df2)"
   ],
   "metadata": {
    "collapsed": false
   }
  },
  {
   "cell_type": "code",
   "execution_count": 16,
   "outputs": [
    {
     "data": {
      "text/plain": "     학년   성별     국어    영어    수학    과학\n이름                                   \n철수  1.0   남자   98.0   NaN  88.0  64.0\n영희  2.0   여자   88.0  90.0  62.0  72.0\n민수  1.0   남자   92.0  70.0   NaN   NaN\n수현  3.0   여자   63.0  60.0  31.0  70.0\n호영  4.0   남자  120.0  50.0   NaN  88.0\n길동  NaN  NaN    NaN   NaN   NaN   NaN",
      "text/html": "<div>\n<style scoped>\n    .dataframe tbody tr th:only-of-type {\n        vertical-align: middle;\n    }\n\n    .dataframe tbody tr th {\n        vertical-align: top;\n    }\n\n    .dataframe thead th {\n        text-align: right;\n    }\n</style>\n<table border=\"1\" class=\"dataframe\">\n  <thead>\n    <tr style=\"text-align: right;\">\n      <th></th>\n      <th>학년</th>\n      <th>성별</th>\n      <th>국어</th>\n      <th>영어</th>\n      <th>수학</th>\n      <th>과학</th>\n    </tr>\n    <tr>\n      <th>이름</th>\n      <th></th>\n      <th></th>\n      <th></th>\n      <th></th>\n      <th></th>\n      <th></th>\n    </tr>\n  </thead>\n  <tbody>\n    <tr>\n      <th>철수</th>\n      <td>1.0</td>\n      <td>남자</td>\n      <td>98.0</td>\n      <td>NaN</td>\n      <td>88.0</td>\n      <td>64.0</td>\n    </tr>\n    <tr>\n      <th>영희</th>\n      <td>2.0</td>\n      <td>여자</td>\n      <td>88.0</td>\n      <td>90.0</td>\n      <td>62.0</td>\n      <td>72.0</td>\n    </tr>\n    <tr>\n      <th>민수</th>\n      <td>1.0</td>\n      <td>남자</td>\n      <td>92.0</td>\n      <td>70.0</td>\n      <td>NaN</td>\n      <td>NaN</td>\n    </tr>\n    <tr>\n      <th>수현</th>\n      <td>3.0</td>\n      <td>여자</td>\n      <td>63.0</td>\n      <td>60.0</td>\n      <td>31.0</td>\n      <td>70.0</td>\n    </tr>\n    <tr>\n      <th>호영</th>\n      <td>4.0</td>\n      <td>남자</td>\n      <td>120.0</td>\n      <td>50.0</td>\n      <td>NaN</td>\n      <td>88.0</td>\n    </tr>\n    <tr>\n      <th>길동</th>\n      <td>NaN</td>\n      <td>NaN</td>\n      <td>NaN</td>\n      <td>NaN</td>\n      <td>NaN</td>\n      <td>NaN</td>\n    </tr>\n  </tbody>\n</table>\n</div>"
     },
     "metadata": {},
     "output_type": "display_data"
    },
    {
     "data": {
      "text/plain": "     학년  성별     국어    영어    수학    과학\n이름                                  \n철수  1.0  남자   98.0   NaN  88.0  64.0\n영희  2.0  여자   88.0  90.0  62.0  72.0\n민수  1.0  남자   92.0  70.0   NaN   NaN\n수현  3.0  여자   63.0  60.0  31.0  70.0\n호영  4.0  남자  120.0  50.0   NaN  88.0",
      "text/html": "<div>\n<style scoped>\n    .dataframe tbody tr th:only-of-type {\n        vertical-align: middle;\n    }\n\n    .dataframe tbody tr th {\n        vertical-align: top;\n    }\n\n    .dataframe thead th {\n        text-align: right;\n    }\n</style>\n<table border=\"1\" class=\"dataframe\">\n  <thead>\n    <tr style=\"text-align: right;\">\n      <th></th>\n      <th>학년</th>\n      <th>성별</th>\n      <th>국어</th>\n      <th>영어</th>\n      <th>수학</th>\n      <th>과학</th>\n    </tr>\n    <tr>\n      <th>이름</th>\n      <th></th>\n      <th></th>\n      <th></th>\n      <th></th>\n      <th></th>\n      <th></th>\n    </tr>\n  </thead>\n  <tbody>\n    <tr>\n      <th>철수</th>\n      <td>1.0</td>\n      <td>남자</td>\n      <td>98.0</td>\n      <td>NaN</td>\n      <td>88.0</td>\n      <td>64.0</td>\n    </tr>\n    <tr>\n      <th>영희</th>\n      <td>2.0</td>\n      <td>여자</td>\n      <td>88.0</td>\n      <td>90.0</td>\n      <td>62.0</td>\n      <td>72.0</td>\n    </tr>\n    <tr>\n      <th>민수</th>\n      <td>1.0</td>\n      <td>남자</td>\n      <td>92.0</td>\n      <td>70.0</td>\n      <td>NaN</td>\n      <td>NaN</td>\n    </tr>\n    <tr>\n      <th>수현</th>\n      <td>3.0</td>\n      <td>여자</td>\n      <td>63.0</td>\n      <td>60.0</td>\n      <td>31.0</td>\n      <td>70.0</td>\n    </tr>\n    <tr>\n      <th>호영</th>\n      <td>4.0</td>\n      <td>남자</td>\n      <td>120.0</td>\n      <td>50.0</td>\n      <td>NaN</td>\n      <td>88.0</td>\n    </tr>\n  </tbody>\n</table>\n</div>"
     },
     "metadata": {},
     "output_type": "display_data"
    }
   ],
   "source": [
    "# 모든 컬럼이 결측치로 되어 있는 행을 제거함\n",
    "df2 = df1.copy()\n",
    "\n",
    "df2.loc['길동'] = [np.nan, np.nan, np.nan, np.nan, np.nan, np.nan]\n",
    "\n",
    "display(df2)\n",
    "\n",
    "df2.dropna(how='all', inplace=True)\n",
    "\n",
    "display(df2)"
   ],
   "metadata": {
    "collapsed": false
   }
  },
  {
   "cell_type": "code",
   "execution_count": 17,
   "outputs": [
    {
     "data": {
      "text/plain": "    학년  성별   국어    영어    수학    과학\n이름                               \n철수   1  남자   98   NaN  88.0  64.0\n영희   2  여자   88  90.0  62.0  72.0\n민수   1  남자   92  70.0   NaN   NaN\n수현   3  여자   63  60.0  31.0  70.0\n호영   4  남자  120  50.0   NaN  88.0",
      "text/html": "<div>\n<style scoped>\n    .dataframe tbody tr th:only-of-type {\n        vertical-align: middle;\n    }\n\n    .dataframe tbody tr th {\n        vertical-align: top;\n    }\n\n    .dataframe thead th {\n        text-align: right;\n    }\n</style>\n<table border=\"1\" class=\"dataframe\">\n  <thead>\n    <tr style=\"text-align: right;\">\n      <th></th>\n      <th>학년</th>\n      <th>성별</th>\n      <th>국어</th>\n      <th>영어</th>\n      <th>수학</th>\n      <th>과학</th>\n    </tr>\n    <tr>\n      <th>이름</th>\n      <th></th>\n      <th></th>\n      <th></th>\n      <th></th>\n      <th></th>\n      <th></th>\n    </tr>\n  </thead>\n  <tbody>\n    <tr>\n      <th>철수</th>\n      <td>1</td>\n      <td>남자</td>\n      <td>98</td>\n      <td>NaN</td>\n      <td>88.0</td>\n      <td>64.0</td>\n    </tr>\n    <tr>\n      <th>영희</th>\n      <td>2</td>\n      <td>여자</td>\n      <td>88</td>\n      <td>90.0</td>\n      <td>62.0</td>\n      <td>72.0</td>\n    </tr>\n    <tr>\n      <th>민수</th>\n      <td>1</td>\n      <td>남자</td>\n      <td>92</td>\n      <td>70.0</td>\n      <td>NaN</td>\n      <td>NaN</td>\n    </tr>\n    <tr>\n      <th>수현</th>\n      <td>3</td>\n      <td>여자</td>\n      <td>63</td>\n      <td>60.0</td>\n      <td>31.0</td>\n      <td>70.0</td>\n    </tr>\n    <tr>\n      <th>호영</th>\n      <td>4</td>\n      <td>남자</td>\n      <td>120</td>\n      <td>50.0</td>\n      <td>NaN</td>\n      <td>88.0</td>\n    </tr>\n  </tbody>\n</table>\n</div>"
     },
     "metadata": {},
     "output_type": "display_data"
    },
    {
     "data": {
      "text/plain": "    학년  성별   국어\n이름             \n철수   1  남자   98\n영희   2  여자   88\n민수   1  남자   92\n수현   3  여자   63\n호영   4  남자  120",
      "text/html": "<div>\n<style scoped>\n    .dataframe tbody tr th:only-of-type {\n        vertical-align: middle;\n    }\n\n    .dataframe tbody tr th {\n        vertical-align: top;\n    }\n\n    .dataframe thead th {\n        text-align: right;\n    }\n</style>\n<table border=\"1\" class=\"dataframe\">\n  <thead>\n    <tr style=\"text-align: right;\">\n      <th></th>\n      <th>학년</th>\n      <th>성별</th>\n      <th>국어</th>\n    </tr>\n    <tr>\n      <th>이름</th>\n      <th></th>\n      <th></th>\n      <th></th>\n    </tr>\n  </thead>\n  <tbody>\n    <tr>\n      <th>철수</th>\n      <td>1</td>\n      <td>남자</td>\n      <td>98</td>\n    </tr>\n    <tr>\n      <th>영희</th>\n      <td>2</td>\n      <td>여자</td>\n      <td>88</td>\n    </tr>\n    <tr>\n      <th>민수</th>\n      <td>1</td>\n      <td>남자</td>\n      <td>92</td>\n    </tr>\n    <tr>\n      <th>수현</th>\n      <td>3</td>\n      <td>여자</td>\n      <td>63</td>\n    </tr>\n    <tr>\n      <th>호영</th>\n      <td>4</td>\n      <td>남자</td>\n      <td>120</td>\n    </tr>\n  </tbody>\n</table>\n</div>"
     },
     "metadata": {},
     "output_type": "display_data"
    }
   ],
   "source": [
    "# 결측치를 가지고 있는 모든 컬럼을 제거함\n",
    "df2 = df1.copy()\n",
    "\n",
    "display(df2)\n",
    "\n",
    "df2.dropna(axis=1, inplace=True)\n",
    "\n",
    "display(df2)"
   ],
   "metadata": {
    "collapsed": false
   }
  },
  {
   "cell_type": "code",
   "execution_count": 18,
   "outputs": [
    {
     "data": {
      "text/plain": "    학년  성별   국어    영어    수학    과학\n이름                               \n철수   1  남자   98   NaN  88.0  64.0\n영희   2  여자   88  90.0  62.0  72.0\n민수   1  남자   92  70.0   NaN   NaN\n수현   3  여자   63  60.0  31.0  70.0\n호영   4  남자  120  50.0   NaN  88.0",
      "text/html": "<div>\n<style scoped>\n    .dataframe tbody tr th:only-of-type {\n        vertical-align: middle;\n    }\n\n    .dataframe tbody tr th {\n        vertical-align: top;\n    }\n\n    .dataframe thead th {\n        text-align: right;\n    }\n</style>\n<table border=\"1\" class=\"dataframe\">\n  <thead>\n    <tr style=\"text-align: right;\">\n      <th></th>\n      <th>학년</th>\n      <th>성별</th>\n      <th>국어</th>\n      <th>영어</th>\n      <th>수학</th>\n      <th>과학</th>\n    </tr>\n    <tr>\n      <th>이름</th>\n      <th></th>\n      <th></th>\n      <th></th>\n      <th></th>\n      <th></th>\n      <th></th>\n    </tr>\n  </thead>\n  <tbody>\n    <tr>\n      <th>철수</th>\n      <td>1</td>\n      <td>남자</td>\n      <td>98</td>\n      <td>NaN</td>\n      <td>88.0</td>\n      <td>64.0</td>\n    </tr>\n    <tr>\n      <th>영희</th>\n      <td>2</td>\n      <td>여자</td>\n      <td>88</td>\n      <td>90.0</td>\n      <td>62.0</td>\n      <td>72.0</td>\n    </tr>\n    <tr>\n      <th>민수</th>\n      <td>1</td>\n      <td>남자</td>\n      <td>92</td>\n      <td>70.0</td>\n      <td>NaN</td>\n      <td>NaN</td>\n    </tr>\n    <tr>\n      <th>수현</th>\n      <td>3</td>\n      <td>여자</td>\n      <td>63</td>\n      <td>60.0</td>\n      <td>31.0</td>\n      <td>70.0</td>\n    </tr>\n    <tr>\n      <th>호영</th>\n      <td>4</td>\n      <td>남자</td>\n      <td>120</td>\n      <td>50.0</td>\n      <td>NaN</td>\n      <td>88.0</td>\n    </tr>\n  </tbody>\n</table>\n</div>"
     },
     "metadata": {},
     "output_type": "display_data"
    },
    {
     "data": {
      "text/plain": "    학년  성별   국어    수학    과학\n이름                         \n철수   1  남자   98  88.0  64.0\n영희   2  여자   88  62.0  72.0\n민수   1  남자   92   NaN   NaN\n수현   3  여자   63  31.0  70.0\n호영   4  남자  120   NaN  88.0",
      "text/html": "<div>\n<style scoped>\n    .dataframe tbody tr th:only-of-type {\n        vertical-align: middle;\n    }\n\n    .dataframe tbody tr th {\n        vertical-align: top;\n    }\n\n    .dataframe thead th {\n        text-align: right;\n    }\n</style>\n<table border=\"1\" class=\"dataframe\">\n  <thead>\n    <tr style=\"text-align: right;\">\n      <th></th>\n      <th>학년</th>\n      <th>성별</th>\n      <th>국어</th>\n      <th>수학</th>\n      <th>과학</th>\n    </tr>\n    <tr>\n      <th>이름</th>\n      <th></th>\n      <th></th>\n      <th></th>\n      <th></th>\n      <th></th>\n    </tr>\n  </thead>\n  <tbody>\n    <tr>\n      <th>철수</th>\n      <td>1</td>\n      <td>남자</td>\n      <td>98</td>\n      <td>88.0</td>\n      <td>64.0</td>\n    </tr>\n    <tr>\n      <th>영희</th>\n      <td>2</td>\n      <td>여자</td>\n      <td>88</td>\n      <td>62.0</td>\n      <td>72.0</td>\n    </tr>\n    <tr>\n      <th>민수</th>\n      <td>1</td>\n      <td>남자</td>\n      <td>92</td>\n      <td>NaN</td>\n      <td>NaN</td>\n    </tr>\n    <tr>\n      <th>수현</th>\n      <td>3</td>\n      <td>여자</td>\n      <td>63</td>\n      <td>31.0</td>\n      <td>70.0</td>\n    </tr>\n    <tr>\n      <th>호영</th>\n      <td>4</td>\n      <td>남자</td>\n      <td>120</td>\n      <td>NaN</td>\n      <td>88.0</td>\n    </tr>\n  </tbody>\n</table>\n</div>"
     },
     "metadata": {},
     "output_type": "display_data"
    }
   ],
   "source": [
    "# 일부 행을 지정하여 그 행에 결측치가 있는 컬럼을 제거함\n",
    "df2 = df1.copy()\n",
    "\n",
    "display(df2)\n",
    "\n",
    "df2.dropna(axis=1, inplace=True, subset=['철수','영희'])\n",
    "\n",
    "display(df2)"
   ],
   "metadata": {
    "collapsed": false
   }
  },
  {
   "cell_type": "code",
   "execution_count": 20,
   "outputs": [
    {
     "data": {
      "text/plain": "    학년  성별   국어    영어    수학    과학  한국사\n이름                                    \n철수   1  남자   98   NaN  88.0  64.0  NaN\n영희   2  여자   88  90.0  62.0  72.0  NaN\n민수   1  남자   92  70.0   NaN   NaN  NaN\n수현   3  여자   63  60.0  31.0  70.0  NaN\n호영   4  남자  120  50.0   NaN  88.0  NaN",
      "text/html": "<div>\n<style scoped>\n    .dataframe tbody tr th:only-of-type {\n        vertical-align: middle;\n    }\n\n    .dataframe tbody tr th {\n        vertical-align: top;\n    }\n\n    .dataframe thead th {\n        text-align: right;\n    }\n</style>\n<table border=\"1\" class=\"dataframe\">\n  <thead>\n    <tr style=\"text-align: right;\">\n      <th></th>\n      <th>학년</th>\n      <th>성별</th>\n      <th>국어</th>\n      <th>영어</th>\n      <th>수학</th>\n      <th>과학</th>\n      <th>한국사</th>\n    </tr>\n    <tr>\n      <th>이름</th>\n      <th></th>\n      <th></th>\n      <th></th>\n      <th></th>\n      <th></th>\n      <th></th>\n      <th></th>\n    </tr>\n  </thead>\n  <tbody>\n    <tr>\n      <th>철수</th>\n      <td>1</td>\n      <td>남자</td>\n      <td>98</td>\n      <td>NaN</td>\n      <td>88.0</td>\n      <td>64.0</td>\n      <td>NaN</td>\n    </tr>\n    <tr>\n      <th>영희</th>\n      <td>2</td>\n      <td>여자</td>\n      <td>88</td>\n      <td>90.0</td>\n      <td>62.0</td>\n      <td>72.0</td>\n      <td>NaN</td>\n    </tr>\n    <tr>\n      <th>민수</th>\n      <td>1</td>\n      <td>남자</td>\n      <td>92</td>\n      <td>70.0</td>\n      <td>NaN</td>\n      <td>NaN</td>\n      <td>NaN</td>\n    </tr>\n    <tr>\n      <th>수현</th>\n      <td>3</td>\n      <td>여자</td>\n      <td>63</td>\n      <td>60.0</td>\n      <td>31.0</td>\n      <td>70.0</td>\n      <td>NaN</td>\n    </tr>\n    <tr>\n      <th>호영</th>\n      <td>4</td>\n      <td>남자</td>\n      <td>120</td>\n      <td>50.0</td>\n      <td>NaN</td>\n      <td>88.0</td>\n      <td>NaN</td>\n    </tr>\n  </tbody>\n</table>\n</div>"
     },
     "metadata": {},
     "output_type": "display_data"
    },
    {
     "data": {
      "text/plain": "    학년  성별   국어    영어    수학    과학\n이름                               \n철수   1  남자   98   NaN  88.0  64.0\n영희   2  여자   88  90.0  62.0  72.0\n민수   1  남자   92  70.0   NaN   NaN\n수현   3  여자   63  60.0  31.0  70.0\n호영   4  남자  120  50.0   NaN  88.0",
      "text/html": "<div>\n<style scoped>\n    .dataframe tbody tr th:only-of-type {\n        vertical-align: middle;\n    }\n\n    .dataframe tbody tr th {\n        vertical-align: top;\n    }\n\n    .dataframe thead th {\n        text-align: right;\n    }\n</style>\n<table border=\"1\" class=\"dataframe\">\n  <thead>\n    <tr style=\"text-align: right;\">\n      <th></th>\n      <th>학년</th>\n      <th>성별</th>\n      <th>국어</th>\n      <th>영어</th>\n      <th>수학</th>\n      <th>과학</th>\n    </tr>\n    <tr>\n      <th>이름</th>\n      <th></th>\n      <th></th>\n      <th></th>\n      <th></th>\n      <th></th>\n      <th></th>\n    </tr>\n  </thead>\n  <tbody>\n    <tr>\n      <th>철수</th>\n      <td>1</td>\n      <td>남자</td>\n      <td>98</td>\n      <td>NaN</td>\n      <td>88.0</td>\n      <td>64.0</td>\n    </tr>\n    <tr>\n      <th>영희</th>\n      <td>2</td>\n      <td>여자</td>\n      <td>88</td>\n      <td>90.0</td>\n      <td>62.0</td>\n      <td>72.0</td>\n    </tr>\n    <tr>\n      <th>민수</th>\n      <td>1</td>\n      <td>남자</td>\n      <td>92</td>\n      <td>70.0</td>\n      <td>NaN</td>\n      <td>NaN</td>\n    </tr>\n    <tr>\n      <th>수현</th>\n      <td>3</td>\n      <td>여자</td>\n      <td>63</td>\n      <td>60.0</td>\n      <td>31.0</td>\n      <td>70.0</td>\n    </tr>\n    <tr>\n      <th>호영</th>\n      <td>4</td>\n      <td>남자</td>\n      <td>120</td>\n      <td>50.0</td>\n      <td>NaN</td>\n      <td>88.0</td>\n    </tr>\n  </tbody>\n</table>\n</div>"
     },
     "metadata": {},
     "output_type": "display_data"
    }
   ],
   "source": [
    "# 모든 행이 결측치로 되어 있는 컬럼을 제거함\n",
    "df2 = df1.copy()\n",
    "\n",
    "df2['한국사'] = [np.nan, np.nan, np.nan, np.nan, np.nan]\n",
    "\n",
    "display(df2)\n",
    "\n",
    "df2.dropna(axis=1, inplace=True, how='all')\n",
    "\n",
    "display(df2)"
   ],
   "metadata": {
    "collapsed": false
   }
  },
  {
   "cell_type": "code",
   "execution_count": 22,
   "outputs": [
    {
     "data": {
      "text/plain": "    학년  성별   국어    영어    수학    과학\n이름                               \n철수   1  남자   98   NaN  88.0  64.0\n영희   2  여자   88  90.0  62.0  72.0\n민수   1  남자   92  70.0   NaN   NaN\n수현   3  여자   63  60.0  31.0  70.0\n호영   4  남자  120  50.0   NaN  88.0",
      "text/html": "<div>\n<style scoped>\n    .dataframe tbody tr th:only-of-type {\n        vertical-align: middle;\n    }\n\n    .dataframe tbody tr th {\n        vertical-align: top;\n    }\n\n    .dataframe thead th {\n        text-align: right;\n    }\n</style>\n<table border=\"1\" class=\"dataframe\">\n  <thead>\n    <tr style=\"text-align: right;\">\n      <th></th>\n      <th>학년</th>\n      <th>성별</th>\n      <th>국어</th>\n      <th>영어</th>\n      <th>수학</th>\n      <th>과학</th>\n    </tr>\n    <tr>\n      <th>이름</th>\n      <th></th>\n      <th></th>\n      <th></th>\n      <th></th>\n      <th></th>\n      <th></th>\n    </tr>\n  </thead>\n  <tbody>\n    <tr>\n      <th>철수</th>\n      <td>1</td>\n      <td>남자</td>\n      <td>98</td>\n      <td>NaN</td>\n      <td>88.0</td>\n      <td>64.0</td>\n    </tr>\n    <tr>\n      <th>영희</th>\n      <td>2</td>\n      <td>여자</td>\n      <td>88</td>\n      <td>90.0</td>\n      <td>62.0</td>\n      <td>72.0</td>\n    </tr>\n    <tr>\n      <th>민수</th>\n      <td>1</td>\n      <td>남자</td>\n      <td>92</td>\n      <td>70.0</td>\n      <td>NaN</td>\n      <td>NaN</td>\n    </tr>\n    <tr>\n      <th>수현</th>\n      <td>3</td>\n      <td>여자</td>\n      <td>63</td>\n      <td>60.0</td>\n      <td>31.0</td>\n      <td>70.0</td>\n    </tr>\n    <tr>\n      <th>호영</th>\n      <td>4</td>\n      <td>남자</td>\n      <td>120</td>\n      <td>50.0</td>\n      <td>NaN</td>\n      <td>88.0</td>\n    </tr>\n  </tbody>\n</table>\n</div>"
     },
     "metadata": {},
     "output_type": "display_data"
    },
    {
     "data": {
      "text/plain": "    학년  성별   국어    영어    수학    과학\n이름                               \n철수   1  남자   98  50.0  88.0  64.0\n영희   2  여자   88  90.0  62.0  72.0\n민수   1  남자   92  70.0  50.0  50.0\n수현   3  여자   63  60.0  31.0  70.0\n호영   4  남자  120  50.0  50.0  88.0",
      "text/html": "<div>\n<style scoped>\n    .dataframe tbody tr th:only-of-type {\n        vertical-align: middle;\n    }\n\n    .dataframe tbody tr th {\n        vertical-align: top;\n    }\n\n    .dataframe thead th {\n        text-align: right;\n    }\n</style>\n<table border=\"1\" class=\"dataframe\">\n  <thead>\n    <tr style=\"text-align: right;\">\n      <th></th>\n      <th>학년</th>\n      <th>성별</th>\n      <th>국어</th>\n      <th>영어</th>\n      <th>수학</th>\n      <th>과학</th>\n    </tr>\n    <tr>\n      <th>이름</th>\n      <th></th>\n      <th></th>\n      <th></th>\n      <th></th>\n      <th></th>\n      <th></th>\n    </tr>\n  </thead>\n  <tbody>\n    <tr>\n      <th>철수</th>\n      <td>1</td>\n      <td>남자</td>\n      <td>98</td>\n      <td>50.0</td>\n      <td>88.0</td>\n      <td>64.0</td>\n    </tr>\n    <tr>\n      <th>영희</th>\n      <td>2</td>\n      <td>여자</td>\n      <td>88</td>\n      <td>90.0</td>\n      <td>62.0</td>\n      <td>72.0</td>\n    </tr>\n    <tr>\n      <th>민수</th>\n      <td>1</td>\n      <td>남자</td>\n      <td>92</td>\n      <td>70.0</td>\n      <td>50.0</td>\n      <td>50.0</td>\n    </tr>\n    <tr>\n      <th>수현</th>\n      <td>3</td>\n      <td>여자</td>\n      <td>63</td>\n      <td>60.0</td>\n      <td>31.0</td>\n      <td>70.0</td>\n    </tr>\n    <tr>\n      <th>호영</th>\n      <td>4</td>\n      <td>남자</td>\n      <td>120</td>\n      <td>50.0</td>\n      <td>50.0</td>\n      <td>88.0</td>\n    </tr>\n  </tbody>\n</table>\n</div>"
     },
     "metadata": {},
     "output_type": "display_data"
    }
   ],
   "source": [
    "# 데이터프레임의 모든 결측치를 지정한 값으로 설정함\n",
    "df2 = df1.copy()\n",
    "\n",
    "display(df2)\n",
    "\n",
    "df2.fillna(value=50, inplace=True)\n",
    "\n",
    "display(df2)"
   ],
   "metadata": {
    "collapsed": false
   }
  },
  {
   "cell_type": "code",
   "execution_count": 24,
   "outputs": [
    {
     "data": {
      "text/plain": "    학년  성별   국어    영어    수학    과학\n이름                               \n철수   1  남자   98   NaN  88.0  64.0\n영희   2  여자   88  90.0  62.0  72.0\n민수   1  남자   92  70.0   NaN   NaN\n수현   3  여자   63  60.0  31.0  70.0\n호영   4  남자  120  50.0   NaN  88.0",
      "text/html": "<div>\n<style scoped>\n    .dataframe tbody tr th:only-of-type {\n        vertical-align: middle;\n    }\n\n    .dataframe tbody tr th {\n        vertical-align: top;\n    }\n\n    .dataframe thead th {\n        text-align: right;\n    }\n</style>\n<table border=\"1\" class=\"dataframe\">\n  <thead>\n    <tr style=\"text-align: right;\">\n      <th></th>\n      <th>학년</th>\n      <th>성별</th>\n      <th>국어</th>\n      <th>영어</th>\n      <th>수학</th>\n      <th>과학</th>\n    </tr>\n    <tr>\n      <th>이름</th>\n      <th></th>\n      <th></th>\n      <th></th>\n      <th></th>\n      <th></th>\n      <th></th>\n    </tr>\n  </thead>\n  <tbody>\n    <tr>\n      <th>철수</th>\n      <td>1</td>\n      <td>남자</td>\n      <td>98</td>\n      <td>NaN</td>\n      <td>88.0</td>\n      <td>64.0</td>\n    </tr>\n    <tr>\n      <th>영희</th>\n      <td>2</td>\n      <td>여자</td>\n      <td>88</td>\n      <td>90.0</td>\n      <td>62.0</td>\n      <td>72.0</td>\n    </tr>\n    <tr>\n      <th>민수</th>\n      <td>1</td>\n      <td>남자</td>\n      <td>92</td>\n      <td>70.0</td>\n      <td>NaN</td>\n      <td>NaN</td>\n    </tr>\n    <tr>\n      <th>수현</th>\n      <td>3</td>\n      <td>여자</td>\n      <td>63</td>\n      <td>60.0</td>\n      <td>31.0</td>\n      <td>70.0</td>\n    </tr>\n    <tr>\n      <th>호영</th>\n      <td>4</td>\n      <td>남자</td>\n      <td>120</td>\n      <td>50.0</td>\n      <td>NaN</td>\n      <td>88.0</td>\n    </tr>\n  </tbody>\n</table>\n</div>"
     },
     "metadata": {},
     "output_type": "display_data"
    },
    {
     "data": {
      "text/plain": "    학년  성별   국어    영어    수학    과학\n이름                               \n철수   1  남자   98  50.0  88.0  64.0\n영희   2  여자   88  90.0  62.0  72.0\n민수   1  남자   92  70.0  50.0  50.0\n수현   3  여자   63  60.0  31.0  70.0\n호영   4  남자  120  50.0  50.0  88.0",
      "text/html": "<div>\n<style scoped>\n    .dataframe tbody tr th:only-of-type {\n        vertical-align: middle;\n    }\n\n    .dataframe tbody tr th {\n        vertical-align: top;\n    }\n\n    .dataframe thead th {\n        text-align: right;\n    }\n</style>\n<table border=\"1\" class=\"dataframe\">\n  <thead>\n    <tr style=\"text-align: right;\">\n      <th></th>\n      <th>학년</th>\n      <th>성별</th>\n      <th>국어</th>\n      <th>영어</th>\n      <th>수학</th>\n      <th>과학</th>\n    </tr>\n    <tr>\n      <th>이름</th>\n      <th></th>\n      <th></th>\n      <th></th>\n      <th></th>\n      <th></th>\n      <th></th>\n    </tr>\n  </thead>\n  <tbody>\n    <tr>\n      <th>철수</th>\n      <td>1</td>\n      <td>남자</td>\n      <td>98</td>\n      <td>50.0</td>\n      <td>88.0</td>\n      <td>64.0</td>\n    </tr>\n    <tr>\n      <th>영희</th>\n      <td>2</td>\n      <td>여자</td>\n      <td>88</td>\n      <td>90.0</td>\n      <td>62.0</td>\n      <td>72.0</td>\n    </tr>\n    <tr>\n      <th>민수</th>\n      <td>1</td>\n      <td>남자</td>\n      <td>92</td>\n      <td>70.0</td>\n      <td>50.0</td>\n      <td>50.0</td>\n    </tr>\n    <tr>\n      <th>수현</th>\n      <td>3</td>\n      <td>여자</td>\n      <td>63</td>\n      <td>60.0</td>\n      <td>31.0</td>\n      <td>70.0</td>\n    </tr>\n    <tr>\n      <th>호영</th>\n      <td>4</td>\n      <td>남자</td>\n      <td>120</td>\n      <td>50.0</td>\n      <td>50.0</td>\n      <td>88.0</td>\n    </tr>\n  </tbody>\n</table>\n</div>"
     },
     "metadata": {},
     "output_type": "display_data"
    }
   ],
   "source": [
    "# 컬럼별로 결측치를 대치\n",
    "df2 = df1.copy()\n",
    "\n",
    "display(df2)\n",
    "\n",
    "# Series를 추출해 결측치를 채워주면(inplace=True를 넣었다면)\n",
    "# 원본 데이터프레임에 반영을 해줌\n",
    "df2['영어'].fillna(value=50, inplace=True)\n",
    "df2['수학'].fillna(value=50, inplace=True)\n",
    "df2['과학'].fillna(value=50, inplace=True)\n",
    "\n",
    "display(df2)"
   ],
   "metadata": {
    "collapsed": false
   }
  },
  {
   "cell_type": "code",
   "execution_count": 26,
   "outputs": [
    {
     "data": {
      "text/plain": "    학년  성별   국어    영어    수학    과학\n이름                               \n철수   1  남자   98   NaN  88.0  64.0\n영희   2  여자   88  90.0  62.0  72.0\n민수   1  남자   92  70.0   NaN   NaN\n수현   3  여자   63  60.0  31.0  70.0\n호영   4  남자  120  50.0   NaN  88.0",
      "text/html": "<div>\n<style scoped>\n    .dataframe tbody tr th:only-of-type {\n        vertical-align: middle;\n    }\n\n    .dataframe tbody tr th {\n        vertical-align: top;\n    }\n\n    .dataframe thead th {\n        text-align: right;\n    }\n</style>\n<table border=\"1\" class=\"dataframe\">\n  <thead>\n    <tr style=\"text-align: right;\">\n      <th></th>\n      <th>학년</th>\n      <th>성별</th>\n      <th>국어</th>\n      <th>영어</th>\n      <th>수학</th>\n      <th>과학</th>\n    </tr>\n    <tr>\n      <th>이름</th>\n      <th></th>\n      <th></th>\n      <th></th>\n      <th></th>\n      <th></th>\n      <th></th>\n    </tr>\n  </thead>\n  <tbody>\n    <tr>\n      <th>철수</th>\n      <td>1</td>\n      <td>남자</td>\n      <td>98</td>\n      <td>NaN</td>\n      <td>88.0</td>\n      <td>64.0</td>\n    </tr>\n    <tr>\n      <th>영희</th>\n      <td>2</td>\n      <td>여자</td>\n      <td>88</td>\n      <td>90.0</td>\n      <td>62.0</td>\n      <td>72.0</td>\n    </tr>\n    <tr>\n      <th>민수</th>\n      <td>1</td>\n      <td>남자</td>\n      <td>92</td>\n      <td>70.0</td>\n      <td>NaN</td>\n      <td>NaN</td>\n    </tr>\n    <tr>\n      <th>수현</th>\n      <td>3</td>\n      <td>여자</td>\n      <td>63</td>\n      <td>60.0</td>\n      <td>31.0</td>\n      <td>70.0</td>\n    </tr>\n    <tr>\n      <th>호영</th>\n      <td>4</td>\n      <td>남자</td>\n      <td>120</td>\n      <td>50.0</td>\n      <td>NaN</td>\n      <td>88.0</td>\n    </tr>\n  </tbody>\n</table>\n</div>"
     },
     "metadata": {},
     "output_type": "display_data"
    },
    {
     "data": {
      "text/plain": "    학년  성별   국어    영어    수학    과학\n이름                               \n철수   1  남자   98  50.0  88.0  64.0\n영희   2  여자   88  90.0  62.0  72.0\n민수   1  남자   92  70.0  60.0  60.0\n수현   3  여자   63  60.0  31.0  70.0\n호영   4  남자  120  50.0  70.0  88.0",
      "text/html": "<div>\n<style scoped>\n    .dataframe tbody tr th:only-of-type {\n        vertical-align: middle;\n    }\n\n    .dataframe tbody tr th {\n        vertical-align: top;\n    }\n\n    .dataframe thead th {\n        text-align: right;\n    }\n</style>\n<table border=\"1\" class=\"dataframe\">\n  <thead>\n    <tr style=\"text-align: right;\">\n      <th></th>\n      <th>학년</th>\n      <th>성별</th>\n      <th>국어</th>\n      <th>영어</th>\n      <th>수학</th>\n      <th>과학</th>\n    </tr>\n    <tr>\n      <th>이름</th>\n      <th></th>\n      <th></th>\n      <th></th>\n      <th></th>\n      <th></th>\n      <th></th>\n    </tr>\n  </thead>\n  <tbody>\n    <tr>\n      <th>철수</th>\n      <td>1</td>\n      <td>남자</td>\n      <td>98</td>\n      <td>50.0</td>\n      <td>88.0</td>\n      <td>64.0</td>\n    </tr>\n    <tr>\n      <th>영희</th>\n      <td>2</td>\n      <td>여자</td>\n      <td>88</td>\n      <td>90.0</td>\n      <td>62.0</td>\n      <td>72.0</td>\n    </tr>\n    <tr>\n      <th>민수</th>\n      <td>1</td>\n      <td>남자</td>\n      <td>92</td>\n      <td>70.0</td>\n      <td>60.0</td>\n      <td>60.0</td>\n    </tr>\n    <tr>\n      <th>수현</th>\n      <td>3</td>\n      <td>여자</td>\n      <td>63</td>\n      <td>60.0</td>\n      <td>31.0</td>\n      <td>70.0</td>\n    </tr>\n    <tr>\n      <th>호영</th>\n      <td>4</td>\n      <td>남자</td>\n      <td>120</td>\n      <td>50.0</td>\n      <td>70.0</td>\n      <td>88.0</td>\n    </tr>\n  </tbody>\n</table>\n</div>"
     },
     "metadata": {},
     "output_type": "display_data"
    }
   ],
   "source": [
    "# 행별로 결측치를 채워줌\n",
    "df2 = df1.copy()\n",
    "\n",
    "display(df2)\n",
    "\n",
    "# 아래의 경우에는 원본 데이터프레임에 반영이 되지 않음\n",
    "# df2.loc['철수'].fillna(value=50, inplace=True)\n",
    "# df2.loc['민수'].fillna(value=60, inplace=True)\n",
    "# df2.loc['호영'].fillna(value=70, inplace=True)\n",
    "\n",
    "df2.loc['철수'] = df2.loc['철수'].fillna(value=50)\n",
    "df2.loc['민수'] = df2.loc['민수'].fillna(value=60)\n",
    "df2.loc['호영'] = df2.loc['호영'].fillna(value=70)\n",
    "\n",
    "display(df2)"
   ],
   "metadata": {
    "collapsed": false
   }
  },
  {
   "cell_type": "markdown",
   "source": [
    "### 이상치\n",
    "- 이상한 데이터\n",
    "- 사회 통념상 상식적이지 않은 값들\n",
    "- 데이터 명세서에 나와 있는 값 혹은 범위에 위배되는 값들\n",
    "- 극단치는 이상치일 가능성이 있음\n",
    "- 극단치: IQR을 통해 계산한 상한과 하단을 벗어난 값들\n",
    "- IQR: 25%~75% 구간"
   ],
   "metadata": {
    "collapsed": false
   }
  },
  {
   "cell_type": "code",
   "execution_count": 27,
   "outputs": [
    {
     "data": {
      "text/plain": "Int64Index([1, 2, 3, 4], dtype='int64')"
     },
     "metadata": {},
     "output_type": "display_data"
    },
    {
     "data": {
      "text/plain": "Index(['남자', '여자'], dtype='object')"
     },
     "metadata": {},
     "output_type": "display_data"
    }
   ],
   "source": [
    "# 카테고리형 데이터는 어떠한 값들이 저장되어 있는지 확인\n",
    "a1 = df1['학년'].value_counts().index\n",
    "a2 = df1['성별'].value_counts().index\n",
    "\n",
    "display(a1)\n",
    "display(a2)"
   ],
   "metadata": {
    "collapsed": false
   }
  },
  {
   "cell_type": "code",
   "execution_count": 28,
   "outputs": [
    {
     "data": {
      "text/plain": "      국어    영어    수학    과학\nmin   63  50.0  31.0  64.0\nmax  120  90.0  88.0  88.0",
      "text/html": "<div>\n<style scoped>\n    .dataframe tbody tr th:only-of-type {\n        vertical-align: middle;\n    }\n\n    .dataframe tbody tr th {\n        vertical-align: top;\n    }\n\n    .dataframe thead th {\n        text-align: right;\n    }\n</style>\n<table border=\"1\" class=\"dataframe\">\n  <thead>\n    <tr style=\"text-align: right;\">\n      <th></th>\n      <th>국어</th>\n      <th>영어</th>\n      <th>수학</th>\n      <th>과학</th>\n    </tr>\n  </thead>\n  <tbody>\n    <tr>\n      <th>min</th>\n      <td>63</td>\n      <td>50.0</td>\n      <td>31.0</td>\n      <td>64.0</td>\n    </tr>\n    <tr>\n      <th>max</th>\n      <td>120</td>\n      <td>90.0</td>\n      <td>88.0</td>\n      <td>88.0</td>\n    </tr>\n  </tbody>\n</table>\n</div>"
     },
     "execution_count": 28,
     "metadata": {},
     "output_type": "execute_result"
    }
   ],
   "source": [
    "# 범위형 데이터의 이상치 확인, 최소와 최대를 구해 범위를 확인\n",
    "a1 = df1[['국어', '영어', '수학', '과학']].agg(['min', 'max'])\n",
    "a1"
   ],
   "metadata": {
    "collapsed": false
   }
  },
  {
   "cell_type": "code",
   "execution_count": 30,
   "outputs": [
    {
     "data": {
      "text/plain": "        국어    영어    수학    과학\nmin   63.0  50.0  31.0  64.0\nmax  120.0  90.0  88.0  88.0",
      "text/html": "<div>\n<style scoped>\n    .dataframe tbody tr th:only-of-type {\n        vertical-align: middle;\n    }\n\n    .dataframe tbody tr th {\n        vertical-align: top;\n    }\n\n    .dataframe thead th {\n        text-align: right;\n    }\n</style>\n<table border=\"1\" class=\"dataframe\">\n  <thead>\n    <tr style=\"text-align: right;\">\n      <th></th>\n      <th>국어</th>\n      <th>영어</th>\n      <th>수학</th>\n      <th>과학</th>\n    </tr>\n  </thead>\n  <tbody>\n    <tr>\n      <th>min</th>\n      <td>63.0</td>\n      <td>50.0</td>\n      <td>31.0</td>\n      <td>64.0</td>\n    </tr>\n    <tr>\n      <th>max</th>\n      <td>120.0</td>\n      <td>90.0</td>\n      <td>88.0</td>\n      <td>88.0</td>\n    </tr>\n  </tbody>\n</table>\n</div>"
     },
     "execution_count": 30,
     "metadata": {},
     "output_type": "execute_result"
    }
   ],
   "source": [
    "# 요약통계 정보를 사용\n",
    "a1 = df1[['국어', '영어', '수학', '과학']].describe()\n",
    "a1.loc[['min', 'max']]"
   ],
   "metadata": {
    "collapsed": false
   }
  },
  {
   "cell_type": "code",
   "execution_count": 32,
   "outputs": [
    {
     "data": {
      "text/plain": "<Figure size 432x288 with 1 Axes>",
      "image/png": "[encoded data removed]"
     },
     "metadata": {
      "needs_background": "light"
     },
     "output_type": "display_data"
    }
   ],
   "source": [
    "# 데이터프레임을 이용한 boxplot\n",
    "plt.rcParams['font.family'] = 'AppleGothic'\n",
    "df1[['국어', '영어', '수학', '과학']].boxplot()\n",
    "plt.show()"
   ],
   "metadata": {
    "collapsed": false
   }
  },
  {
   "cell_type": "markdown",
   "source": [
    "![boxplot](image/1.png)"
   ],
   "metadata": {
    "collapsed": false
   }
  },
  {
   "cell_type": "code",
   "execution_count": 41,
   "outputs": [
    {
     "data": {
      "text/plain": "    학년  성별   국어    영어    수학    과학\n이름                               \n철수   1  남자   98   NaN  88.0  64.0\n영희   2  여자   88  90.0  62.0  72.0\n민수   1  남자   92  70.0   NaN   NaN\n수현   3  여자   63  60.0  31.0  70.0\n호영   4  남자  120  50.0   NaN  88.0",
      "text/html": "<div>\n<style scoped>\n    .dataframe tbody tr th:only-of-type {\n        vertical-align: middle;\n    }\n\n    .dataframe tbody tr th {\n        vertical-align: top;\n    }\n\n    .dataframe thead th {\n        text-align: right;\n    }\n</style>\n<table border=\"1\" class=\"dataframe\">\n  <thead>\n    <tr style=\"text-align: right;\">\n      <th></th>\n      <th>학년</th>\n      <th>성별</th>\n      <th>국어</th>\n      <th>영어</th>\n      <th>수학</th>\n      <th>과학</th>\n    </tr>\n    <tr>\n      <th>이름</th>\n      <th></th>\n      <th></th>\n      <th></th>\n      <th></th>\n      <th></th>\n      <th></th>\n    </tr>\n  </thead>\n  <tbody>\n    <tr>\n      <th>철수</th>\n      <td>1</td>\n      <td>남자</td>\n      <td>98</td>\n      <td>NaN</td>\n      <td>88.0</td>\n      <td>64.0</td>\n    </tr>\n    <tr>\n      <th>영희</th>\n      <td>2</td>\n      <td>여자</td>\n      <td>88</td>\n      <td>90.0</td>\n      <td>62.0</td>\n      <td>72.0</td>\n    </tr>\n    <tr>\n      <th>민수</th>\n      <td>1</td>\n      <td>남자</td>\n      <td>92</td>\n      <td>70.0</td>\n      <td>NaN</td>\n      <td>NaN</td>\n    </tr>\n    <tr>\n      <th>수현</th>\n      <td>3</td>\n      <td>여자</td>\n      <td>63</td>\n      <td>60.0</td>\n      <td>31.0</td>\n      <td>70.0</td>\n    </tr>\n    <tr>\n      <th>호영</th>\n      <td>4</td>\n      <td>남자</td>\n      <td>120</td>\n      <td>50.0</td>\n      <td>NaN</td>\n      <td>88.0</td>\n    </tr>\n  </tbody>\n</table>\n</div>"
     },
     "metadata": {},
     "output_type": "display_data"
    },
    {
     "data": {
      "text/plain": "    학년  성별  국어    영어    수학    과학\n이름                              \n철수   1  남자  98   NaN  88.0  64.0\n영희   2  여자  88  90.0  62.0  72.0\n민수   1  남자  92  70.0   NaN   NaN\n수현   3  여자  63  60.0  31.0  70.0",
      "text/html": "<div>\n<style scoped>\n    .dataframe tbody tr th:only-of-type {\n        vertical-align: middle;\n    }\n\n    .dataframe tbody tr th {\n        vertical-align: top;\n    }\n\n    .dataframe thead th {\n        text-align: right;\n    }\n</style>\n<table border=\"1\" class=\"dataframe\">\n  <thead>\n    <tr style=\"text-align: right;\">\n      <th></th>\n      <th>학년</th>\n      <th>성별</th>\n      <th>국어</th>\n      <th>영어</th>\n      <th>수학</th>\n      <th>과학</th>\n    </tr>\n    <tr>\n      <th>이름</th>\n      <th></th>\n      <th></th>\n      <th></th>\n      <th></th>\n      <th></th>\n      <th></th>\n    </tr>\n  </thead>\n  <tbody>\n    <tr>\n      <th>철수</th>\n      <td>1</td>\n      <td>남자</td>\n      <td>98</td>\n      <td>NaN</td>\n      <td>88.0</td>\n      <td>64.0</td>\n    </tr>\n    <tr>\n      <th>영희</th>\n      <td>2</td>\n      <td>여자</td>\n      <td>88</td>\n      <td>90.0</td>\n      <td>62.0</td>\n      <td>72.0</td>\n    </tr>\n    <tr>\n      <th>민수</th>\n      <td>1</td>\n      <td>남자</td>\n      <td>92</td>\n      <td>70.0</td>\n      <td>NaN</td>\n      <td>NaN</td>\n    </tr>\n    <tr>\n      <th>수현</th>\n      <td>3</td>\n      <td>여자</td>\n      <td>63</td>\n      <td>60.0</td>\n      <td>31.0</td>\n      <td>70.0</td>\n    </tr>\n  </tbody>\n</table>\n</div>"
     },
     "metadata": {},
     "output_type": "display_data"
    }
   ],
   "source": [
    "# 명세서에 위배되는 데이터를 제거\n",
    "# 국어 점수는 0~100까지로 가정\n",
    "# 국어점수가 0보다 작거나 100보다 큰 행들의 index를 가져옴\n",
    "df2 = df1.copy()\n",
    "\n",
    "idx = df1.query('국어 < 0 or 국어 > 100').index\n",
    "\n",
    "# 제거함\n",
    "display(df2)\n",
    "\n",
    "df2.drop(idx, inplace=True)\n",
    "\n",
    "display(df2)"
   ],
   "metadata": {
    "collapsed": false
   }
  },
  {
   "cell_type": "code",
   "execution_count": 42,
   "outputs": [
    {
     "data": {
      "text/plain": "    학년  성별   국어    영어    수학    과학\n이름                               \n철수   1  남자   98   NaN  88.0  64.0\n영희   2  여자   88  90.0  62.0  72.0\n민수   1  남자   92  70.0   NaN   NaN\n수현   3  여자   63  60.0  31.0  70.0\n호영   4  남자  120  50.0   NaN  88.0",
      "text/html": "<div>\n<style scoped>\n    .dataframe tbody tr th:only-of-type {\n        vertical-align: middle;\n    }\n\n    .dataframe tbody tr th {\n        vertical-align: top;\n    }\n\n    .dataframe thead th {\n        text-align: right;\n    }\n</style>\n<table border=\"1\" class=\"dataframe\">\n  <thead>\n    <tr style=\"text-align: right;\">\n      <th></th>\n      <th>학년</th>\n      <th>성별</th>\n      <th>국어</th>\n      <th>영어</th>\n      <th>수학</th>\n      <th>과학</th>\n    </tr>\n    <tr>\n      <th>이름</th>\n      <th></th>\n      <th></th>\n      <th></th>\n      <th></th>\n      <th></th>\n      <th></th>\n    </tr>\n  </thead>\n  <tbody>\n    <tr>\n      <th>철수</th>\n      <td>1</td>\n      <td>남자</td>\n      <td>98</td>\n      <td>NaN</td>\n      <td>88.0</td>\n      <td>64.0</td>\n    </tr>\n    <tr>\n      <th>영희</th>\n      <td>2</td>\n      <td>여자</td>\n      <td>88</td>\n      <td>90.0</td>\n      <td>62.0</td>\n      <td>72.0</td>\n    </tr>\n    <tr>\n      <th>민수</th>\n      <td>1</td>\n      <td>남자</td>\n      <td>92</td>\n      <td>70.0</td>\n      <td>NaN</td>\n      <td>NaN</td>\n    </tr>\n    <tr>\n      <th>수현</th>\n      <td>3</td>\n      <td>여자</td>\n      <td>63</td>\n      <td>60.0</td>\n      <td>31.0</td>\n      <td>70.0</td>\n    </tr>\n    <tr>\n      <th>호영</th>\n      <td>4</td>\n      <td>남자</td>\n      <td>120</td>\n      <td>50.0</td>\n      <td>NaN</td>\n      <td>88.0</td>\n    </tr>\n  </tbody>\n</table>\n</div>"
     },
     "metadata": {},
     "output_type": "display_data"
    },
    {
     "data": {
      "text/plain": "    학년  성별   국어    영어    수학    과학\n이름                               \n철수   1  남자   98   NaN  88.0  64.0\n영희   2  여자   88  90.0  62.0  72.0\n민수   1  남자   92  70.0   NaN   NaN\n수현   3  여자   63  60.0  31.0  70.0\n호영   4  남자  100  50.0   NaN  88.0",
      "text/html": "<div>\n<style scoped>\n    .dataframe tbody tr th:only-of-type {\n        vertical-align: middle;\n    }\n\n    .dataframe tbody tr th {\n        vertical-align: top;\n    }\n\n    .dataframe thead th {\n        text-align: right;\n    }\n</style>\n<table border=\"1\" class=\"dataframe\">\n  <thead>\n    <tr style=\"text-align: right;\">\n      <th></th>\n      <th>학년</th>\n      <th>성별</th>\n      <th>국어</th>\n      <th>영어</th>\n      <th>수학</th>\n      <th>과학</th>\n    </tr>\n    <tr>\n      <th>이름</th>\n      <th></th>\n      <th></th>\n      <th></th>\n      <th></th>\n      <th></th>\n      <th></th>\n    </tr>\n  </thead>\n  <tbody>\n    <tr>\n      <th>철수</th>\n      <td>1</td>\n      <td>남자</td>\n      <td>98</td>\n      <td>NaN</td>\n      <td>88.0</td>\n      <td>64.0</td>\n    </tr>\n    <tr>\n      <th>영희</th>\n      <td>2</td>\n      <td>여자</td>\n      <td>88</td>\n      <td>90.0</td>\n      <td>62.0</td>\n      <td>72.0</td>\n    </tr>\n    <tr>\n      <th>민수</th>\n      <td>1</td>\n      <td>남자</td>\n      <td>92</td>\n      <td>70.0</td>\n      <td>NaN</td>\n      <td>NaN</td>\n    </tr>\n    <tr>\n      <th>수현</th>\n      <td>3</td>\n      <td>여자</td>\n      <td>63</td>\n      <td>60.0</td>\n      <td>31.0</td>\n      <td>70.0</td>\n    </tr>\n    <tr>\n      <th>호영</th>\n      <td>4</td>\n      <td>남자</td>\n      <td>100</td>\n      <td>50.0</td>\n      <td>NaN</td>\n      <td>88.0</td>\n    </tr>\n  </tbody>\n</table>\n</div>"
     },
     "metadata": {},
     "output_type": "display_data"
    }
   ],
   "source": [
    "# 다른 값으로 대체\n",
    "df2 = df1.copy()\n",
    "\n",
    "display(df2)\n",
    "\n",
    "df2.loc[idx, '국어'] = 100\n",
    "\n",
    "display(df2)"
   ],
   "metadata": {
    "collapsed": false
   }
  },
  {
   "cell_type": "code",
   "execution_count": 46,
   "outputs": [
    {
     "name": "stdout",
     "output_type": "stream",
     "text": [
      "113.0 73.0\n"
     ]
    },
    {
     "data": {
      "text/plain": "    학년  성별  국어    영어    수학    과학\n이름                              \n철수   1  남자  98   NaN  88.0  64.0\n영희   2  여자  88  90.0  62.0  72.0\n민수   1  남자  92  70.0   NaN   NaN",
      "text/html": "<div>\n<style scoped>\n    .dataframe tbody tr th:only-of-type {\n        vertical-align: middle;\n    }\n\n    .dataframe tbody tr th {\n        vertical-align: top;\n    }\n\n    .dataframe thead th {\n        text-align: right;\n    }\n</style>\n<table border=\"1\" class=\"dataframe\">\n  <thead>\n    <tr style=\"text-align: right;\">\n      <th></th>\n      <th>학년</th>\n      <th>성별</th>\n      <th>국어</th>\n      <th>영어</th>\n      <th>수학</th>\n      <th>과학</th>\n    </tr>\n    <tr>\n      <th>이름</th>\n      <th></th>\n      <th></th>\n      <th></th>\n      <th></th>\n      <th></th>\n      <th></th>\n    </tr>\n  </thead>\n  <tbody>\n    <tr>\n      <th>철수</th>\n      <td>1</td>\n      <td>남자</td>\n      <td>98</td>\n      <td>NaN</td>\n      <td>88.0</td>\n      <td>64.0</td>\n    </tr>\n    <tr>\n      <th>영희</th>\n      <td>2</td>\n      <td>여자</td>\n      <td>88</td>\n      <td>90.0</td>\n      <td>62.0</td>\n      <td>72.0</td>\n    </tr>\n    <tr>\n      <th>민수</th>\n      <td>1</td>\n      <td>남자</td>\n      <td>92</td>\n      <td>70.0</td>\n      <td>NaN</td>\n      <td>NaN</td>\n    </tr>\n  </tbody>\n</table>\n</div>"
     },
     "metadata": {},
     "output_type": "display_data"
    }
   ],
   "source": [
    "# 극단치의 상항과 하한을 구해 처리함\n",
    "df2 = df1.copy()\n",
    "\n",
    "# 25%, 75% 위치값을 구함\n",
    "quantile25 = df2['국어'].quantile(0.25)\n",
    "quantile75 = df2['국어'].quantile(0.75)\n",
    "\n",
    "# 75% 위치에서 25% 위치값을 뺀다\n",
    "IQR_value = quantile75 - quantile25\n",
    "\n",
    "# 극단치 상한을 구한다\n",
    "line_up = quantile75 + IQR_value * 1.5\n",
    "# 근단치 하한을 구한다\n",
    "line_down = quantile25 - IQR_value * 1.5\n",
    "\n",
    "print(line_up, line_down)\n",
    "\n",
    "# 극단치를 제거함\n",
    "idx = df2.query('국어 < @line_down or 국어 > @line_up').index\n",
    "df2.drop(idx, inplace=True)\n",
    "\n",
    "display(df2)"
   ],
   "metadata": {
    "collapsed": false
   }
  },
  {
   "cell_type": "code",
   "execution_count": 48,
   "outputs": [
    {
     "data": {
      "text/plain": "<Figure size 432x288 with 1 Axes>",
      "image/png": "[encoded data removed]"
     },
     "metadata": {
      "needs_background": "light"
     },
     "output_type": "display_data"
    },
    {
     "data": {
      "text/plain": "<Figure size 432x288 with 1 Axes>",
      "image/png": "[encoded data removed]"
     },
     "metadata": {
      "needs_background": "light"
     },
     "output_type": "display_data"
    }
   ],
   "source": [
    "plt.boxplot(df1['국어'])\n",
    "plt.show()\n",
    "\n",
    "plt.boxplot(df2['국어'])\n",
    "plt.show()"
   ],
   "metadata": {
    "collapsed": false
   }
  }
 ],
 "metadata": {
  "kernelspec": {
   "display_name": "Python 3",
   "language": "python",
   "name": "python3"
  },
  "language_info": {
   "codemirror_mode": {
    "name": "ipython",
    "version": 2
   },
   "file_extension": ".py",
   "mimetype": "text/x-python",
   "name": "python",
   "nbconvert_exporter": "python",
   "pygments_lexer": "ipython2",
   "version": "2.7.6"
  }
 },
 "nbformat": 4,
 "nbformat_minor": 0
}
