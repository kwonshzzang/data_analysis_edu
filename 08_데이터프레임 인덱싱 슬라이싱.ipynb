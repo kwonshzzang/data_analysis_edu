{
 "cells": [
  {
   "cell_type": "code",
   "execution_count": 25,
   "metadata": {
    "collapsed": true
   },
   "outputs": [],
   "source": [
    "import numpy as np\n",
    "import pandas as pd"
   ]
  },
  {
   "cell_type": "code",
   "execution_count": 26,
   "outputs": [
    {
     "data": {
      "text/plain": "     이름  학년  성별   국어    영어    수학    과학\n학생1  철수   1  남자   98   NaN  88.0  64.0\n학생2  영희   2  여자   88  90.0  62.0  72.0\n학생3  민수   1  남자   92  70.0   NaN   NaN\n학생4  수현   3  여자   63  60.0  31.0  70.0\n학생5  호영   4  남자  120  50.0   NaN  88.0",
      "text/html": "<div>\n<style scoped>\n    .dataframe tbody tr th:only-of-type {\n        vertical-align: middle;\n    }\n\n    .dataframe tbody tr th {\n        vertical-align: top;\n    }\n\n    .dataframe thead th {\n        text-align: right;\n    }\n</style>\n<table border=\"1\" class=\"dataframe\">\n  <thead>\n    <tr style=\"text-align: right;\">\n      <th></th>\n      <th>이름</th>\n      <th>학년</th>\n      <th>성별</th>\n      <th>국어</th>\n      <th>영어</th>\n      <th>수학</th>\n      <th>과학</th>\n    </tr>\n  </thead>\n  <tbody>\n    <tr>\n      <th>학생1</th>\n      <td>철수</td>\n      <td>1</td>\n      <td>남자</td>\n      <td>98</td>\n      <td>NaN</td>\n      <td>88.0</td>\n      <td>64.0</td>\n    </tr>\n    <tr>\n      <th>학생2</th>\n      <td>영희</td>\n      <td>2</td>\n      <td>여자</td>\n      <td>88</td>\n      <td>90.0</td>\n      <td>62.0</td>\n      <td>72.0</td>\n    </tr>\n    <tr>\n      <th>학생3</th>\n      <td>민수</td>\n      <td>1</td>\n      <td>남자</td>\n      <td>92</td>\n      <td>70.0</td>\n      <td>NaN</td>\n      <td>NaN</td>\n    </tr>\n    <tr>\n      <th>학생4</th>\n      <td>수현</td>\n      <td>3</td>\n      <td>여자</td>\n      <td>63</td>\n      <td>60.0</td>\n      <td>31.0</td>\n      <td>70.0</td>\n    </tr>\n    <tr>\n      <th>학생5</th>\n      <td>호영</td>\n      <td>4</td>\n      <td>남자</td>\n      <td>120</td>\n      <td>50.0</td>\n      <td>NaN</td>\n      <td>88.0</td>\n    </tr>\n  </tbody>\n</table>\n</div>"
     },
     "execution_count": 26,
     "metadata": {},
     "output_type": "execute_result"
    }
   ],
   "source": [
    "df1 = pd.read_csv('data/grade.csv', encoding='euc-kr')\n",
    "df1.index = ['학생1', '학생2', '학생3', '학생4', '학생5']\n",
    "df1"
   ],
   "metadata": {
    "collapsed": false
   }
  },
  {
   "cell_type": "code",
   "execution_count": 27,
   "outputs": [
    {
     "data": {
      "text/plain": "학생1     98\n학생2     88\n학생3     92\n학생4     63\n학생5    120\nName: 국어, dtype: int64"
     },
     "execution_count": 27,
     "metadata": {},
     "output_type": "execute_result"
    }
   ],
   "source": [
    "# 특정 컬럼(Series)를 추출함\n",
    "s1 = df1['국어']\n",
    "s1"
   ],
   "metadata": {
    "collapsed": false
   }
  },
  {
   "cell_type": "code",
   "execution_count": 28,
   "outputs": [
    {
     "data": {
      "text/plain": "이름      민수\n학년       1\n성별      남자\n국어      92\n영어    70.0\n수학     NaN\n과학     NaN\nName: 학생3, dtype: object"
     },
     "execution_count": 28,
     "metadata": {},
     "output_type": "execute_result"
    }
   ],
   "source": [
    "# index를 지정하여 행을 가져옴\n",
    "s2 = df1.loc['학생3']\n",
    "s2"
   ],
   "metadata": {
    "collapsed": false
   }
  },
  {
   "cell_type": "code",
   "execution_count": 29,
   "outputs": [
    {
     "data": {
      "text/plain": "이름      민수\n학년       1\n성별      남자\n국어      92\n영어    70.0\n수학     NaN\n과학     NaN\nName: 학생3, dtype: object"
     },
     "execution_count": 29,
     "metadata": {},
     "output_type": "execute_result"
    }
   ],
   "source": [
    "# 순서값을 통해 행을 가져옴\n",
    "s3 = df1.iloc[2]\n",
    "s3"
   ],
   "metadata": {
    "collapsed": false
   }
  },
  {
   "cell_type": "code",
   "execution_count": 30,
   "outputs": [
    {
     "data": {
      "text/plain": "92"
     },
     "execution_count": 30,
     "metadata": {},
     "output_type": "execute_result"
    }
   ],
   "source": [
    "# 컬럼명, index를 지정하여 값 하나를 가져옴\n",
    "# 데이터프레임[컬럼명][index]\n",
    "\n",
    "# df1['국어']를 통해 국어 컬럼의 값을 Series로 추출함\n",
    "# 추출된 Series에서 '학생3'이라는 index값을 추출함\n",
    "a1 = df1['국어']['학생3']\n",
    "a1"
   ],
   "metadata": {
    "collapsed": false
   }
  },
  {
   "cell_type": "code",
   "execution_count": 31,
   "outputs": [
    {
     "ename": "KeyError",
     "evalue": "('국어', '학생3')",
     "output_type": "error",
     "traceback": [
      "\u001B[0;31m---------------------------------------------------------------------------\u001B[0m",
      "\u001B[0;31mKeyError\u001B[0m                                  Traceback (most recent call last)",
      "\u001B[0;32m~/opt/anaconda3/lib/python3.9/site-packages/pandas/core/indexes/base.py\u001B[0m in \u001B[0;36mget_loc\u001B[0;34m(self, key, method, tolerance)\u001B[0m\n\u001B[1;32m   3360\u001B[0m             \u001B[0;32mtry\u001B[0m\u001B[0;34m:\u001B[0m\u001B[0;34m\u001B[0m\u001B[0;34m\u001B[0m\u001B[0m\n\u001B[0;32m-> 3361\u001B[0;31m                 \u001B[0;32mreturn\u001B[0m \u001B[0mself\u001B[0m\u001B[0;34m.\u001B[0m\u001B[0m_engine\u001B[0m\u001B[0;34m.\u001B[0m\u001B[0mget_loc\u001B[0m\u001B[0;34m(\u001B[0m\u001B[0mcasted_key\u001B[0m\u001B[0;34m)\u001B[0m\u001B[0;34m\u001B[0m\u001B[0;34m\u001B[0m\u001B[0m\n\u001B[0m\u001B[1;32m   3362\u001B[0m             \u001B[0;32mexcept\u001B[0m \u001B[0mKeyError\u001B[0m \u001B[0;32mas\u001B[0m \u001B[0merr\u001B[0m\u001B[0;34m:\u001B[0m\u001B[0;34m\u001B[0m\u001B[0;34m\u001B[0m\u001B[0m\n",
      "\u001B[0;32m~/opt/anaconda3/lib/python3.9/site-packages/pandas/_libs/index.pyx\u001B[0m in \u001B[0;36mpandas._libs.index.IndexEngine.get_loc\u001B[0;34m()\u001B[0m\n",
      "\u001B[0;32m~/opt/anaconda3/lib/python3.9/site-packages/pandas/_libs/index.pyx\u001B[0m in \u001B[0;36mpandas._libs.index.IndexEngine.get_loc\u001B[0;34m()\u001B[0m\n",
      "\u001B[0;32mpandas/_libs/hashtable_class_helper.pxi\u001B[0m in \u001B[0;36mpandas._libs.hashtable.PyObjectHashTable.get_item\u001B[0;34m()\u001B[0m\n",
      "\u001B[0;32mpandas/_libs/hashtable_class_helper.pxi\u001B[0m in \u001B[0;36mpandas._libs.hashtable.PyObjectHashTable.get_item\u001B[0;34m()\u001B[0m\n",
      "\u001B[0;31mKeyError\u001B[0m: ('국어', '학생3')",
      "\nThe above exception was the direct cause of the following exception:\n",
      "\u001B[0;31mKeyError\u001B[0m                                  Traceback (most recent call last)",
      "\u001B[0;32m/var/folders/2p/5ztvmmzx1xzdnqqn7snr0gp00000gn/T/ipykernel_27014/183970843.py\u001B[0m in \u001B[0;36m<module>\u001B[0;34m\u001B[0m\n\u001B[1;32m      1\u001B[0m \u001B[0;31m# 행렬 접근 방식 []은 혀용하지 않음.\u001B[0m\u001B[0;34m\u001B[0m\u001B[0;34m\u001B[0m\u001B[0m\n\u001B[1;32m      2\u001B[0m \u001B[0;31m# 아래 코드는 컬럼 이름이 ['국어', '학생3']으로 되어 있는 컬럼을 지치한 것임\u001B[0m\u001B[0;34m\u001B[0m\u001B[0;34m\u001B[0m\u001B[0m\n\u001B[0;32m----> 3\u001B[0;31m \u001B[0ma2\u001B[0m \u001B[0;34m=\u001B[0m \u001B[0mdf1\u001B[0m\u001B[0;34m[\u001B[0m\u001B[0;34m'국어'\u001B[0m\u001B[0;34m,\u001B[0m \u001B[0;34m'학생3'\u001B[0m\u001B[0;34m]\u001B[0m\u001B[0;34m\u001B[0m\u001B[0;34m\u001B[0m\u001B[0m\n\u001B[0m\u001B[1;32m      4\u001B[0m \u001B[0ma2\u001B[0m\u001B[0;34m\u001B[0m\u001B[0;34m\u001B[0m\u001B[0m\n",
      "\u001B[0;32m~/opt/anaconda3/lib/python3.9/site-packages/pandas/core/frame.py\u001B[0m in \u001B[0;36m__getitem__\u001B[0;34m(self, key)\u001B[0m\n\u001B[1;32m   3456\u001B[0m             \u001B[0;32mif\u001B[0m \u001B[0mself\u001B[0m\u001B[0;34m.\u001B[0m\u001B[0mcolumns\u001B[0m\u001B[0;34m.\u001B[0m\u001B[0mnlevels\u001B[0m \u001B[0;34m>\u001B[0m \u001B[0;36m1\u001B[0m\u001B[0;34m:\u001B[0m\u001B[0;34m\u001B[0m\u001B[0;34m\u001B[0m\u001B[0m\n\u001B[1;32m   3457\u001B[0m                 \u001B[0;32mreturn\u001B[0m \u001B[0mself\u001B[0m\u001B[0;34m.\u001B[0m\u001B[0m_getitem_multilevel\u001B[0m\u001B[0;34m(\u001B[0m\u001B[0mkey\u001B[0m\u001B[0;34m)\u001B[0m\u001B[0;34m\u001B[0m\u001B[0;34m\u001B[0m\u001B[0m\n\u001B[0;32m-> 3458\u001B[0;31m             \u001B[0mindexer\u001B[0m \u001B[0;34m=\u001B[0m \u001B[0mself\u001B[0m\u001B[0;34m.\u001B[0m\u001B[0mcolumns\u001B[0m\u001B[0;34m.\u001B[0m\u001B[0mget_loc\u001B[0m\u001B[0;34m(\u001B[0m\u001B[0mkey\u001B[0m\u001B[0;34m)\u001B[0m\u001B[0;34m\u001B[0m\u001B[0;34m\u001B[0m\u001B[0m\n\u001B[0m\u001B[1;32m   3459\u001B[0m             \u001B[0;32mif\u001B[0m \u001B[0mis_integer\u001B[0m\u001B[0;34m(\u001B[0m\u001B[0mindexer\u001B[0m\u001B[0;34m)\u001B[0m\u001B[0;34m:\u001B[0m\u001B[0;34m\u001B[0m\u001B[0;34m\u001B[0m\u001B[0m\n\u001B[1;32m   3460\u001B[0m                 \u001B[0mindexer\u001B[0m \u001B[0;34m=\u001B[0m \u001B[0;34m[\u001B[0m\u001B[0mindexer\u001B[0m\u001B[0;34m]\u001B[0m\u001B[0;34m\u001B[0m\u001B[0;34m\u001B[0m\u001B[0m\n",
      "\u001B[0;32m~/opt/anaconda3/lib/python3.9/site-packages/pandas/core/indexes/base.py\u001B[0m in \u001B[0;36mget_loc\u001B[0;34m(self, key, method, tolerance)\u001B[0m\n\u001B[1;32m   3361\u001B[0m                 \u001B[0;32mreturn\u001B[0m \u001B[0mself\u001B[0m\u001B[0;34m.\u001B[0m\u001B[0m_engine\u001B[0m\u001B[0;34m.\u001B[0m\u001B[0mget_loc\u001B[0m\u001B[0;34m(\u001B[0m\u001B[0mcasted_key\u001B[0m\u001B[0;34m)\u001B[0m\u001B[0;34m\u001B[0m\u001B[0;34m\u001B[0m\u001B[0m\n\u001B[1;32m   3362\u001B[0m             \u001B[0;32mexcept\u001B[0m \u001B[0mKeyError\u001B[0m \u001B[0;32mas\u001B[0m \u001B[0merr\u001B[0m\u001B[0;34m:\u001B[0m\u001B[0;34m\u001B[0m\u001B[0;34m\u001B[0m\u001B[0m\n\u001B[0;32m-> 3363\u001B[0;31m                 \u001B[0;32mraise\u001B[0m \u001B[0mKeyError\u001B[0m\u001B[0;34m(\u001B[0m\u001B[0mkey\u001B[0m\u001B[0;34m)\u001B[0m \u001B[0;32mfrom\u001B[0m \u001B[0merr\u001B[0m\u001B[0;34m\u001B[0m\u001B[0;34m\u001B[0m\u001B[0m\n\u001B[0m\u001B[1;32m   3364\u001B[0m \u001B[0;34m\u001B[0m\u001B[0m\n\u001B[1;32m   3365\u001B[0m         \u001B[0;32mif\u001B[0m \u001B[0mis_scalar\u001B[0m\u001B[0;34m(\u001B[0m\u001B[0mkey\u001B[0m\u001B[0;34m)\u001B[0m \u001B[0;32mand\u001B[0m \u001B[0misna\u001B[0m\u001B[0;34m(\u001B[0m\u001B[0mkey\u001B[0m\u001B[0;34m)\u001B[0m \u001B[0;32mand\u001B[0m \u001B[0;32mnot\u001B[0m \u001B[0mself\u001B[0m\u001B[0;34m.\u001B[0m\u001B[0mhasnans\u001B[0m\u001B[0;34m:\u001B[0m\u001B[0;34m\u001B[0m\u001B[0;34m\u001B[0m\u001B[0m\n",
      "\u001B[0;31mKeyError\u001B[0m: ('국어', '학생3')"
     ]
    }
   ],
   "source": [
    "# 행렬 접근 방식 []은 혀용하지 않음.\n",
    "# 아래 코드는 컬럼 이름이 ['국어', '학생3']으로 되어 있는 컬럼을 지치한 것임\n",
    "a2 = df1['국어', '학생3']\n",
    "a2"
   ],
   "metadata": {
    "collapsed": false
   }
  },
  {
   "cell_type": "code",
   "execution_count": 32,
   "outputs": [
    {
     "data": {
      "text/plain": "92"
     },
     "metadata": {},
     "output_type": "display_data"
    },
    {
     "data": {
      "text/plain": "92"
     },
     "metadata": {},
     "output_type": "display_data"
    }
   ],
   "source": [
    "# index, 컬럼명을 지정하여 값을 가져옴\n",
    "# 학생 데이터프레임에서 '학생3'이라는 index에 해당하는 값을 추출하고\n",
    "# 추출된 Series에서 '국어'라는 index값을 추출함\n",
    "a1 = df1.loc['학생3']['국어']\n",
    "\n",
    "# 데이터프레임에 직접 접근하여 index가 '학생3', 컬럼명이 '국어'인 곳의 값을 가져옴\n",
    "a2 = df1.loc['학생3', '국어']\n",
    "\n",
    "display(a1)\n",
    "display(a2)"
   ],
   "metadata": {
    "collapsed": false
   }
  },
  {
   "cell_type": "code",
   "execution_count": 33,
   "outputs": [
    {
     "data": {
      "text/plain": "92"
     },
     "metadata": {},
     "output_type": "display_data"
    },
    {
     "data": {
      "text/plain": "92"
     },
     "metadata": {},
     "output_type": "display_data"
    }
   ],
   "source": [
    "# 순서값, 컬럼순서를 지정하여 값을 가져옴\n",
    "# 데이터프레임에서 세번째(2) 행의 값을 모두 Series로 추출하고\n",
    "# 추출된 Series에서 네번째(3) 값을 가져옴\n",
    "a3 = df1.iloc[2][3]\n",
    "\n",
    "# 데이터프레임에 직접 접근하여 세번째(2) 행, 네번째(3) 열을 직접 접근하여 값을 가져옴.\n",
    "a4 = df1.iloc[2, 3]\n",
    "\n",
    "display(a3)\n",
    "display(a4)"
   ],
   "metadata": {
    "collapsed": false
   }
  },
  {
   "cell_type": "markdown",
   "source": [
    "### 값을 저장한다."
   ],
   "metadata": {
    "collapsed": false
   }
  },
  {
   "cell_type": "code",
   "execution_count": 34,
   "outputs": [
    {
     "name": "stderr",
     "output_type": "stream",
     "text": [
      "/Users/kwonsoonhyun/opt/anaconda3/lib/python3.9/site-packages/pandas/core/series.py:1056: SettingWithCopyWarning: \n",
      "A value is trying to be set on a copy of a slice from a DataFrame\n",
      "\n",
      "See the caveats in the documentation: https://pandas.pydata.org/pandas-docs/stable/user_guide/indexing.html#returning-a-view-versus-a-copy\n",
      "  cacher_needs_updating = self._check_is_chained_assignment_possible()\n"
     ]
    },
    {
     "data": {
      "text/plain": "     이름  학년  성별   국어    영어    수학    과학\n학생1  철수   1  남자   98   NaN  88.0  64.0\n학생2  영희   2  여자   88  90.0  62.0  72.0\n학생3  민수   1  남자   92  70.0   NaN   NaN\n학생4  수현   3  여자   63  60.0  31.0  70.0\n학생5  호영   4  남자  120  50.0   NaN  88.0",
      "text/html": "<div>\n<style scoped>\n    .dataframe tbody tr th:only-of-type {\n        vertical-align: middle;\n    }\n\n    .dataframe tbody tr th {\n        vertical-align: top;\n    }\n\n    .dataframe thead th {\n        text-align: right;\n    }\n</style>\n<table border=\"1\" class=\"dataframe\">\n  <thead>\n    <tr style=\"text-align: right;\">\n      <th></th>\n      <th>이름</th>\n      <th>학년</th>\n      <th>성별</th>\n      <th>국어</th>\n      <th>영어</th>\n      <th>수학</th>\n      <th>과학</th>\n    </tr>\n  </thead>\n  <tbody>\n    <tr>\n      <th>학생1</th>\n      <td>철수</td>\n      <td>1</td>\n      <td>남자</td>\n      <td>98</td>\n      <td>NaN</td>\n      <td>88.0</td>\n      <td>64.0</td>\n    </tr>\n    <tr>\n      <th>학생2</th>\n      <td>영희</td>\n      <td>2</td>\n      <td>여자</td>\n      <td>88</td>\n      <td>90.0</td>\n      <td>62.0</td>\n      <td>72.0</td>\n    </tr>\n    <tr>\n      <th>학생3</th>\n      <td>민수</td>\n      <td>1</td>\n      <td>남자</td>\n      <td>92</td>\n      <td>70.0</td>\n      <td>NaN</td>\n      <td>NaN</td>\n    </tr>\n    <tr>\n      <th>학생4</th>\n      <td>수현</td>\n      <td>3</td>\n      <td>여자</td>\n      <td>63</td>\n      <td>60.0</td>\n      <td>31.0</td>\n      <td>70.0</td>\n    </tr>\n    <tr>\n      <th>학생5</th>\n      <td>호영</td>\n      <td>4</td>\n      <td>남자</td>\n      <td>120</td>\n      <td>50.0</td>\n      <td>NaN</td>\n      <td>88.0</td>\n    </tr>\n  </tbody>\n</table>\n</div>"
     },
     "execution_count": 34,
     "metadata": {},
     "output_type": "execute_result"
    }
   ],
   "source": [
    "# [index][컬럼명]\n",
    "# 데이터프레임으로부터 index가 '학생3'인 행의 데이터를 추출해\n",
    "# 새로운 데이터프레임으로 만든 후 그 안에 영어 컬럼에 2000을 넣는 작업이므로\n",
    "# 원본 데이터프레임에 반영되지 않음\n",
    "df1.loc['학생3']['영어'] = 2000\n",
    "df1"
   ],
   "metadata": {
    "collapsed": false
   }
  },
  {
   "cell_type": "code",
   "execution_count": 35,
   "outputs": [
    {
     "data": {
      "text/plain": "     이름  학년  성별   국어      영어    수학    과학\n학생1  철수   1  남자   98     NaN  88.0  64.0\n학생2  영희   2  여자   88    90.0  62.0  72.0\n학생3  민수   1  남자   92  2000.0   NaN   NaN\n학생4  수현   3  여자   63    60.0  31.0  70.0\n학생5  호영   4  남자  120    50.0   NaN  88.0",
      "text/html": "<div>\n<style scoped>\n    .dataframe tbody tr th:only-of-type {\n        vertical-align: middle;\n    }\n\n    .dataframe tbody tr th {\n        vertical-align: top;\n    }\n\n    .dataframe thead th {\n        text-align: right;\n    }\n</style>\n<table border=\"1\" class=\"dataframe\">\n  <thead>\n    <tr style=\"text-align: right;\">\n      <th></th>\n      <th>이름</th>\n      <th>학년</th>\n      <th>성별</th>\n      <th>국어</th>\n      <th>영어</th>\n      <th>수학</th>\n      <th>과학</th>\n    </tr>\n  </thead>\n  <tbody>\n    <tr>\n      <th>학생1</th>\n      <td>철수</td>\n      <td>1</td>\n      <td>남자</td>\n      <td>98</td>\n      <td>NaN</td>\n      <td>88.0</td>\n      <td>64.0</td>\n    </tr>\n    <tr>\n      <th>학생2</th>\n      <td>영희</td>\n      <td>2</td>\n      <td>여자</td>\n      <td>88</td>\n      <td>90.0</td>\n      <td>62.0</td>\n      <td>72.0</td>\n    </tr>\n    <tr>\n      <th>학생3</th>\n      <td>민수</td>\n      <td>1</td>\n      <td>남자</td>\n      <td>92</td>\n      <td>2000.0</td>\n      <td>NaN</td>\n      <td>NaN</td>\n    </tr>\n    <tr>\n      <th>학생4</th>\n      <td>수현</td>\n      <td>3</td>\n      <td>여자</td>\n      <td>63</td>\n      <td>60.0</td>\n      <td>31.0</td>\n      <td>70.0</td>\n    </tr>\n    <tr>\n      <th>학생5</th>\n      <td>호영</td>\n      <td>4</td>\n      <td>남자</td>\n      <td>120</td>\n      <td>50.0</td>\n      <td>NaN</td>\n      <td>88.0</td>\n    </tr>\n  </tbody>\n</table>\n</div>"
     },
     "execution_count": 35,
     "metadata": {},
     "output_type": "execute_result"
    }
   ],
   "source": [
    "# [index, 컬럼명]\n",
    "# 이 문법은 데이터프레임에 직접 접근하기 때문에 값이 잘 설정됨\n",
    "df1.loc['학생3', '영어'] = 2000\n",
    "df1"
   ],
   "metadata": {
    "collapsed": false
   }
  },
  {
   "cell_type": "code",
   "execution_count": 36,
   "outputs": [
    {
     "data": {
      "text/plain": "     이름  학년  성별    국어      영어    수학    과학\n학생1  철수   1  남자    98     NaN  88.0  64.0\n학생2  영희   2  여자  3000    90.0  62.0  72.0\n학생3  민수   1  남자    92  2000.0   NaN   NaN\n학생4  수현   3  여자    63    60.0  31.0  70.0\n학생5  호영   4  남자   120    50.0   NaN  88.0",
      "text/html": "<div>\n<style scoped>\n    .dataframe tbody tr th:only-of-type {\n        vertical-align: middle;\n    }\n\n    .dataframe tbody tr th {\n        vertical-align: top;\n    }\n\n    .dataframe thead th {\n        text-align: right;\n    }\n</style>\n<table border=\"1\" class=\"dataframe\">\n  <thead>\n    <tr style=\"text-align: right;\">\n      <th></th>\n      <th>이름</th>\n      <th>학년</th>\n      <th>성별</th>\n      <th>국어</th>\n      <th>영어</th>\n      <th>수학</th>\n      <th>과학</th>\n    </tr>\n  </thead>\n  <tbody>\n    <tr>\n      <th>학생1</th>\n      <td>철수</td>\n      <td>1</td>\n      <td>남자</td>\n      <td>98</td>\n      <td>NaN</td>\n      <td>88.0</td>\n      <td>64.0</td>\n    </tr>\n    <tr>\n      <th>학생2</th>\n      <td>영희</td>\n      <td>2</td>\n      <td>여자</td>\n      <td>3000</td>\n      <td>90.0</td>\n      <td>62.0</td>\n      <td>72.0</td>\n    </tr>\n    <tr>\n      <th>학생3</th>\n      <td>민수</td>\n      <td>1</td>\n      <td>남자</td>\n      <td>92</td>\n      <td>2000.0</td>\n      <td>NaN</td>\n      <td>NaN</td>\n    </tr>\n    <tr>\n      <th>학생4</th>\n      <td>수현</td>\n      <td>3</td>\n      <td>여자</td>\n      <td>63</td>\n      <td>60.0</td>\n      <td>31.0</td>\n      <td>70.0</td>\n    </tr>\n    <tr>\n      <th>학생5</th>\n      <td>호영</td>\n      <td>4</td>\n      <td>남자</td>\n      <td>120</td>\n      <td>50.0</td>\n      <td>NaN</td>\n      <td>88.0</td>\n    </tr>\n  </tbody>\n</table>\n</div>"
     },
     "execution_count": 36,
     "metadata": {},
     "output_type": "execute_result"
    }
   ],
   "source": [
    "# [순서값, 컬럼순서]\n",
    "# 데이터프레임의 두번째(1) 행, 네번째(3) 컬럼에 접근하여 값을 직접 설정함\n",
    "df1.iloc[1, 3] = 3000\n",
    "df1"
   ],
   "metadata": {
    "collapsed": false
   }
  },
  {
   "cell_type": "code",
   "execution_count": 37,
   "outputs": [
    {
     "name": "stderr",
     "output_type": "stream",
     "text": [
      "/var/folders/2p/5ztvmmzx1xzdnqqn7snr0gp00000gn/T/ipykernel_27014/1556925844.py:5: SettingWithCopyWarning: \n",
      "A value is trying to be set on a copy of a slice from a DataFrame\n",
      "\n",
      "See the caveats in the documentation: https://pandas.pydata.org/pandas-docs/stable/user_guide/indexing.html#returning-a-view-versus-a-copy\n",
      "  df1['과학']['학생4'] = 5000\n"
     ]
    },
    {
     "data": {
      "text/plain": "     이름  학년  성별    국어      영어    수학      과학\n학생1  철수   1  남자    98     NaN  88.0    64.0\n학생2  영희   2  여자  3000    90.0  62.0    72.0\n학생3  민수   1  남자    92  2000.0   NaN     NaN\n학생4  수현   3  여자    63    60.0  31.0  5000.0\n학생5  호영   4  남자   120    50.0   NaN    88.0",
      "text/html": "<div>\n<style scoped>\n    .dataframe tbody tr th:only-of-type {\n        vertical-align: middle;\n    }\n\n    .dataframe tbody tr th {\n        vertical-align: top;\n    }\n\n    .dataframe thead th {\n        text-align: right;\n    }\n</style>\n<table border=\"1\" class=\"dataframe\">\n  <thead>\n    <tr style=\"text-align: right;\">\n      <th></th>\n      <th>이름</th>\n      <th>학년</th>\n      <th>성별</th>\n      <th>국어</th>\n      <th>영어</th>\n      <th>수학</th>\n      <th>과학</th>\n    </tr>\n  </thead>\n  <tbody>\n    <tr>\n      <th>학생1</th>\n      <td>철수</td>\n      <td>1</td>\n      <td>남자</td>\n      <td>98</td>\n      <td>NaN</td>\n      <td>88.0</td>\n      <td>64.0</td>\n    </tr>\n    <tr>\n      <th>학생2</th>\n      <td>영희</td>\n      <td>2</td>\n      <td>여자</td>\n      <td>3000</td>\n      <td>90.0</td>\n      <td>62.0</td>\n      <td>72.0</td>\n    </tr>\n    <tr>\n      <th>학생3</th>\n      <td>민수</td>\n      <td>1</td>\n      <td>남자</td>\n      <td>92</td>\n      <td>2000.0</td>\n      <td>NaN</td>\n      <td>NaN</td>\n    </tr>\n    <tr>\n      <th>학생4</th>\n      <td>수현</td>\n      <td>3</td>\n      <td>여자</td>\n      <td>63</td>\n      <td>60.0</td>\n      <td>31.0</td>\n      <td>5000.0</td>\n    </tr>\n    <tr>\n      <th>학생5</th>\n      <td>호영</td>\n      <td>4</td>\n      <td>남자</td>\n      <td>120</td>\n      <td>50.0</td>\n      <td>NaN</td>\n      <td>88.0</td>\n    </tr>\n  </tbody>\n</table>\n</div>"
     },
     "execution_count": 37,
     "metadata": {},
     "output_type": "execute_result"
    }
   ],
   "source": [
    "# [컬럼명][index]\n",
    "# [컬럼명][index] 형태로 지정하는 경우 [컬럼명, index] 문법을 지원하지 않음.\n",
    "# 이에 [컬럼명][index] 형태로 값을 넣어주면 새롭게 생성되는 Series에 값을 설정하고\n",
    "# 원본 데이터프레임에도 값을 설정해 줌\n",
    "df1['과학']['학생4'] = 5000\n",
    "df1"
   ],
   "metadata": {
    "collapsed": false
   }
  }
 ],
 "metadata": {
  "kernelspec": {
   "display_name": "Python 3",
   "language": "python",
   "name": "python3"
  },
  "language_info": {
   "codemirror_mode": {
    "name": "ipython",
    "version": 2
   },
   "file_extension": ".py",
   "mimetype": "text/x-python",
   "name": "python",
   "nbconvert_exporter": "python",
   "pygments_lexer": "ipython2",
   "version": "2.7.6"
  }
 },
 "nbformat": 4,
 "nbformat_minor": 0
}
