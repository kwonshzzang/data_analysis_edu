{
 "cells": [
  {
   "cell_type": "code",
   "execution_count": 1,
   "metadata": {
    "collapsed": true
   },
   "outputs": [],
   "source": [
    "import numpy as np\n",
    "import pandas as pd"
   ]
  },
  {
   "cell_type": "code",
   "execution_count": 2,
   "outputs": [
    {
     "data": {
      "text/plain": "   도시    연도       인구   지역\n0  서울  2015  9904312  수도권\n1  서울  2010  9631482  수도권\n2  서울  2005  9762546  수도권\n3  부산  2015  3448737  경상권\n4  부산  2010  3393191  경상권\n5  부산  2005  3512547  경상권\n6  인천  2015  2890451  수도권\n7  인천  2010  2632035  수도권",
      "text/html": "<div>\n<style scoped>\n    .dataframe tbody tr th:only-of-type {\n        vertical-align: middle;\n    }\n\n    .dataframe tbody tr th {\n        vertical-align: top;\n    }\n\n    .dataframe thead th {\n        text-align: right;\n    }\n</style>\n<table border=\"1\" class=\"dataframe\">\n  <thead>\n    <tr style=\"text-align: right;\">\n      <th></th>\n      <th>도시</th>\n      <th>연도</th>\n      <th>인구</th>\n      <th>지역</th>\n    </tr>\n  </thead>\n  <tbody>\n    <tr>\n      <th>0</th>\n      <td>서울</td>\n      <td>2015</td>\n      <td>9904312</td>\n      <td>수도권</td>\n    </tr>\n    <tr>\n      <th>1</th>\n      <td>서울</td>\n      <td>2010</td>\n      <td>9631482</td>\n      <td>수도권</td>\n    </tr>\n    <tr>\n      <th>2</th>\n      <td>서울</td>\n      <td>2005</td>\n      <td>9762546</td>\n      <td>수도권</td>\n    </tr>\n    <tr>\n      <th>3</th>\n      <td>부산</td>\n      <td>2015</td>\n      <td>3448737</td>\n      <td>경상권</td>\n    </tr>\n    <tr>\n      <th>4</th>\n      <td>부산</td>\n      <td>2010</td>\n      <td>3393191</td>\n      <td>경상권</td>\n    </tr>\n    <tr>\n      <th>5</th>\n      <td>부산</td>\n      <td>2005</td>\n      <td>3512547</td>\n      <td>경상권</td>\n    </tr>\n    <tr>\n      <th>6</th>\n      <td>인천</td>\n      <td>2015</td>\n      <td>2890451</td>\n      <td>수도권</td>\n    </tr>\n    <tr>\n      <th>7</th>\n      <td>인천</td>\n      <td>2010</td>\n      <td>2632035</td>\n      <td>수도권</td>\n    </tr>\n  </tbody>\n</table>\n</div>"
     },
     "execution_count": 2,
     "metadata": {},
     "output_type": "execute_result"
    }
   ],
   "source": [
    "df1=pd.read_csv('data/city_people.csv', encoding='euc-kr')\n",
    "df1"
   ],
   "metadata": {
    "collapsed": false
   }
  },
  {
   "cell_type": "code",
   "execution_count": 8,
   "outputs": [
    {
     "data": {
      "text/plain": "         인구\n도시         \n부산  3512547\n서울  9904312\n인천  2890451",
      "text/html": "<div>\n<style scoped>\n    .dataframe tbody tr th:only-of-type {\n        vertical-align: middle;\n    }\n\n    .dataframe tbody tr th {\n        vertical-align: top;\n    }\n\n    .dataframe thead th {\n        text-align: right;\n    }\n</style>\n<table border=\"1\" class=\"dataframe\">\n  <thead>\n    <tr style=\"text-align: right;\">\n      <th></th>\n      <th>인구</th>\n    </tr>\n    <tr>\n      <th>도시</th>\n      <th></th>\n    </tr>\n  </thead>\n  <tbody>\n    <tr>\n      <th>부산</th>\n      <td>3512547</td>\n    </tr>\n    <tr>\n      <th>서울</th>\n      <td>9904312</td>\n    </tr>\n    <tr>\n      <th>인천</th>\n      <td>2890451</td>\n    </tr>\n  </tbody>\n</table>\n</div>"
     },
     "execution_count": 8,
     "metadata": {},
     "output_type": "execute_result"
    }
   ],
   "source": [
    "# 그룹의 기준과 통계값을 구할 컬럼을 추출하고 그룹 통계를 구함\n",
    "# 결과가 데이터프레임으로 나옴.\n",
    "\n",
    "# 도시를 기준으로 그룹을 묶고 인구 최대값을 구함\n",
    "df2 = df1[['도시', '인구']]\n",
    "df2.groupby('도시').max()"
   ],
   "metadata": {
    "collapsed": false
   }
  },
  {
   "cell_type": "code",
   "execution_count": 9,
   "outputs": [
    {
     "data": {
      "text/plain": "      연도       인구\n도시               \n부산  2015  3512547\n서울  2015  9904312\n인천  2015  2890451",
      "text/html": "<div>\n<style scoped>\n    .dataframe tbody tr th:only-of-type {\n        vertical-align: middle;\n    }\n\n    .dataframe tbody tr th {\n        vertical-align: top;\n    }\n\n    .dataframe thead th {\n        text-align: right;\n    }\n</style>\n<table border=\"1\" class=\"dataframe\">\n  <thead>\n    <tr style=\"text-align: right;\">\n      <th></th>\n      <th>연도</th>\n      <th>인구</th>\n    </tr>\n    <tr>\n      <th>도시</th>\n      <th></th>\n      <th></th>\n    </tr>\n  </thead>\n  <tbody>\n    <tr>\n      <th>부산</th>\n      <td>2015</td>\n      <td>3512547</td>\n    </tr>\n    <tr>\n      <th>서울</th>\n      <td>2015</td>\n      <td>9904312</td>\n    </tr>\n    <tr>\n      <th>인천</th>\n      <td>2015</td>\n      <td>2890451</td>\n    </tr>\n  </tbody>\n</table>\n</div>"
     },
     "execution_count": 9,
     "metadata": {},
     "output_type": "execute_result"
    }
   ],
   "source": [
    "# 도시를 기준으로 그룹을 묶고 연도와 인구의 최대값을 각각 구함.\n",
    "df3 = df1[['도시', '연도', '인구']]\n",
    "df3.groupby('도시').max()"
   ],
   "metadata": {
    "collapsed": false
   }
  },
  {
   "cell_type": "code",
   "execution_count": 11,
   "outputs": [
    {
     "data": {
      "text/plain": "도시\n부산    3512547\n서울    9904312\n인천    2890451\nName: 인구, dtype: int64"
     },
     "execution_count": 11,
     "metadata": {},
     "output_type": "execute_result"
    }
   ],
   "source": [
    "# 일단 그룹으로 묶고 필요한 컬럼을 추출하여 통계값을 구함\n",
    "# 하나의 컬럼에 대한 통계값을 구한다면 결과는 Series로 나옴\n",
    "\n",
    "# 도시를 기준으로 그룹을 묶고 각 그룹의 인구 최대값을 구함\n",
    "df1.groupby('도시')['인구'].max()"
   ],
   "metadata": {
    "collapsed": false
   }
  },
  {
   "cell_type": "code",
   "execution_count": 13,
   "outputs": [
    {
     "data": {
      "text/plain": "               인구\n지역  연도           \n경상권 2005  3512547\n    2010  3393191\n    2015  3448737\n수도권 2005  9762546\n    2010  9631482\n    2015  9904312",
      "text/html": "<div>\n<style scoped>\n    .dataframe tbody tr th:only-of-type {\n        vertical-align: middle;\n    }\n\n    .dataframe tbody tr th {\n        vertical-align: top;\n    }\n\n    .dataframe thead th {\n        text-align: right;\n    }\n</style>\n<table border=\"1\" class=\"dataframe\">\n  <thead>\n    <tr style=\"text-align: right;\">\n      <th></th>\n      <th></th>\n      <th>인구</th>\n    </tr>\n    <tr>\n      <th>지역</th>\n      <th>연도</th>\n      <th></th>\n    </tr>\n  </thead>\n  <tbody>\n    <tr>\n      <th rowspan=\"3\" valign=\"top\">경상권</th>\n      <th>2005</th>\n      <td>3512547</td>\n    </tr>\n    <tr>\n      <th>2010</th>\n      <td>3393191</td>\n    </tr>\n    <tr>\n      <th>2015</th>\n      <td>3448737</td>\n    </tr>\n    <tr>\n      <th rowspan=\"3\" valign=\"top\">수도권</th>\n      <th>2005</th>\n      <td>9762546</td>\n    </tr>\n    <tr>\n      <th>2010</th>\n      <td>9631482</td>\n    </tr>\n    <tr>\n      <th>2015</th>\n      <td>9904312</td>\n    </tr>\n  </tbody>\n</table>\n</div>"
     },
     "execution_count": 13,
     "metadata": {},
     "output_type": "execute_result"
    }
   ],
   "source": [
    "# 두개 이상의 컬럼을 그룹의 기준으로 설정함\n",
    "# 첫번째 컬럼을 기준으로 그룹을 묶고 그 안에서 두번째 컬럼을 기준으로 나눔\n",
    "\n",
    "# 각 지역에서 연도별 최대 인구수를 구함\n",
    "df2 = df1[['연도', '인구', '지역']]\n",
    "r2 = df2.groupby(['지역', '연도']).max()\n",
    "r2"
   ],
   "metadata": {
    "collapsed": false
   }
  },
  {
   "cell_type": "code",
   "execution_count": 14,
   "outputs": [
    {
     "data": {
      "text/plain": "           인구\n연도           \n2005  3512547\n2010  3393191\n2015  3448737",
      "text/html": "<div>\n<style scoped>\n    .dataframe tbody tr th:only-of-type {\n        vertical-align: middle;\n    }\n\n    .dataframe tbody tr th {\n        vertical-align: top;\n    }\n\n    .dataframe thead th {\n        text-align: right;\n    }\n</style>\n<table border=\"1\" class=\"dataframe\">\n  <thead>\n    <tr style=\"text-align: right;\">\n      <th></th>\n      <th>인구</th>\n    </tr>\n    <tr>\n      <th>연도</th>\n      <th></th>\n    </tr>\n  </thead>\n  <tbody>\n    <tr>\n      <th>2005</th>\n      <td>3512547</td>\n    </tr>\n    <tr>\n      <th>2010</th>\n      <td>3393191</td>\n    </tr>\n    <tr>\n      <th>2015</th>\n      <td>3448737</td>\n    </tr>\n  </tbody>\n</table>\n</div>"
     },
     "execution_count": 14,
     "metadata": {},
     "output_type": "execute_result"
    }
   ],
   "source": [
    "r2.loc['경상권']"
   ],
   "metadata": {
    "collapsed": false
   }
  },
  {
   "cell_type": "code",
   "execution_count": 16,
   "outputs": [
    {
     "data": {
      "text/plain": "3512547"
     },
     "execution_count": 16,
     "metadata": {},
     "output_type": "execute_result"
    }
   ],
   "source": [
    "# 멀티 인덱스 접근\n",
    "r2.loc['경상권'].loc[2005, '인구']"
   ],
   "metadata": {
    "collapsed": false
   }
  },
  {
   "cell_type": "code",
   "execution_count": 23,
   "outputs": [
    {
     "data": {
      "text/plain": "   도시       인구\n0  부산  3512547\n1  서울  9904312\n2  인천  2890451",
      "text/html": "<div>\n<style scoped>\n    .dataframe tbody tr th:only-of-type {\n        vertical-align: middle;\n    }\n\n    .dataframe tbody tr th {\n        vertical-align: top;\n    }\n\n    .dataframe thead th {\n        text-align: right;\n    }\n</style>\n<table border=\"1\" class=\"dataframe\">\n  <thead>\n    <tr style=\"text-align: right;\">\n      <th></th>\n      <th>도시</th>\n      <th>인구</th>\n    </tr>\n  </thead>\n  <tbody>\n    <tr>\n      <th>0</th>\n      <td>부산</td>\n      <td>3512547</td>\n    </tr>\n    <tr>\n      <th>1</th>\n      <td>서울</td>\n      <td>9904312</td>\n    </tr>\n    <tr>\n      <th>2</th>\n      <td>인천</td>\n      <td>2890451</td>\n    </tr>\n  </tbody>\n</table>\n</div>"
     },
     "metadata": {},
     "output_type": "display_data"
    },
    {
     "data": {
      "text/plain": "    지역    연도       인구\n0  경상권  2005  3512547\n1  경상권  2010  3393191\n2  경상권  2015  3448737\n3  수도권  2005  9762546\n4  수도권  2010  9631482\n5  수도권  2015  9904312",
      "text/html": "<div>\n<style scoped>\n    .dataframe tbody tr th:only-of-type {\n        vertical-align: middle;\n    }\n\n    .dataframe tbody tr th {\n        vertical-align: top;\n    }\n\n    .dataframe thead th {\n        text-align: right;\n    }\n</style>\n<table border=\"1\" class=\"dataframe\">\n  <thead>\n    <tr style=\"text-align: right;\">\n      <th></th>\n      <th>지역</th>\n      <th>연도</th>\n      <th>인구</th>\n    </tr>\n  </thead>\n  <tbody>\n    <tr>\n      <th>0</th>\n      <td>경상권</td>\n      <td>2005</td>\n      <td>3512547</td>\n    </tr>\n    <tr>\n      <th>1</th>\n      <td>경상권</td>\n      <td>2010</td>\n      <td>3393191</td>\n    </tr>\n    <tr>\n      <th>2</th>\n      <td>경상권</td>\n      <td>2015</td>\n      <td>3448737</td>\n    </tr>\n    <tr>\n      <th>3</th>\n      <td>수도권</td>\n      <td>2005</td>\n      <td>9762546</td>\n    </tr>\n    <tr>\n      <th>4</th>\n      <td>수도권</td>\n      <td>2010</td>\n      <td>9631482</td>\n    </tr>\n    <tr>\n      <th>5</th>\n      <td>수도권</td>\n      <td>2015</td>\n      <td>9904312</td>\n    </tr>\n  </tbody>\n</table>\n</div>"
     },
     "metadata": {},
     "output_type": "display_data"
    }
   ],
   "source": [
    "# 그룹의 기준이 된 컬럼들도 결과에서 컬럼으로 포함하고 싶다면\n",
    "# as_index에 False를 넣어줌\n",
    "df2 = df1[['도시', '인구']]\n",
    "r1 = df2.groupby('도시', as_index=False).max()\n",
    "\n",
    "df3 = df1[['지역', '연도', '인구']]\n",
    "r2 = df3.groupby(['지역', '연도'], as_index=False).max()\n",
    "\n",
    "display(r1)\n",
    "display(r2)"
   ],
   "metadata": {
    "collapsed": false
   }
  },
  {
   "cell_type": "markdown",
   "source": [
    "### 여러 통계값을 동시에 구하기"
   ],
   "metadata": {
    "collapsed": false
   }
  },
  {
   "cell_type": "code",
   "execution_count": 25,
   "outputs": [
    {
     "data": {
      "text/plain": "         인구                             연도                  \n        min      max count       sum   min   max count   sum\n도시                                                          \n부산  3393191  3512547     3  10354475  2005  2015     3  6030\n서울  9631482  9904312     3  29298340  2005  2015     3  6030\n인천  2632035  2890451     2   5522486  2010  2015     2  4025",
      "text/html": "<div>\n<style scoped>\n    .dataframe tbody tr th:only-of-type {\n        vertical-align: middle;\n    }\n\n    .dataframe tbody tr th {\n        vertical-align: top;\n    }\n\n    .dataframe thead tr th {\n        text-align: left;\n    }\n\n    .dataframe thead tr:last-of-type th {\n        text-align: right;\n    }\n</style>\n<table border=\"1\" class=\"dataframe\">\n  <thead>\n    <tr>\n      <th></th>\n      <th colspan=\"4\" halign=\"left\">인구</th>\n      <th colspan=\"4\" halign=\"left\">연도</th>\n    </tr>\n    <tr>\n      <th></th>\n      <th>min</th>\n      <th>max</th>\n      <th>count</th>\n      <th>sum</th>\n      <th>min</th>\n      <th>max</th>\n      <th>count</th>\n      <th>sum</th>\n    </tr>\n    <tr>\n      <th>도시</th>\n      <th></th>\n      <th></th>\n      <th></th>\n      <th></th>\n      <th></th>\n      <th></th>\n      <th></th>\n      <th></th>\n    </tr>\n  </thead>\n  <tbody>\n    <tr>\n      <th>부산</th>\n      <td>3393191</td>\n      <td>3512547</td>\n      <td>3</td>\n      <td>10354475</td>\n      <td>2005</td>\n      <td>2015</td>\n      <td>3</td>\n      <td>6030</td>\n    </tr>\n    <tr>\n      <th>서울</th>\n      <td>9631482</td>\n      <td>9904312</td>\n      <td>3</td>\n      <td>29298340</td>\n      <td>2005</td>\n      <td>2015</td>\n      <td>3</td>\n      <td>6030</td>\n    </tr>\n    <tr>\n      <th>인천</th>\n      <td>2632035</td>\n      <td>2890451</td>\n      <td>2</td>\n      <td>5522486</td>\n      <td>2010</td>\n      <td>2015</td>\n      <td>2</td>\n      <td>4025</td>\n    </tr>\n  </tbody>\n</table>\n</div>"
     },
     "execution_count": 25,
     "metadata": {},
     "output_type": "execute_result"
    }
   ],
   "source": [
    "# agg 함수: 구하고자 하는 통계값의 종류를 리스트나 딕셔너리로 넣어줌\n",
    "# 통계값의 종류는 함수의 이름과 동일한 문자열을 넣어줌\n",
    "df2 = df1[['도시', '인구', '연도']]\n",
    "\n",
    "r1 =df2.groupby('도시').agg(['min', 'max', 'count', 'sum'])\n",
    "r1"
   ],
   "metadata": {
    "collapsed": false
   }
  },
  {
   "cell_type": "code",
   "execution_count": 27,
   "outputs": [
    {
     "data": {
      "text/plain": "9904312"
     },
     "metadata": {},
     "output_type": "display_data"
    },
    {
     "data": {
      "text/plain": "9904312"
     },
     "metadata": {},
     "output_type": "display_data"
    }
   ],
   "source": [
    "# 멀티 컬럼 접근방법\n",
    "display(r1['인구']['max'].loc['서울'])\n",
    "display(r1.loc['서울'].loc['인구'].loc['max'])"
   ],
   "metadata": {
    "collapsed": false
   }
  },
  {
   "cell_type": "code",
   "execution_count": 29,
   "outputs": [
    {
     "data": {
      "text/plain": "       도시        인구         \n    count       sum      max\n지역                          \n경상권     3  10354475  3512547\n수도권     5  34820826  9904312",
      "text/html": "<div>\n<style scoped>\n    .dataframe tbody tr th:only-of-type {\n        vertical-align: middle;\n    }\n\n    .dataframe tbody tr th {\n        vertical-align: top;\n    }\n\n    .dataframe thead tr th {\n        text-align: left;\n    }\n\n    .dataframe thead tr:last-of-type th {\n        text-align: right;\n    }\n</style>\n<table border=\"1\" class=\"dataframe\">\n  <thead>\n    <tr>\n      <th></th>\n      <th>도시</th>\n      <th colspan=\"2\" halign=\"left\">인구</th>\n    </tr>\n    <tr>\n      <th></th>\n      <th>count</th>\n      <th>sum</th>\n      <th>max</th>\n    </tr>\n    <tr>\n      <th>지역</th>\n      <th></th>\n      <th></th>\n      <th></th>\n    </tr>\n  </thead>\n  <tbody>\n    <tr>\n      <th>경상권</th>\n      <td>3</td>\n      <td>10354475</td>\n      <td>3512547</td>\n    </tr>\n    <tr>\n      <th>수도권</th>\n      <td>5</td>\n      <td>34820826</td>\n      <td>9904312</td>\n    </tr>\n  </tbody>\n</table>\n</div>"
     },
     "execution_count": 29,
     "metadata": {},
     "output_type": "execute_result"
    }
   ],
   "source": [
    "# 딕셔너리로 넣어주면 각 컬럼에 대해 다른 통계값을 구할 수 있음\n",
    "df2 = df1[['도시', '인구', '지역']]\n",
    "\n",
    "a1 = {\n",
    "    \"도시\":['count'],\n",
    "    \"인구\":['sum', 'max']\n",
    "}\n",
    "\n",
    "df2.groupby('지역').agg(a1)"
   ],
   "metadata": {
    "collapsed": false
   }
  }
 ],
 "metadata": {
  "kernelspec": {
   "display_name": "Python 3",
   "language": "python",
   "name": "python3"
  },
  "language_info": {
   "codemirror_mode": {
    "name": "ipython",
    "version": 2
   },
   "file_extension": ".py",
   "mimetype": "text/x-python",
   "name": "python",
   "nbconvert_exporter": "python",
   "pygments_lexer": "ipython2",
   "version": "2.7.6"
  }
 },
 "nbformat": 4,
 "nbformat_minor": 0
}
