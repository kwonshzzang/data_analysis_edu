{
 "cells": [
  {
   "cell_type": "code",
   "execution_count": 31,
   "metadata": {
    "collapsed": true
   },
   "outputs": [],
   "source": [
    "import numpy as np\n",
    "import pandas as pd"
   ]
  },
  {
   "cell_type": "code",
   "execution_count": 32,
   "outputs": [
    {
     "data": {
      "text/plain": "    학년  성별   국어    영어    수학    과학\n이름                               \n철수   1  남자   98   NaN  88.0  64.0\n영희   2  여자   88  90.0  62.0  72.0\n민수   1  남자   92  70.0   NaN   NaN\n수현   3  여자   63  60.0  31.0  70.0\n호영   4  남자  120  50.0   NaN  88.0",
      "text/html": "<div>\n<style scoped>\n    .dataframe tbody tr th:only-of-type {\n        vertical-align: middle;\n    }\n\n    .dataframe tbody tr th {\n        vertical-align: top;\n    }\n\n    .dataframe thead th {\n        text-align: right;\n    }\n</style>\n<table border=\"1\" class=\"dataframe\">\n  <thead>\n    <tr style=\"text-align: right;\">\n      <th></th>\n      <th>학년</th>\n      <th>성별</th>\n      <th>국어</th>\n      <th>영어</th>\n      <th>수학</th>\n      <th>과학</th>\n    </tr>\n    <tr>\n      <th>이름</th>\n      <th></th>\n      <th></th>\n      <th></th>\n      <th></th>\n      <th></th>\n      <th></th>\n    </tr>\n  </thead>\n  <tbody>\n    <tr>\n      <th>철수</th>\n      <td>1</td>\n      <td>남자</td>\n      <td>98</td>\n      <td>NaN</td>\n      <td>88.0</td>\n      <td>64.0</td>\n    </tr>\n    <tr>\n      <th>영희</th>\n      <td>2</td>\n      <td>여자</td>\n      <td>88</td>\n      <td>90.0</td>\n      <td>62.0</td>\n      <td>72.0</td>\n    </tr>\n    <tr>\n      <th>민수</th>\n      <td>1</td>\n      <td>남자</td>\n      <td>92</td>\n      <td>70.0</td>\n      <td>NaN</td>\n      <td>NaN</td>\n    </tr>\n    <tr>\n      <th>수현</th>\n      <td>3</td>\n      <td>여자</td>\n      <td>63</td>\n      <td>60.0</td>\n      <td>31.0</td>\n      <td>70.0</td>\n    </tr>\n    <tr>\n      <th>호영</th>\n      <td>4</td>\n      <td>남자</td>\n      <td>120</td>\n      <td>50.0</td>\n      <td>NaN</td>\n      <td>88.0</td>\n    </tr>\n  </tbody>\n</table>\n</div>"
     },
     "execution_count": 32,
     "metadata": {},
     "output_type": "execute_result"
    }
   ],
   "source": [
    "df1=pd.read_csv('data/grade.csv', encoding='euc-kr')\n",
    "df1.set_index('이름', inplace=True)\n",
    "df1"
   ],
   "metadata": {
    "collapsed": false
   }
  },
  {
   "cell_type": "markdown",
   "source": [
    "### 요약 통계 정보"
   ],
   "metadata": {
    "collapsed": false
   }
  },
  {
   "cell_type": "code",
   "execution_count": 33,
   "outputs": [
    {
     "data": {
      "text/plain": "               국어         영어         수학         과학\ncount    5.000000   4.000000   3.000000   4.000000\nmean    92.200000  67.500000  60.333333  73.500000\nstd     20.474374  17.078251  28.536526  10.246951\nmin     63.000000  50.000000  31.000000  64.000000\n25%     88.000000  57.500000  46.500000  68.500000\n50%     92.000000  65.000000  62.000000  71.000000\n75%     98.000000  75.000000  75.000000  76.000000\nmax    120.000000  90.000000  88.000000  88.000000",
      "text/html": "<div>\n<style scoped>\n    .dataframe tbody tr th:only-of-type {\n        vertical-align: middle;\n    }\n\n    .dataframe tbody tr th {\n        vertical-align: top;\n    }\n\n    .dataframe thead th {\n        text-align: right;\n    }\n</style>\n<table border=\"1\" class=\"dataframe\">\n  <thead>\n    <tr style=\"text-align: right;\">\n      <th></th>\n      <th>국어</th>\n      <th>영어</th>\n      <th>수학</th>\n      <th>과학</th>\n    </tr>\n  </thead>\n  <tbody>\n    <tr>\n      <th>count</th>\n      <td>5.000000</td>\n      <td>4.000000</td>\n      <td>3.000000</td>\n      <td>4.000000</td>\n    </tr>\n    <tr>\n      <th>mean</th>\n      <td>92.200000</td>\n      <td>67.500000</td>\n      <td>60.333333</td>\n      <td>73.500000</td>\n    </tr>\n    <tr>\n      <th>std</th>\n      <td>20.474374</td>\n      <td>17.078251</td>\n      <td>28.536526</td>\n      <td>10.246951</td>\n    </tr>\n    <tr>\n      <th>min</th>\n      <td>63.000000</td>\n      <td>50.000000</td>\n      <td>31.000000</td>\n      <td>64.000000</td>\n    </tr>\n    <tr>\n      <th>25%</th>\n      <td>88.000000</td>\n      <td>57.500000</td>\n      <td>46.500000</td>\n      <td>68.500000</td>\n    </tr>\n    <tr>\n      <th>50%</th>\n      <td>92.000000</td>\n      <td>65.000000</td>\n      <td>62.000000</td>\n      <td>71.000000</td>\n    </tr>\n    <tr>\n      <th>75%</th>\n      <td>98.000000</td>\n      <td>75.000000</td>\n      <td>75.000000</td>\n      <td>76.000000</td>\n    </tr>\n    <tr>\n      <th>max</th>\n      <td>120.000000</td>\n      <td>90.000000</td>\n      <td>88.000000</td>\n      <td>88.000000</td>\n    </tr>\n  </tbody>\n</table>\n</div>"
     },
     "execution_count": 33,
     "metadata": {},
     "output_type": "execute_result"
    }
   ],
   "source": [
    "# 숫자 컬럼만 모아서 확인함\n",
    "# 이때 카테고리형 컬럼은 제외함\n",
    "df2 = df1[['국어', '영어', '수학', '과학']]\n",
    "df2.describe()"
   ],
   "metadata": {
    "collapsed": false
   }
  },
  {
   "cell_type": "markdown",
   "source": [
    "- count: 결측치를 제외한 데이터 개수\n",
    "- mean: 결측치를 제외한 평균\n",
    "- min: 결측치를 제외한 최소값\n",
    "- std: 결측치를 제외한 표준편차\n",
    "- 25%: 결측치를 제외한 25% 위치와 가장 가까운 값\n",
    "- 50%: 결측치를 제외한 50% 위치와 가장 가까운 값\n",
    "- 75%: 결측치를 제외한 75% 위치와 가장 가까운 값\n",
    "- max: 결측치를 제외한 최대값"
   ],
   "metadata": {
    "collapsed": false
   }
  },
  {
   "cell_type": "code",
   "execution_count": 34,
   "outputs": [
    {
     "data": {
      "text/plain": "               국어         영어         수학         과학\ncount    5.000000   4.000000   3.000000   4.000000\nmean    92.200000  67.500000  60.333333  73.500000\nstd     20.474374  17.078251  28.536526  10.246951\nmin     63.000000  50.000000  31.000000  64.000000\n10%     73.000000  53.000000  37.200000  65.800000\n20%     83.000000  56.000000  43.400000  67.600000\n30%     88.800000  59.000000  49.600000  69.400000\n40%     90.400000  62.000000  55.800000  70.400000\n50%     92.000000  65.000000  62.000000  71.000000\n60%     94.400000  68.000000  67.200000  71.600000\n70%     96.800000  72.000000  72.400000  73.600000\n80%    102.400000  78.000000  77.600000  78.400000\n90%    111.200000  84.000000  82.800000  83.200000\nmax    120.000000  90.000000  88.000000  88.000000",
      "text/html": "<div>\n<style scoped>\n    .dataframe tbody tr th:only-of-type {\n        vertical-align: middle;\n    }\n\n    .dataframe tbody tr th {\n        vertical-align: top;\n    }\n\n    .dataframe thead th {\n        text-align: right;\n    }\n</style>\n<table border=\"1\" class=\"dataframe\">\n  <thead>\n    <tr style=\"text-align: right;\">\n      <th></th>\n      <th>국어</th>\n      <th>영어</th>\n      <th>수학</th>\n      <th>과학</th>\n    </tr>\n  </thead>\n  <tbody>\n    <tr>\n      <th>count</th>\n      <td>5.000000</td>\n      <td>4.000000</td>\n      <td>3.000000</td>\n      <td>4.000000</td>\n    </tr>\n    <tr>\n      <th>mean</th>\n      <td>92.200000</td>\n      <td>67.500000</td>\n      <td>60.333333</td>\n      <td>73.500000</td>\n    </tr>\n    <tr>\n      <th>std</th>\n      <td>20.474374</td>\n      <td>17.078251</td>\n      <td>28.536526</td>\n      <td>10.246951</td>\n    </tr>\n    <tr>\n      <th>min</th>\n      <td>63.000000</td>\n      <td>50.000000</td>\n      <td>31.000000</td>\n      <td>64.000000</td>\n    </tr>\n    <tr>\n      <th>10%</th>\n      <td>73.000000</td>\n      <td>53.000000</td>\n      <td>37.200000</td>\n      <td>65.800000</td>\n    </tr>\n    <tr>\n      <th>20%</th>\n      <td>83.000000</td>\n      <td>56.000000</td>\n      <td>43.400000</td>\n      <td>67.600000</td>\n    </tr>\n    <tr>\n      <th>30%</th>\n      <td>88.800000</td>\n      <td>59.000000</td>\n      <td>49.600000</td>\n      <td>69.400000</td>\n    </tr>\n    <tr>\n      <th>40%</th>\n      <td>90.400000</td>\n      <td>62.000000</td>\n      <td>55.800000</td>\n      <td>70.400000</td>\n    </tr>\n    <tr>\n      <th>50%</th>\n      <td>92.000000</td>\n      <td>65.000000</td>\n      <td>62.000000</td>\n      <td>71.000000</td>\n    </tr>\n    <tr>\n      <th>60%</th>\n      <td>94.400000</td>\n      <td>68.000000</td>\n      <td>67.200000</td>\n      <td>71.600000</td>\n    </tr>\n    <tr>\n      <th>70%</th>\n      <td>96.800000</td>\n      <td>72.000000</td>\n      <td>72.400000</td>\n      <td>73.600000</td>\n    </tr>\n    <tr>\n      <th>80%</th>\n      <td>102.400000</td>\n      <td>78.000000</td>\n      <td>77.600000</td>\n      <td>78.400000</td>\n    </tr>\n    <tr>\n      <th>90%</th>\n      <td>111.200000</td>\n      <td>84.000000</td>\n      <td>82.800000</td>\n      <td>83.200000</td>\n    </tr>\n    <tr>\n      <th>max</th>\n      <td>120.000000</td>\n      <td>90.000000</td>\n      <td>88.000000</td>\n      <td>88.000000</td>\n    </tr>\n  </tbody>\n</table>\n</div>"
     },
     "execution_count": 34,
     "metadata": {},
     "output_type": "execute_result"
    }
   ],
   "source": [
    "# 25%, 75%를 설정할 수 있음\n",
    "# 50% 위치값은 무조건 나오므로 생략해도 됨\n",
    "df2.describe(percentiles=[0.1, 0.2, 0.3, 0.4, 0.6, 0.7, 0.8, 0.9])"
   ],
   "metadata": {
    "collapsed": false
   }
  },
  {
   "cell_type": "code",
   "execution_count": 35,
   "outputs": [
    {
     "data": {
      "text/plain": "       학년  성별\ncount   5   5\nunique  4   2\ntop     1  남자\nfreq    2   3",
      "text/html": "<div>\n<style scoped>\n    .dataframe tbody tr th:only-of-type {\n        vertical-align: middle;\n    }\n\n    .dataframe tbody tr th {\n        vertical-align: top;\n    }\n\n    .dataframe thead th {\n        text-align: right;\n    }\n</style>\n<table border=\"1\" class=\"dataframe\">\n  <thead>\n    <tr style=\"text-align: right;\">\n      <th></th>\n      <th>학년</th>\n      <th>성별</th>\n    </tr>\n  </thead>\n  <tbody>\n    <tr>\n      <th>count</th>\n      <td>5</td>\n      <td>5</td>\n    </tr>\n    <tr>\n      <th>unique</th>\n      <td>4</td>\n      <td>2</td>\n    </tr>\n    <tr>\n      <th>top</th>\n      <td>1</td>\n      <td>남자</td>\n    </tr>\n    <tr>\n      <th>freq</th>\n      <td>2</td>\n      <td>3</td>\n    </tr>\n  </tbody>\n</table>\n</div>"
     },
     "execution_count": 35,
     "metadata": {},
     "output_type": "execute_result"
    }
   ],
   "source": [
    "# 카테고리형 데이터의 요약 통계 정보\n",
    "df2 = df1[['학년', '성별']]\n",
    "\n",
    "# 숫자 컬럼이 있다면 숫자 컬럼만 모아 요약 통계 정보를 보여주므로\n",
    "# 모든 컬럼을 문자열로 바꿔줘야 함\n",
    "df2.astype('str').describe()"
   ],
   "metadata": {
    "collapsed": false
   }
  },
  {
   "cell_type": "markdown",
   "source": [
    "- count: 결측치를 제외한 행의 개수\n",
    "- unique: 중복을 제외한 데이터의 개수(데이터의 가지수)\n",
    "- top: 가장 많이 있는 값\n",
    "- freq: 가장 많이 있는 값의 개수"
   ],
   "metadata": {
    "collapsed": false
   }
  },
  {
   "cell_type": "markdown",
   "source": [
    "### 통계함수\n",
    "- 모든 통계값은 결측치를 제외함\n",
    "- 일부 함수는 문자열이 저장되어 있는 컬럼을 제외함"
   ],
   "metadata": {
    "collapsed": false
   }
  },
  {
   "cell_type": "code",
   "execution_count": 36,
   "outputs": [
    {
     "data": {
      "text/plain": "학년    5\n성별    5\n국어    5\n영어    4\n수학    3\n과학    4\ndtype: int64"
     },
     "execution_count": 36,
     "metadata": {},
     "output_type": "execute_result"
    }
   ],
   "source": [
    "# 결측치를 제외한 데이터의 개수\n",
    "df1.count()"
   ],
   "metadata": {
    "collapsed": false
   }
  },
  {
   "cell_type": "code",
   "execution_count": 37,
   "outputs": [
    {
     "data": {
      "text/plain": "4"
     },
     "execution_count": 37,
     "metadata": {},
     "output_type": "execute_result"
    }
   ],
   "source": [
    "# 통계함수들은 Series도 지원\n",
    "df1['영어'].count()"
   ],
   "metadata": {
    "collapsed": false
   }
  },
  {
   "cell_type": "code",
   "execution_count": 38,
   "outputs": [
    {
     "data": {
      "text/plain": "array(['남자', '여자'], dtype=object)"
     },
     "execution_count": 38,
     "metadata": {},
     "output_type": "execute_result"
    }
   ],
   "source": [
    "# 컬럼에 저장되어 있는 값 확인\n",
    "# Series도 지원함\n",
    "df1['성별'].unique()"
   ],
   "metadata": {
    "collapsed": false
   }
  },
  {
   "cell_type": "code",
   "execution_count": 39,
   "outputs": [
    {
     "data": {
      "text/plain": "array([nan, 90., 70., 60., 50.])"
     },
     "execution_count": 39,
     "metadata": {},
     "output_type": "execute_result"
    }
   ],
   "source": [
    "# unique 함수는 결측치를 포함함\n",
    "df1['영어'].unique()"
   ],
   "metadata": {
    "collapsed": false
   }
  },
  {
   "cell_type": "code",
   "execution_count": 40,
   "outputs": [
    {
     "data": {
      "text/plain": "90.0    1\n70.0    1\n60.0    1\n50.0    1\nName: 영어, dtype: int64"
     },
     "metadata": {},
     "output_type": "display_data"
    },
    {
     "data": {
      "text/plain": "Float64Index([90.0, 70.0, 60.0, 50.0], dtype='float64')"
     },
     "metadata": {},
     "output_type": "display_data"
    }
   ],
   "source": [
    "# 만약 결측치를 제외하고 확인하려면, value_counts 함수를 사용함.\n",
    "a1 = df1['영어'].value_counts()\n",
    "\n",
    "display(a1)\n",
    "display(a1.index)"
   ],
   "metadata": {
    "collapsed": false
   }
  },
  {
   "cell_type": "code",
   "execution_count": 41,
   "outputs": [
    {
     "name": "stderr",
     "output_type": "stream",
     "text": [
      "/var/folders/2p/5ztvmmzx1xzdnqqn7snr0gp00000gn/T/ipykernel_29764/598108948.py:2: FutureWarning: Dropping of nuisance columns in DataFrame reductions (with 'numeric_only=None') is deprecated; in a future version this will raise TypeError.  Select only valid columns before calling the reduction.\n",
      "  df1.mean()\n"
     ]
    },
    {
     "data": {
      "text/plain": "학년     2.200000\n국어    92.200000\n영어    67.500000\n수학    60.333333\n과학    73.500000\ndtype: float64"
     },
     "execution_count": 41,
     "metadata": {},
     "output_type": "execute_result"
    }
   ],
   "source": [
    "# 결측치를 제외한 평균\n",
    "df1.mean()"
   ],
   "metadata": {
    "collapsed": false
   }
  },
  {
   "cell_type": "code",
   "execution_count": 42,
   "outputs": [
    {
     "name": "stderr",
     "output_type": "stream",
     "text": [
      "/var/folders/2p/5ztvmmzx1xzdnqqn7snr0gp00000gn/T/ipykernel_29764/1932601846.py:8: FutureWarning: Dropping of nuisance columns in DataFrame reductions (with 'numeric_only=None') is deprecated; in a future version this will raise TypeError.  Select only valid columns before calling the reduction.\n",
      "  a3 = df1.std()\n",
      "/var/folders/2p/5ztvmmzx1xzdnqqn7snr0gp00000gn/T/ipykernel_29764/1932601846.py:11: FutureWarning: Dropping of nuisance columns in DataFrame reductions (with 'numeric_only=None') is deprecated; in a future version this will raise TypeError.  Select only valid columns before calling the reduction.\n",
      "  a4 = df1.var()\n",
      "/var/folders/2p/5ztvmmzx1xzdnqqn7snr0gp00000gn/T/ipykernel_29764/1932601846.py:17: FutureWarning: Dropping of nuisance columns in DataFrame reductions (with 'numeric_only=None') is deprecated; in a future version this will raise TypeError.  Select only valid columns before calling the reduction.\n",
      "  a6 = df1.median()\n"
     ]
    }
   ],
   "source": [
    "# 결측치를 제외한 최대값\n",
    "a1 = df1.max()\n",
    "\n",
    "# 결측치를 제외한 최소값\n",
    "a2 = df1.min()\n",
    "\n",
    "# 결측치를 제외한 표준편차\n",
    "a3 = df1.std()\n",
    "\n",
    "# 결측치를 제외한 분산\n",
    "a4 = df1.var()\n",
    "\n",
    "# 25% 위치 위치값\n",
    "a5 = df1.quantile()\n",
    "\n",
    "# 중앙값\n",
    "a6 = df1.median()\n",
    "\n",
    "# 10% 위치의 값(0~1)\n",
    "a7 = df1.quantile(q=0.1)"
   ],
   "metadata": {
    "collapsed": false
   }
  },
  {
   "cell_type": "code",
   "execution_count": 43,
   "outputs": [
    {
     "data": {
      "text/plain": "학년       4\n성별      여자\n국어     120\n영어    90.0\n수학    88.0\n과학    88.0\ndtype: object"
     },
     "metadata": {},
     "output_type": "display_data"
    },
    {
     "data": {
      "text/plain": "학년       1\n성별      남자\n국어      63\n영어    50.0\n수학    31.0\n과학    64.0\ndtype: object"
     },
     "metadata": {},
     "output_type": "display_data"
    },
    {
     "data": {
      "text/plain": "학년     1.303840\n국어    20.474374\n영어    17.078251\n수학    28.536526\n과학    10.246951\ndtype: float64"
     },
     "metadata": {},
     "output_type": "display_data"
    },
    {
     "data": {
      "text/plain": "학년      1.700000\n국어    419.200000\n영어    291.666667\n수학    814.333333\n과학    105.000000\ndtype: float64"
     },
     "metadata": {},
     "output_type": "display_data"
    },
    {
     "data": {
      "text/plain": "학년     2.0\n국어    92.0\n영어    65.0\n수학    62.0\n과학    71.0\nName: 0.5, dtype: float64"
     },
     "metadata": {},
     "output_type": "display_data"
    },
    {
     "data": {
      "text/plain": "학년     2.0\n국어    92.0\n영어    65.0\n수학    62.0\n과학    71.0\ndtype: float64"
     },
     "metadata": {},
     "output_type": "display_data"
    },
    {
     "data": {
      "text/plain": "학년     1.0\n국어    73.0\n영어    53.0\n수학    37.2\n과학    65.8\nName: 0.1, dtype: float64"
     },
     "metadata": {},
     "output_type": "display_data"
    }
   ],
   "source": [
    "display(a1)\n",
    "display(a2)\n",
    "display(a3)\n",
    "display(a4)\n",
    "display(a5)\n",
    "display(a6)\n",
    "display(a7)"
   ],
   "metadata": {
    "collapsed": false
   }
  }
 ],
 "metadata": {
  "kernelspec": {
   "display_name": "Python 3",
   "language": "python",
   "name": "python3"
  },
  "language_info": {
   "codemirror_mode": {
    "name": "ipython",
    "version": 2
   },
   "file_extension": ".py",
   "mimetype": "text/x-python",
   "name": "python",
   "nbconvert_exporter": "python",
   "pygments_lexer": "ipython2",
   "version": "2.7.6"
  }
 },
 "nbformat": 4,
 "nbformat_minor": 0
}
