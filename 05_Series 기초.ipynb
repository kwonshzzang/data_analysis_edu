{
 "cells": [
  {
   "cell_type": "markdown",
   "source": [
    "### 필요한 라이브러리 로딩"
   ],
   "metadata": {
    "collapsed": false
   }
  },
  {
   "cell_type": "code",
   "execution_count": 2,
   "outputs": [],
   "source": [
    "import numpy as np\n",
    "import pandas as pd"
   ],
   "metadata": {
    "collapsed": false
   }
  },
  {
   "cell_type": "markdown",
   "source": [
    "### pandas의 데이터 구조 개념\n",
    "- Series: 컬럼 하나의 데이터를 관리하는 요소. 행의 개념만 존재함.\n",
    "- DataFrame: 다수의 Series를 모아 하나로 관리하는 요소. 행과 열의 개념이 모두 존재함.\n",
    "- index: Series나 DataFrame에서 각 행을 구분하기 위한 이름(0부터 1씩 증가하는 개념으로 생각하면 안됨!)\n",
    "- 컬럼 이름: DataFrame에서 각 컬럼을 구분하기 위해 사용하는 이름"
   ],
   "metadata": {
    "collapsed": false
   }
  },
  {
   "cell_type": "markdown",
   "source": [
    "### Series\n",
    "- 값과 인덱스로 구성된 1열 데이터\n",
    "- 특성 하나의 데이터"
   ],
   "metadata": {
    "collapsed": false
   }
  },
  {
   "cell_type": "markdown",
   "source": [
    "### Series 생성\n",
    "- 튜플, 리스트, ndarray등 순서값을 가지고 관리하는 요소\n",
    "- 딕셔너리와 같은 이름을 가지고 관리하는 요소\n",
    "- 관리할 데이터를 지정하면 데이터는 ndarray로 생성되고 이를 Series가 관리함"
   ],
   "metadata": {
    "collapsed": false
   }
  },
  {
   "cell_type": "code",
   "execution_count": 3,
   "outputs": [],
   "source": [
    "# 순서값으로 관리하는 요소를 통해 생성\n",
    "a1 = [10, 20, 30, 40, 50]\n",
    "a2 = (10, 20, 30, 40, 50)\n",
    "a3 = np.array([10, 20, 30, 40, 50])\n",
    "\n",
    "s1 = pd.Series(a1)\n",
    "s2 = pd.Series(a2)\n",
    "s3 = pd.Series(a3)"
   ],
   "metadata": {
    "collapsed": false
   }
  },
  {
   "cell_type": "code",
   "execution_count": 4,
   "outputs": [
    {
     "name": "stdout",
     "output_type": "stream",
     "text": [
      "<class 'pandas.core.series.Series'>\n",
      "<class 'pandas.core.series.Series'>\n",
      "<class 'pandas.core.series.Series'>\n"
     ]
    }
   ],
   "source": [
    "print(type(s1))\n",
    "print(type(s2))\n",
    "print(type(s3))"
   ],
   "metadata": {
    "collapsed": false
   }
  },
  {
   "cell_type": "code",
   "execution_count": 5,
   "outputs": [
    {
     "data": {
      "text/plain": "a1    10\na2    20\na3    30\na4    40\na5    50\ndtype: int64"
     },
     "execution_count": 5,
     "metadata": {},
     "output_type": "execute_result"
    }
   ],
   "source": [
    "# Series를 생성할때 index를 지정함\n",
    "# 값의 개수와 반드시 일치해야 함\n",
    "s1 = pd.Series([10, 20, 30, 40, 50], index=['a1', 'a2', 'a3', 'a4', 'a5'])\n",
    "s1"
   ],
   "metadata": {
    "collapsed": false
   }
  },
  {
   "cell_type": "code",
   "execution_count": 6,
   "outputs": [
    {
     "data": {
      "text/plain": "0    10\n1    20\n2    30\n3    40\n4    50\nName: Series 1, dtype: int64"
     },
     "execution_count": 6,
     "metadata": {},
     "output_type": "execute_result"
    }
   ],
   "source": [
    "# 생성할때 Series의 이름을 설정할 수 있음\n",
    "s2 = pd.Series([10, 20, 30, 40, 50], name='Series 1')\n",
    "s2"
   ],
   "metadata": {
    "collapsed": false
   }
  },
  {
   "cell_type": "code",
   "execution_count": 7,
   "outputs": [
    {
     "data": {
      "text/plain": "0    10.0\n1    20.0\n2    30.0\n3    40.0\n4    50.0\ndtype: float64"
     },
     "execution_count": 7,
     "metadata": {},
     "output_type": "execute_result"
    }
   ],
   "source": [
    "# 생성할때 관리하는 값의 타입을 지정하면\n",
    "# 그 타입으로 변환됨\n",
    "s3 = pd.Series([10, 20, 30, 40, 50], dtype='float')\n",
    "s3"
   ],
   "metadata": {
    "collapsed": false
   }
  },
  {
   "cell_type": "code",
   "execution_count": 8,
   "outputs": [
    {
     "data": {
      "text/plain": "0    10.0\n1    20.0\n2    30.0\n3    40.0\n4    50.0\ndtype: float64"
     },
     "execution_count": 8,
     "metadata": {},
     "output_type": "execute_result"
    }
   ],
   "source": [
    "s4 = pd.Series([10, 20, 30, 40, 50], dtype=np.float64)\n",
    "s4"
   ],
   "metadata": {
    "collapsed": false
   }
  },
  {
   "cell_type": "code",
   "execution_count": 9,
   "outputs": [
    {
     "data": {
      "text/plain": "a1    100\na2    200\na3    300\na4    400\na5    500\ndtype: int64"
     },
     "execution_count": 9,
     "metadata": {},
     "output_type": "execute_result"
    }
   ],
   "source": [
    "# 딕셔너리를 통한 Series 생성\n",
    "d1 = {\n",
    "    'a1':100,\n",
    "    'a2':200,\n",
    "    'a3':300,\n",
    "    'a4':400,\n",
    "    'a5':500,\n",
    "}\n",
    "\n",
    "s5 = pd.Series(d1)\n",
    "s5"
   ],
   "metadata": {
    "collapsed": false
   }
  },
  {
   "cell_type": "code",
   "execution_count": 10,
   "outputs": [
    {
     "data": {
      "text/plain": "0    10\n1    20\n2    30\n3    40\n4    50\ndtype: int64"
     },
     "execution_count": 10,
     "metadata": {},
     "output_type": "execute_result"
    }
   ],
   "source": [
    "s1 = pd.Series([10, 20, 30, 40, 50])\n",
    "s1"
   ],
   "metadata": {
    "collapsed": false
   }
  },
  {
   "cell_type": "code",
   "execution_count": 11,
   "outputs": [
    {
     "data": {
      "text/plain": "a1    10\na2    20\na3    30\na4    40\na5    50\ndtype: int64"
     },
     "execution_count": 11,
     "metadata": {},
     "output_type": "execute_result"
    }
   ],
   "source": [
    "# index를 변경함\n",
    "# 값의 개수와 동일해야 함\n",
    "s1.index = ['a1', 'a2', 'a3', 'a4', 'a5']\n",
    "s1"
   ],
   "metadata": {
    "collapsed": false
   }
  },
  {
   "cell_type": "code",
   "execution_count": 12,
   "outputs": [
    {
     "data": {
      "text/plain": "a1    10\na2    20\na3    30\na4    40\na5    50\nName: Series 2, dtype: int64"
     },
     "execution_count": 12,
     "metadata": {},
     "output_type": "execute_result"
    }
   ],
   "source": [
    "# 이름을 변경함\n",
    "s1.name = 'Series 2'\n",
    "s1"
   ],
   "metadata": {
    "collapsed": false
   }
  },
  {
   "cell_type": "code",
   "execution_count": 13,
   "outputs": [
    {
     "data": {
      "text/plain": "0    10.0\n1    20.0\n2    30.0\n3    40.0\n4    50.0\nName: Series 1, dtype: float64"
     },
     "execution_count": 13,
     "metadata": {},
     "output_type": "execute_result"
    }
   ],
   "source": [
    "# 새로운 값의 타입을 적용한 새로운 Series를 생성\n",
    "s3 = s2.astype(np.float64)\n",
    "s3"
   ],
   "metadata": {
    "collapsed": false
   }
  },
  {
   "cell_type": "markdown",
   "source": [
    "### Series가 관리하는 데이터 접근하기"
   ],
   "metadata": {
    "collapsed": false
   }
  },
  {
   "cell_type": "code",
   "execution_count": 14,
   "outputs": [
    {
     "data": {
      "text/plain": "0    10\n1    20\n2    30\n3    40\n4    50\ndtype: int64"
     },
     "execution_count": 14,
     "metadata": {},
     "output_type": "execute_result"
    }
   ],
   "source": [
    "# index를 지정하지 않고 Series 생성\n",
    "# index는 0부터 1씩 증가되는 값으로 자동 설정\n",
    "s1 = pd.Series([10, 20, 30, 40, 50])\n",
    "s1"
   ],
   "metadata": {
    "collapsed": false
   }
  },
  {
   "cell_type": "code",
   "execution_count": 15,
   "outputs": [
    {
     "data": {
      "text/plain": "RangeIndex(start=0, stop=5, step=1)"
     },
     "metadata": {},
     "output_type": "display_data"
    },
    {
     "data": {
      "text/plain": "10"
     },
     "metadata": {},
     "output_type": "display_data"
    },
    {
     "data": {
      "text/plain": "20"
     },
     "metadata": {},
     "output_type": "display_data"
    },
    {
     "data": {
      "text/plain": "1    20\n2    30\n3    40\ndtype: int64"
     },
     "metadata": {},
     "output_type": "display_data"
    },
    {
     "data": {
      "text/plain": "0    10\n1    20\n2    30\n3    40\ndtype: int64"
     },
     "metadata": {},
     "output_type": "display_data"
    },
    {
     "data": {
      "text/plain": "1    20\n2    30\n3    40\n4    50\ndtype: int64"
     },
     "metadata": {},
     "output_type": "display_data"
    }
   ],
   "source": [
    "# Series 생성시 index를 지정하지 않으면 Range Index라는 타입으로 지정됨\n",
    "# 이때, []로 접근을 하면 순서를 의미함\n",
    "display(s1.index)\n",
    "\n",
    "# 위치값 0\n",
    "display(s1[0])\n",
    "\n",
    "# 위치값 1\n",
    "display(s1[1])\n",
    "\n",
    "# 위치값 1~4-1\n",
    "display(s1[1:4])\n",
    "\n",
    "# 위치값 처음부터~4-1\n",
    "display(s1[:4])\n",
    "\n",
    "# 위치값 1~끝까지\n",
    "display(s1[1:])"
   ],
   "metadata": {
    "collapsed": false
   }
  },
  {
   "cell_type": "code",
   "execution_count": 16,
   "outputs": [
    {
     "data": {
      "text/plain": "10"
     },
     "metadata": {},
     "output_type": "display_data"
    },
    {
     "data": {
      "text/plain": "20"
     },
     "metadata": {},
     "output_type": "display_data"
    },
    {
     "data": {
      "text/plain": "1    20\n2    30\n3    40\n4    50\ndtype: int64"
     },
     "metadata": {},
     "output_type": "display_data"
    },
    {
     "data": {
      "text/plain": "0    10\n1    20\n2    30\n3    40\n4    50\ndtype: int64"
     },
     "metadata": {},
     "output_type": "display_data"
    },
    {
     "data": {
      "text/plain": "1    20\n2    30\n3    40\n4    50\ndtype: int64"
     },
     "metadata": {},
     "output_type": "display_data"
    }
   ],
   "source": [
    "# loc: index의 형태에 관계없이 index를 지정함\n",
    "\n",
    "# index 0\n",
    "display(s1.loc[0])\n",
    "\n",
    "# index 1\n",
    "display(s1.loc[1])\n",
    "\n",
    "# index 1~4\n",
    "display(s1.loc[1:4])\n",
    "\n",
    "# index 처음~4\n",
    "display(s1.loc[:4])\n",
    "\n",
    "# index 1~끝까지\n",
    "display(s1.loc[1:])"
   ],
   "metadata": {
    "collapsed": false
   }
  },
  {
   "cell_type": "code",
   "execution_count": 17,
   "outputs": [
    {
     "data": {
      "text/plain": "10"
     },
     "metadata": {},
     "output_type": "display_data"
    },
    {
     "data": {
      "text/plain": "20"
     },
     "metadata": {},
     "output_type": "display_data"
    },
    {
     "data": {
      "text/plain": "1    20\n2    30\n3    40\ndtype: int64"
     },
     "metadata": {},
     "output_type": "display_data"
    },
    {
     "data": {
      "text/plain": "0    10\n1    20\n2    30\n3    40\ndtype: int64"
     },
     "metadata": {},
     "output_type": "display_data"
    },
    {
     "data": {
      "text/plain": "1    20\n2    30\n3    40\n4    50\ndtype: int64"
     },
     "metadata": {},
     "output_type": "display_data"
    }
   ],
   "source": [
    "# iloc: index의 형태에 관계없이 순서를 지정함\n",
    "\n",
    "# 순서값 0\n",
    "display(s1.iloc[0])\n",
    "\n",
    "# 순서값 1\n",
    "display(s1.iloc[1])\n",
    "\n",
    "# 순서값 1~4-1\n",
    "display(s1.iloc[1:4])\n",
    "\n",
    "# 순서값 처음~4-1\n",
    "display(s1.iloc[:4])\n",
    "\n",
    "# 순서값 1~끝까지\n",
    "display(s1.iloc[1:])"
   ],
   "metadata": {
    "collapsed": false
   }
  },
  {
   "cell_type": "code",
   "execution_count": 18,
   "outputs": [
    {
     "data": {
      "text/plain": "0    10\n1    20\n2    30\n3    40\n4    50\ndtype: int64"
     },
     "execution_count": 18,
     "metadata": {},
     "output_type": "execute_result"
    }
   ],
   "source": [
    "# 숫자 인덱스를 가진 Series\n",
    "s2 = pd.Series([10, 20, 30, 40, 50], index=[0, 1, 2, 3, 4])\n",
    "s2"
   ],
   "metadata": {
    "collapsed": false
   }
  },
  {
   "cell_type": "code",
   "execution_count": 19,
   "outputs": [
    {
     "data": {
      "text/plain": "Int64Index([0, 1, 2, 3, 4], dtype='int64')"
     },
     "metadata": {},
     "output_type": "display_data"
    },
    {
     "data": {
      "text/plain": "10"
     },
     "metadata": {},
     "output_type": "display_data"
    },
    {
     "data": {
      "text/plain": "20"
     },
     "metadata": {},
     "output_type": "display_data"
    },
    {
     "data": {
      "text/plain": "1    20\n2    30\n3    40\ndtype: int64"
     },
     "metadata": {},
     "output_type": "display_data"
    },
    {
     "data": {
      "text/plain": "0    10\n1    20\n2    30\n3    40\ndtype: int64"
     },
     "metadata": {},
     "output_type": "display_data"
    },
    {
     "data": {
      "text/plain": "1    20\n2    30\n3    40\n4    50\ndtype: int64"
     },
     "metadata": {},
     "output_type": "display_data"
    }
   ],
   "source": [
    "# index를 직접 지정했다고 하더라도\n",
    "# index를 저정하지 않았을때와 동일하게 동작함\n",
    "# [숫자] : index를 통해 가져옴\n",
    "# [숫자:숫자]: 범위인 경우에는 순서값으로 가져옴\n",
    "\n",
    "display(s2.index)\n",
    "display(s2[0])\n",
    "display(s2[1])\n",
    "display(s2[1:4])\n",
    "display(s2[:4])\n",
    "display(s2[1:])"
   ],
   "metadata": {
    "collapsed": false
   }
  },
  {
   "cell_type": "code",
   "execution_count": 20,
   "outputs": [
    {
     "data": {
      "text/plain": "10"
     },
     "metadata": {},
     "output_type": "display_data"
    },
    {
     "data": {
      "text/plain": "20"
     },
     "metadata": {},
     "output_type": "display_data"
    },
    {
     "data": {
      "text/plain": "1    20\n2    30\n3    40\n4    50\ndtype: int64"
     },
     "metadata": {},
     "output_type": "display_data"
    },
    {
     "data": {
      "text/plain": "0    10\n1    20\n2    30\n3    40\n4    50\ndtype: int64"
     },
     "metadata": {},
     "output_type": "display_data"
    },
    {
     "data": {
      "text/plain": "1    20\n2    30\n3    40\n4    50\ndtype: int64"
     },
     "metadata": {},
     "output_type": "display_data"
    }
   ],
   "source": [
    "# index 형태와 관계없이 index를 지정함\n",
    "display(s2.loc[0])\n",
    "display(s2.loc[1])\n",
    "display(s2.loc[1:4])\n",
    "display(s2.loc[:4])\n",
    "display(s2.loc[1:])"
   ],
   "metadata": {
    "collapsed": false
   }
  },
  {
   "cell_type": "code",
   "execution_count": 21,
   "outputs": [
    {
     "data": {
      "text/plain": "10"
     },
     "metadata": {},
     "output_type": "display_data"
    },
    {
     "data": {
      "text/plain": "20"
     },
     "metadata": {},
     "output_type": "display_data"
    },
    {
     "data": {
      "text/plain": "1    20\n2    30\n3    40\ndtype: int64"
     },
     "metadata": {},
     "output_type": "display_data"
    },
    {
     "data": {
      "text/plain": "0    10\n1    20\n2    30\n3    40\ndtype: int64"
     },
     "metadata": {},
     "output_type": "display_data"
    },
    {
     "data": {
      "text/plain": "1    20\n2    30\n3    40\n4    50\ndtype: int64"
     },
     "metadata": {},
     "output_type": "display_data"
    }
   ],
   "source": [
    "# index 형태에 관계없이 순서를 지정함\n",
    "display(s2.iloc[0])\n",
    "display(s2.iloc[1])\n",
    "display(s2.iloc[1:4])\n",
    "display(s2.iloc[:4])\n",
    "display(s2.iloc[1:])"
   ],
   "metadata": {
    "collapsed": false
   }
  },
  {
   "cell_type": "code",
   "execution_count": 22,
   "outputs": [
    {
     "data": {
      "text/plain": "4    10\n0    20\n3    30\n1    40\n2    50\ndtype: int64"
     },
     "execution_count": 22,
     "metadata": {},
     "output_type": "execute_result"
    }
   ],
   "source": [
    "# index가 연속적이지 않은 숫자인 경우\n",
    "s3 = pd.Series([10, 20, 30, 40, 50], index=[4, 0, 3, 1, 2])\n",
    "s3"
   ],
   "metadata": {
    "collapsed": false
   }
  },
  {
   "cell_type": "code",
   "execution_count": 23,
   "outputs": [
    {
     "data": {
      "text/plain": "Int64Index([4, 0, 3, 1, 2], dtype='int64')"
     },
     "metadata": {},
     "output_type": "display_data"
    },
    {
     "data": {
      "text/plain": "20"
     },
     "metadata": {},
     "output_type": "display_data"
    },
    {
     "data": {
      "text/plain": "40"
     },
     "metadata": {},
     "output_type": "display_data"
    },
    {
     "data": {
      "text/plain": "0    20\n3    30\n1    40\ndtype: int64"
     },
     "metadata": {},
     "output_type": "display_data"
    },
    {
     "data": {
      "text/plain": "4    10\n0    20\n3    30\n1    40\ndtype: int64"
     },
     "metadata": {},
     "output_type": "display_data"
    },
    {
     "data": {
      "text/plain": "0    20\n3    30\n1    40\n2    50\ndtype: int64"
     },
     "metadata": {},
     "output_type": "display_data"
    }
   ],
   "source": [
    "# index의 형태에 관계없이 숫자로 구성되어 있을 경우\n",
    "# RangeIndex와 동일하게 동작함\n",
    "# [숫자]: index를 통해 가져옴\n",
    "# [숫자:숫자]: 범위인 경우에는 순서값으로 가져옴\n",
    "display(s3.index)\n",
    "display(s3[0])\n",
    "display(s3[1])\n",
    "display(s3[1:4])\n",
    "display(s3[:4])\n",
    "display(s3[1:])"
   ],
   "metadata": {
    "collapsed": false
   }
  },
  {
   "cell_type": "code",
   "execution_count": 24,
   "outputs": [
    {
     "data": {
      "text/plain": "a1    10\na2    20\na3    30\na4    40\na5    50\ndtype: int64"
     },
     "execution_count": 24,
     "metadata": {},
     "output_type": "execute_result"
    }
   ],
   "source": [
    "# index가 숫자가 아닌 경우\n",
    "s4 = pd.Series([10, 20, 30, 40, 50], index=['a1', 'a2', 'a3', 'a4', 'a5'])\n",
    "s4"
   ],
   "metadata": {
    "collapsed": false
   }
  },
  {
   "cell_type": "code",
   "execution_count": 25,
   "outputs": [
    {
     "data": {
      "text/plain": "Index(['a1', 'a2', 'a3', 'a4', 'a5'], dtype='object')"
     },
     "metadata": {},
     "output_type": "display_data"
    },
    {
     "data": {
      "text/plain": "10"
     },
     "metadata": {},
     "output_type": "display_data"
    },
    {
     "data": {
      "text/plain": "20"
     },
     "metadata": {},
     "output_type": "display_data"
    },
    {
     "data": {
      "text/plain": "a2    20\na3    30\na4    40\ndtype: int64"
     },
     "metadata": {},
     "output_type": "display_data"
    },
    {
     "data": {
      "text/plain": "a1    10\na2    20\na3    30\na4    40\ndtype: int64"
     },
     "metadata": {},
     "output_type": "display_data"
    },
    {
     "data": {
      "text/plain": "a2    20\na3    30\na4    40\na5    50\ndtype: int64"
     },
     "metadata": {},
     "output_type": "display_data"
    },
    {
     "data": {
      "text/plain": "20"
     },
     "metadata": {},
     "output_type": "display_data"
    },
    {
     "data": {
      "text/plain": "30"
     },
     "metadata": {},
     "output_type": "display_data"
    },
    {
     "data": {
      "text/plain": "a1    10\na2    20\na3    30\na4    40\ndtype: int64"
     },
     "metadata": {},
     "output_type": "display_data"
    },
    {
     "data": {
      "text/plain": "a1    10\na2    20\na3    30\na4    40\ndtype: int64"
     },
     "metadata": {},
     "output_type": "display_data"
    },
    {
     "data": {
      "text/plain": "a1    10\na2    20\na3    30\na4    40\na5    50\ndtype: int64"
     },
     "metadata": {},
     "output_type": "display_data"
    }
   ],
   "source": [
    "display(s4.index)\n",
    "\n",
    "# 숫자로 지정 - 위치값으로 사용\n",
    "display(s4[0])\n",
    "display(s4[1])\n",
    "display(s4[1:4])\n",
    "display(s4[:4])\n",
    "display(s4[1:])\n",
    "\n",
    "# index를 지정\n",
    "display(s4['a2'])\n",
    "display(s4['a3'])\n",
    "display(s4['a1':'a4'])\n",
    "display(s4[:'a4'])\n",
    "display(s4['a1':])"
   ],
   "metadata": {
    "collapsed": false
   }
  },
  {
   "cell_type": "code",
   "execution_count": 26,
   "outputs": [
    {
     "data": {
      "text/plain": "10"
     },
     "metadata": {},
     "output_type": "display_data"
    },
    {
     "data": {
      "text/plain": "20"
     },
     "metadata": {},
     "output_type": "display_data"
    },
    {
     "data": {
      "text/plain": "a2    20\na3    30\na4    40\ndtype: int64"
     },
     "metadata": {},
     "output_type": "display_data"
    },
    {
     "data": {
      "text/plain": "a1    10\na2    20\na3    30\na4    40\ndtype: int64"
     },
     "metadata": {},
     "output_type": "display_data"
    },
    {
     "data": {
      "text/plain": "a2    20\na3    30\na4    40\na5    50\ndtype: int64"
     },
     "metadata": {},
     "output_type": "display_data"
    }
   ],
   "source": [
    "# index의 형태와 관계없이 index를 지정함\n",
    "display(s4.loc['a1'])\n",
    "display(s4.loc['a2'])\n",
    "display(s4.loc['a2':'a4'])\n",
    "display(s4.loc[:'a4'])\n",
    "display(s4.loc['a2':])"
   ],
   "metadata": {
    "collapsed": false
   }
  },
  {
   "cell_type": "code",
   "execution_count": 27,
   "outputs": [
    {
     "data": {
      "text/plain": "10"
     },
     "metadata": {},
     "output_type": "display_data"
    },
    {
     "data": {
      "text/plain": "20"
     },
     "metadata": {},
     "output_type": "display_data"
    },
    {
     "data": {
      "text/plain": "a2    20\na3    30\na4    40\ndtype: int64"
     },
     "metadata": {},
     "output_type": "display_data"
    },
    {
     "data": {
      "text/plain": "a1    10\na2    20\na3    30\na4    40\ndtype: int64"
     },
     "metadata": {},
     "output_type": "display_data"
    },
    {
     "data": {
      "text/plain": "a2    20\na3    30\na4    40\na5    50\ndtype: int64"
     },
     "metadata": {},
     "output_type": "display_data"
    }
   ],
   "source": [
    "# index의 형태와 관계없이 순서를 지정함\n",
    "display(s4.iloc[0])\n",
    "display(s4.iloc[1])\n",
    "display(s4.iloc[1:4])\n",
    "display(s4.iloc[:4])\n",
    "display(s4.iloc[1:])"
   ],
   "metadata": {
    "collapsed": false
   }
  },
  {
   "cell_type": "markdown",
   "source": [
    "### Series 연산\n",
    "- 기본적으로 1차원 ndarray 연산과 동일하게 동작함.\n",
    "- index가 있다는 점, 연산에 사용되는 Series들의 데이터 개수가 다른 일이 매우 많이 있다는 점을 고려하여 연산을 수행함"
   ],
   "metadata": {
    "collapsed": false
   }
  },
  {
   "cell_type": "code",
   "execution_count": 28,
   "outputs": [],
   "source": [
    "s1 = pd.Series([10, 20, 30, 40, 50])\n",
    "s2 = pd.Series([1, 2, 3, 4, 5])"
   ],
   "metadata": {
    "collapsed": false
   }
  },
  {
   "cell_type": "code",
   "execution_count": 29,
   "outputs": [
    {
     "name": "stdout",
     "output_type": "stream",
     "text": [
      "0    11\n",
      "1    22\n",
      "2    33\n",
      "3    44\n",
      "4    55\n",
      "dtype: int64\n",
      "0     9\n",
      "1    18\n",
      "2    27\n",
      "3    36\n",
      "4    45\n",
      "dtype: int64\n",
      "0     10\n",
      "1     40\n",
      "2     90\n",
      "3    160\n",
      "4    250\n",
      "dtype: int64\n",
      "0    10\n",
      "1    10\n",
      "2    10\n",
      "3    10\n",
      "4    10\n",
      "dtype: int64\n"
     ]
    }
   ],
   "source": [
    "# Series간의 연산\n",
    "a1 = s1 + s2\n",
    "a2 = s1 - s2\n",
    "a3 = s1 * s2\n",
    "a4 = s1 // s2\n",
    "\n",
    "print(a1)\n",
    "print(a2)\n",
    "print(a3)\n",
    "print(a4)"
   ],
   "metadata": {
    "collapsed": false
   }
  },
  {
   "cell_type": "code",
   "execution_count": 30,
   "outputs": [
    {
     "data": {
      "text/plain": "0    20\n1    30\n2    40\n3    50\n4    60\ndtype: int64"
     },
     "metadata": {},
     "output_type": "display_data"
    },
    {
     "data": {
      "text/plain": "0     0\n1    10\n2    20\n3    30\n4    40\ndtype: int64"
     },
     "metadata": {},
     "output_type": "display_data"
    },
    {
     "data": {
      "text/plain": "0    100\n1    200\n2    300\n3    400\n4    500\ndtype: int64"
     },
     "metadata": {},
     "output_type": "display_data"
    },
    {
     "data": {
      "text/plain": "0    1\n1    2\n2    3\n3    4\n4    5\ndtype: int64"
     },
     "metadata": {},
     "output_type": "display_data"
    }
   ],
   "source": [
    "# Series와 숫자간의 연산\n",
    "a1 = s1 + 10\n",
    "a2 = s1 - 10\n",
    "a3 = s1 * 10\n",
    "a4 = s1 // 10\n",
    "\n",
    "display(a1)\n",
    "display(a2)\n",
    "display(a3)\n",
    "display(a4)"
   ],
   "metadata": {
    "collapsed": false
   }
  },
  {
   "cell_type": "code",
   "execution_count": 31,
   "outputs": [
    {
     "data": {
      "text/plain": "0    10\n1    20\n2    30\n3    40\n4    50\ndtype: int64"
     },
     "metadata": {},
     "output_type": "display_data"
    },
    {
     "data": {
      "text/plain": "4    1\n3    2\n2    3\n1    4\n0    5\ndtype: int64"
     },
     "metadata": {},
     "output_type": "display_data"
    }
   ],
   "source": [
    "# 두 Series의 index 형태가 다른 경우\n",
    "# Series의 index 형태에 관계없이 index가 같은 데이터끼리 연산을 수행함\n",
    "s3 = pd.Series([10, 20, 30, 40, 50], index=[0, 1, 2, 3, 4])\n",
    "s4 = pd.Series([1, 2, 3, 4, 5], index=[4, 3, 2, 1, 0])\n",
    "\n",
    "display(s3)\n",
    "display(s4)"
   ],
   "metadata": {
    "collapsed": false
   }
  },
  {
   "cell_type": "code",
   "execution_count": 32,
   "outputs": [
    {
     "data": {
      "text/plain": "0    15\n1    24\n2    33\n3    42\n4    51\ndtype: int64"
     },
     "metadata": {},
     "output_type": "display_data"
    },
    {
     "data": {
      "text/plain": "0     5\n1    16\n2    27\n3    38\n4    49\ndtype: int64"
     },
     "metadata": {},
     "output_type": "display_data"
    },
    {
     "data": {
      "text/plain": "0    50\n1    80\n2    90\n3    80\n4    50\ndtype: int64"
     },
     "metadata": {},
     "output_type": "display_data"
    },
    {
     "data": {
      "text/plain": "0     2\n1     5\n2    10\n3    20\n4    50\ndtype: int64"
     },
     "metadata": {},
     "output_type": "display_data"
    }
   ],
   "source": [
    "# Series간의 연산\n",
    "a1 = s3 + s4\n",
    "a2 = s3 - s4\n",
    "a3 = s3 * s4\n",
    "a4 = s3 // s4\n",
    "\n",
    "display(a1)\n",
    "display(a2)\n",
    "display(a3)\n",
    "display(a4)"
   ],
   "metadata": {
    "collapsed": false
   }
  },
  {
   "cell_type": "code",
   "execution_count": 33,
   "outputs": [
    {
     "data": {
      "text/plain": "0    10\n1    20\n2    30\n3    40\n4    50\ndtype: int64"
     },
     "metadata": {},
     "output_type": "display_data"
    },
    {
     "data": {
      "text/plain": "2    1\n3    2\n4    3\n5    4\n6    5\ndtype: int64"
     },
     "metadata": {},
     "output_type": "display_data"
    }
   ],
   "source": [
    "# 각 Series의 index가 서로간에 없는 것이 존재할때\n",
    "s5 = pd.Series([10, 20, 30, 40, 50], index=[0, 1, 2, 3, 4])\n",
    "s6 = pd.Series([1, 2, 3, 4, 5], index=[2, 3, 4, 5, 6])\n",
    "\n",
    "display(s5)\n",
    "display(s6)"
   ],
   "metadata": {
    "collapsed": false
   }
  },
  {
   "cell_type": "code",
   "execution_count": 34,
   "outputs": [
    {
     "data": {
      "text/plain": "0     NaN\n1     NaN\n2    31.0\n3    42.0\n4    53.0\n5     NaN\n6     NaN\ndtype: float64"
     },
     "metadata": {},
     "output_type": "display_data"
    },
    {
     "data": {
      "text/plain": "0     NaN\n1     NaN\n2    29.0\n3    38.0\n4    47.0\n5     NaN\n6     NaN\ndtype: float64"
     },
     "metadata": {},
     "output_type": "display_data"
    },
    {
     "data": {
      "text/plain": "0      NaN\n1      NaN\n2     30.0\n3     80.0\n4    150.0\n5      NaN\n6      NaN\ndtype: float64"
     },
     "metadata": {},
     "output_type": "display_data"
    },
    {
     "data": {
      "text/plain": "0     NaN\n1     NaN\n2    30.0\n3    20.0\n4    16.0\n5     NaN\n6     NaN\ndtype: float64"
     },
     "metadata": {},
     "output_type": "display_data"
    }
   ],
   "source": [
    "# pandas에서 제공하는 Series나 DataFrame의 경우 연산이 불가능한 상황에서는\n",
    "# 결측치(NaN, Na, NaT)나 무한대(inf)를 의미하는 값을 결과로 반환해 줌\n",
    "a1 = s5 + s6\n",
    "a2 = s5 - s6\n",
    "a3 = s5 * s6\n",
    "a4 = s5 // s6\n",
    "\n",
    "display(a1)\n",
    "display(a2)\n",
    "display(a3)\n",
    "display(a4)"
   ],
   "metadata": {
    "collapsed": false
   }
  },
  {
   "cell_type": "markdown",
   "source": [
    "### Series의 정보 및 검색"
   ],
   "metadata": {
    "collapsed": false
   }
  },
  {
   "cell_type": "code",
   "execution_count": 35,
   "outputs": [],
   "source": [
    "s1 = pd.Series([10, 20, 30, 40, 50])\n",
    "s2 = pd.Series([10, 20, 30, 40, 50], index=[10, 20, 30, 40, 50])\n",
    "s3 = pd.Series([10, 20, 30, 40, 50], index=['a1', 'a2', 'a3', 'a4', 'a5'])"
   ],
   "metadata": {
    "collapsed": false
   }
  },
  {
   "cell_type": "code",
   "execution_count": 36,
   "outputs": [
    {
     "data": {
      "text/plain": "RangeIndex(start=0, stop=5, step=1)"
     },
     "metadata": {},
     "output_type": "display_data"
    },
    {
     "data": {
      "text/plain": "Int64Index([10, 20, 30, 40, 50], dtype='int64')"
     },
     "metadata": {},
     "output_type": "display_data"
    },
    {
     "data": {
      "text/plain": "Index(['a1', 'a2', 'a3', 'a4', 'a5'], dtype='object')"
     },
     "metadata": {},
     "output_type": "display_data"
    }
   ],
   "source": [
    "# index 추출\n",
    "display(s1.index)\n",
    "display(s2.index)\n",
    "display(s3.index)"
   ],
   "metadata": {
    "collapsed": false
   }
  },
  {
   "cell_type": "code",
   "execution_count": 37,
   "outputs": [
    {
     "data": {
      "text/plain": "array([10, 20, 30, 40, 50])"
     },
     "metadata": {},
     "output_type": "display_data"
    },
    {
     "data": {
      "text/plain": "array([10, 20, 30, 40, 50])"
     },
     "metadata": {},
     "output_type": "display_data"
    },
    {
     "data": {
      "text/plain": "array([10, 20, 30, 40, 50])"
     },
     "metadata": {},
     "output_type": "display_data"
    }
   ],
   "source": [
    "# 값 추출\n",
    "# Series가 관리하는 값들을 ndarray로 반환해 줌\n",
    "display(s1.values)\n",
    "display(s2.values)\n",
    "display(s3.values)"
   ],
   "metadata": {
    "collapsed": false
   }
  },
  {
   "cell_type": "code",
   "execution_count": 38,
   "outputs": [
    {
     "data": {
      "text/plain": "20"
     },
     "metadata": {},
     "output_type": "display_data"
    },
    {
     "data": {
      "text/plain": "10"
     },
     "metadata": {},
     "output_type": "display_data"
    },
    {
     "data": {
      "text/plain": "20"
     },
     "metadata": {},
     "output_type": "display_data"
    },
    {
     "data": {
      "text/plain": "20"
     },
     "metadata": {},
     "output_type": "display_data"
    }
   ],
   "source": [
    "# 값 하나만 가져오기\n",
    "\n",
    "# index가 숫자인 경우 index를 지칭함\n",
    "display(s1[1])\n",
    "display(s2[10])\n",
    "\n",
    "# index가 숫자가 아닌 경우\n",
    "# 순서\n",
    "display(s3[1])\n",
    "# index\n",
    "display(s3['a2'])"
   ],
   "metadata": {
    "collapsed": false
   }
  },
  {
   "cell_type": "code",
   "execution_count": 41,
   "outputs": [
    {
     "data": {
      "text/plain": "0    10\n2    30\n4    50\ndtype: int64"
     },
     "metadata": {},
     "output_type": "display_data"
    },
    {
     "data": {
      "text/plain": "10    10\n30    30\n50    50\ndtype: int64"
     },
     "metadata": {},
     "output_type": "display_data"
    },
    {
     "data": {
      "text/plain": "a1    10\na3    30\na5    50\ndtype: int64"
     },
     "metadata": {},
     "output_type": "display_data"
    },
    {
     "data": {
      "text/plain": "a1    10\na3    30\na5    50\ndtype: int64"
     },
     "metadata": {},
     "output_type": "display_data"
    }
   ],
   "source": [
    "# 한번에 여려개를 가져옴\n",
    "# index가 숫자로 되어 있는 경우\n",
    "# index를 지칭함\n",
    "display(s1[[0, 2, 4]])\n",
    "display(s2[[10, 30, 50]])\n",
    "\n",
    "# index가 숫자가 아닌 경우\n",
    "# 순서\n",
    "display(s3[[0, 2, 4]])\n",
    "# index\n",
    "display(s3[['a1', 'a3', 'a5']])"
   ],
   "metadata": {
    "collapsed": false
   }
  },
  {
   "cell_type": "code",
   "execution_count": 43,
   "outputs": [
    {
     "data": {
      "text/plain": "0    10\n2    30\n4    50\ndtype: int64"
     },
     "metadata": {},
     "output_type": "display_data"
    },
    {
     "data": {
      "text/plain": "10    10\n30    30\n50    50\ndtype: int64"
     },
     "metadata": {},
     "output_type": "display_data"
    },
    {
     "data": {
      "text/plain": "a1    10\na3    30\na5    50\ndtype: int64"
     },
     "metadata": {},
     "output_type": "display_data"
    }
   ],
   "source": [
    "# index의 형태에 관계없이 순서\n",
    "display(s1.iloc[[0, 2, 4]])\n",
    "display(s2.iloc[[0, 2, 4]])\n",
    "display(s3.iloc[[0, 2, 4]])"
   ],
   "metadata": {
    "collapsed": false
   }
  },
  {
   "cell_type": "code",
   "execution_count": 46,
   "outputs": [
    {
     "data": {
      "text/plain": "0    10\n2    30\n4    50\ndtype: int64"
     },
     "metadata": {},
     "output_type": "display_data"
    },
    {
     "data": {
      "text/plain": "10    10\n30    30\n50    50\ndtype: int64"
     },
     "metadata": {},
     "output_type": "display_data"
    },
    {
     "data": {
      "text/plain": "a1    10\na2    20\na3    30\ndtype: int64"
     },
     "metadata": {},
     "output_type": "display_data"
    }
   ],
   "source": [
    "# index의 형태와 관계없이 index\n",
    "display(s1.loc[[0, 2, 4]])\n",
    "display(s2.loc[[10, 30, 50]])\n",
    "display(s3.loc[['a1', 'a2', 'a3']])"
   ],
   "metadata": {
    "collapsed": false
   }
  },
  {
   "cell_type": "code",
   "execution_count": 47,
   "outputs": [
    {
     "data": {
      "text/plain": "0    10\n2    30\n4    50\ndtype: int64"
     },
     "metadata": {},
     "output_type": "display_data"
    }
   ],
   "source": [
    "# True나 False로 구성된 요소를 통해 데이터 추출이 가능\n",
    "display(s1[[True, False, True, False, True]])"
   ],
   "metadata": {
    "collapsed": false
   }
  },
  {
   "cell_type": "code",
   "execution_count": 48,
   "outputs": [
    {
     "data": {
      "text/plain": "3    40\n4    50\ndtype: int64"
     },
     "execution_count": 48,
     "metadata": {},
     "output_type": "execute_result"
    }
   ],
   "source": [
    "s1[s1 > 30]"
   ],
   "metadata": {
    "collapsed": false
   }
  }
 ],
 "metadata": {
  "kernelspec": {
   "display_name": "Python 3",
   "language": "python",
   "name": "python3"
  },
  "language_info": {
   "codemirror_mode": {
    "name": "ipython",
    "version": 2
   },
   "file_extension": ".py",
   "mimetype": "text/x-python",
   "name": "python",
   "nbconvert_exporter": "python",
   "pygments_lexer": "ipython2",
   "version": "2.7.6"
  }
 },
 "nbformat": 4,
 "nbformat_minor": 0
}
