{
 "cells": [
  {
   "cell_type": "code",
   "execution_count": 1,
   "metadata": {
    "collapsed": true
   },
   "outputs": [],
   "source": [
    "import numpy as np\n",
    "import pandas as pd"
   ]
  },
  {
   "cell_type": "markdown",
   "source": [
    "### DataFrame\n",
    "- 2차원 행렬 데이터를 행렬 형태가 아닌 테이블 형태로 관리할 수 있도록 제공되는 요소\n",
    "- 데이터프레임의 컬럼 하나는 하나의 Series로 구성됨\n",
    "- 다수의 Series들을 모아 하나의 데이터프레임을 구성함\n",
    "- 데이터프레임의 각 Series는 서로 독립적이며 독립변수라고 부르기로 함\n",
    "- 데이터프레임은 데이터의 특성만큼의 Series로 구성됨"
   ],
   "metadata": {
    "collapsed": false
   }
  },
  {
   "cell_type": "markdown",
   "source": [
    "### 데이터프레임 생성\n",
    "- 2차원 리스트\n",
    "- 리스트를 가지고 있는 딕셔너리\n",
    "- 딕셔너리를 가지고 있는 리스트\n",
    "- 외부파일(csv, 엑셀등등)\n",
    "- 웹 문서의 table tag\n",
    "- 데이터베이스\n",
    "- spss등 각종 통계 소프트웨어의 산출물\n",
    "- 기타 등등"
   ],
   "metadata": {
    "collapsed": false
   }
  },
  {
   "cell_type": "code",
   "execution_count": 2,
   "outputs": [],
   "source": [
    "# 2차원 리스트\n",
    "# 각 리스트에서 위치가 같은 값들을 모아 Series(컬럼)로 구성해 줌\n",
    "# 값이 부족한 부분은 결측치로 채워짐\n",
    "# 각 리스트 중에서 값의 개수가 가장 많은 것의 만큼 Series(컬럼)가 생성됨\n",
    "\n",
    "list1 = [\n",
    "    [1, '남자', 90, 80, 70],\n",
    "    [2, '여자', 91, 81, 71],\n",
    "    [3, '남자', 92, 82, 72],\n",
    "    [4, '여자', 93, 83, 73],\n",
    "    [5, '남자', 94, 84],\n",
    "    [6, '여자', 95, 85, 75, 65],\n",
    "]\n",
    "\n",
    "df1 = pd.DataFrame(list1)"
   ],
   "metadata": {
    "collapsed": false
   }
  },
  {
   "cell_type": "code",
   "execution_count": 3,
   "outputs": [
    {
     "name": "stdout",
     "output_type": "stream",
     "text": [
      "   0   1   2   3     4     5\n",
      "0  1  남자  90  80  70.0   NaN\n",
      "1  2  여자  91  81  71.0   NaN\n",
      "2  3  남자  92  82  72.0   NaN\n",
      "3  4  여자  93  83  73.0   NaN\n",
      "4  5  남자  94  84   NaN   NaN\n",
      "5  6  여자  95  85  75.0  65.0\n"
     ]
    }
   ],
   "source": [
    "print(df1)"
   ],
   "metadata": {
    "collapsed": false
   }
  },
  {
   "cell_type": "code",
   "execution_count": 4,
   "outputs": [
    {
     "data": {
      "text/plain": "   0   1   2   3     4     5\n0  1  남자  90  80  70.0   NaN\n1  2  여자  91  81  71.0   NaN\n2  3  남자  92  82  72.0   NaN\n3  4  여자  93  83  73.0   NaN\n4  5  남자  94  84   NaN   NaN\n5  6  여자  95  85  75.0  65.0",
      "text/html": "<div>\n<style scoped>\n    .dataframe tbody tr th:only-of-type {\n        vertical-align: middle;\n    }\n\n    .dataframe tbody tr th {\n        vertical-align: top;\n    }\n\n    .dataframe thead th {\n        text-align: right;\n    }\n</style>\n<table border=\"1\" class=\"dataframe\">\n  <thead>\n    <tr style=\"text-align: right;\">\n      <th></th>\n      <th>0</th>\n      <th>1</th>\n      <th>2</th>\n      <th>3</th>\n      <th>4</th>\n      <th>5</th>\n    </tr>\n  </thead>\n  <tbody>\n    <tr>\n      <th>0</th>\n      <td>1</td>\n      <td>남자</td>\n      <td>90</td>\n      <td>80</td>\n      <td>70.0</td>\n      <td>NaN</td>\n    </tr>\n    <tr>\n      <th>1</th>\n      <td>2</td>\n      <td>여자</td>\n      <td>91</td>\n      <td>81</td>\n      <td>71.0</td>\n      <td>NaN</td>\n    </tr>\n    <tr>\n      <th>2</th>\n      <td>3</td>\n      <td>남자</td>\n      <td>92</td>\n      <td>82</td>\n      <td>72.0</td>\n      <td>NaN</td>\n    </tr>\n    <tr>\n      <th>3</th>\n      <td>4</td>\n      <td>여자</td>\n      <td>93</td>\n      <td>83</td>\n      <td>73.0</td>\n      <td>NaN</td>\n    </tr>\n    <tr>\n      <th>4</th>\n      <td>5</td>\n      <td>남자</td>\n      <td>94</td>\n      <td>84</td>\n      <td>NaN</td>\n      <td>NaN</td>\n    </tr>\n    <tr>\n      <th>5</th>\n      <td>6</td>\n      <td>여자</td>\n      <td>95</td>\n      <td>85</td>\n      <td>75.0</td>\n      <td>65.0</td>\n    </tr>\n  </tbody>\n</table>\n</div>"
     },
     "execution_count": 4,
     "metadata": {},
     "output_type": "execute_result"
    }
   ],
   "source": [
    "df1"
   ],
   "metadata": {
    "collapsed": false
   }
  },
  {
   "cell_type": "code",
   "execution_count": 5,
   "outputs": [
    {
     "data": {
      "text/plain": "   번호  성별  국어  영어    수학    과학\n0   1  남자  90  80  70.0   NaN\n1   2  여자  91  81  71.0   NaN\n2   3  남자  92  82  72.0   NaN\n3   4  여자  93  83  73.0   NaN\n4   5  남자  94  84   NaN   NaN\n5   6  여자  95  85  75.0  65.0",
      "text/html": "<div>\n<style scoped>\n    .dataframe tbody tr th:only-of-type {\n        vertical-align: middle;\n    }\n\n    .dataframe tbody tr th {\n        vertical-align: top;\n    }\n\n    .dataframe thead th {\n        text-align: right;\n    }\n</style>\n<table border=\"1\" class=\"dataframe\">\n  <thead>\n    <tr style=\"text-align: right;\">\n      <th></th>\n      <th>번호</th>\n      <th>성별</th>\n      <th>국어</th>\n      <th>영어</th>\n      <th>수학</th>\n      <th>과학</th>\n    </tr>\n  </thead>\n  <tbody>\n    <tr>\n      <th>0</th>\n      <td>1</td>\n      <td>남자</td>\n      <td>90</td>\n      <td>80</td>\n      <td>70.0</td>\n      <td>NaN</td>\n    </tr>\n    <tr>\n      <th>1</th>\n      <td>2</td>\n      <td>여자</td>\n      <td>91</td>\n      <td>81</td>\n      <td>71.0</td>\n      <td>NaN</td>\n    </tr>\n    <tr>\n      <th>2</th>\n      <td>3</td>\n      <td>남자</td>\n      <td>92</td>\n      <td>82</td>\n      <td>72.0</td>\n      <td>NaN</td>\n    </tr>\n    <tr>\n      <th>3</th>\n      <td>4</td>\n      <td>여자</td>\n      <td>93</td>\n      <td>83</td>\n      <td>73.0</td>\n      <td>NaN</td>\n    </tr>\n    <tr>\n      <th>4</th>\n      <td>5</td>\n      <td>남자</td>\n      <td>94</td>\n      <td>84</td>\n      <td>NaN</td>\n      <td>NaN</td>\n    </tr>\n    <tr>\n      <th>5</th>\n      <td>6</td>\n      <td>여자</td>\n      <td>95</td>\n      <td>85</td>\n      <td>75.0</td>\n      <td>65.0</td>\n    </tr>\n  </tbody>\n</table>\n</div>"
     },
     "execution_count": 5,
     "metadata": {},
     "output_type": "execute_result"
    }
   ],
   "source": [
    "# 생성된 데이터프레임에 컬럼 이름을 지정함\n",
    "# 어떠한 방식으로 생성 되었는지는 관계가 없음\n",
    "# 컬럼의 개수만큼 지정해야 함.\n",
    "df1.columns = ['번호', '성별', '국어', '영어', '수학', '과학']\n",
    "df1"
   ],
   "metadata": {
    "collapsed": false
   }
  },
  {
   "cell_type": "code",
   "execution_count": 6,
   "outputs": [
    {
     "data": {
      "text/plain": "     번호  성별  국어  영어    수학    과학\n학생1   1  남자  90  80  70.0   NaN\n학생2   2  여자  91  81  71.0   NaN\n학생3   3  남자  92  82  72.0   NaN\n학생4   4  여자  93  83  73.0   NaN\n학생5   5  남자  94  84   NaN   NaN\n학생6   6  여자  95  85  75.0  65.0",
      "text/html": "<div>\n<style scoped>\n    .dataframe tbody tr th:only-of-type {\n        vertical-align: middle;\n    }\n\n    .dataframe tbody tr th {\n        vertical-align: top;\n    }\n\n    .dataframe thead th {\n        text-align: right;\n    }\n</style>\n<table border=\"1\" class=\"dataframe\">\n  <thead>\n    <tr style=\"text-align: right;\">\n      <th></th>\n      <th>번호</th>\n      <th>성별</th>\n      <th>국어</th>\n      <th>영어</th>\n      <th>수학</th>\n      <th>과학</th>\n    </tr>\n  </thead>\n  <tbody>\n    <tr>\n      <th>학생1</th>\n      <td>1</td>\n      <td>남자</td>\n      <td>90</td>\n      <td>80</td>\n      <td>70.0</td>\n      <td>NaN</td>\n    </tr>\n    <tr>\n      <th>학생2</th>\n      <td>2</td>\n      <td>여자</td>\n      <td>91</td>\n      <td>81</td>\n      <td>71.0</td>\n      <td>NaN</td>\n    </tr>\n    <tr>\n      <th>학생3</th>\n      <td>3</td>\n      <td>남자</td>\n      <td>92</td>\n      <td>82</td>\n      <td>72.0</td>\n      <td>NaN</td>\n    </tr>\n    <tr>\n      <th>학생4</th>\n      <td>4</td>\n      <td>여자</td>\n      <td>93</td>\n      <td>83</td>\n      <td>73.0</td>\n      <td>NaN</td>\n    </tr>\n    <tr>\n      <th>학생5</th>\n      <td>5</td>\n      <td>남자</td>\n      <td>94</td>\n      <td>84</td>\n      <td>NaN</td>\n      <td>NaN</td>\n    </tr>\n    <tr>\n      <th>학생6</th>\n      <td>6</td>\n      <td>여자</td>\n      <td>95</td>\n      <td>85</td>\n      <td>75.0</td>\n      <td>65.0</td>\n    </tr>\n  </tbody>\n</table>\n</div>"
     },
     "execution_count": 6,
     "metadata": {},
     "output_type": "execute_result"
    }
   ],
   "source": [
    "# index 지정\n",
    "# 행의 수만큼 지정해야 함\n",
    "df1.index = ['학생1', '학생2', '학생3', '학생4', '학생5', '학생6']\n",
    "df1"
   ],
   "metadata": {
    "collapsed": false
   }
  },
  {
   "cell_type": "code",
   "execution_count": 7,
   "outputs": [
    {
     "data": {
      "text/plain": "    학생1 학생2  학생3  학생4   학생5   학생6\n번호    1  남자   90   80  70.0   NaN\n성별    2  여자   91   81  71.0   NaN\n국어    3  남자   92   82  72.0   NaN\n영어    4  여자   93   83  73.0   NaN\n수학    5  남자   94   84   NaN   NaN\n과학    6  여자   95   85  75.0  65.0",
      "text/html": "<div>\n<style scoped>\n    .dataframe tbody tr th:only-of-type {\n        vertical-align: middle;\n    }\n\n    .dataframe tbody tr th {\n        vertical-align: top;\n    }\n\n    .dataframe thead th {\n        text-align: right;\n    }\n</style>\n<table border=\"1\" class=\"dataframe\">\n  <thead>\n    <tr style=\"text-align: right;\">\n      <th></th>\n      <th>학생1</th>\n      <th>학생2</th>\n      <th>학생3</th>\n      <th>학생4</th>\n      <th>학생5</th>\n      <th>학생6</th>\n    </tr>\n  </thead>\n  <tbody>\n    <tr>\n      <th>번호</th>\n      <td>1</td>\n      <td>남자</td>\n      <td>90</td>\n      <td>80</td>\n      <td>70.0</td>\n      <td>NaN</td>\n    </tr>\n    <tr>\n      <th>성별</th>\n      <td>2</td>\n      <td>여자</td>\n      <td>91</td>\n      <td>81</td>\n      <td>71.0</td>\n      <td>NaN</td>\n    </tr>\n    <tr>\n      <th>국어</th>\n      <td>3</td>\n      <td>남자</td>\n      <td>92</td>\n      <td>82</td>\n      <td>72.0</td>\n      <td>NaN</td>\n    </tr>\n    <tr>\n      <th>영어</th>\n      <td>4</td>\n      <td>여자</td>\n      <td>93</td>\n      <td>83</td>\n      <td>73.0</td>\n      <td>NaN</td>\n    </tr>\n    <tr>\n      <th>수학</th>\n      <td>5</td>\n      <td>남자</td>\n      <td>94</td>\n      <td>84</td>\n      <td>NaN</td>\n      <td>NaN</td>\n    </tr>\n    <tr>\n      <th>과학</th>\n      <td>6</td>\n      <td>여자</td>\n      <td>95</td>\n      <td>85</td>\n      <td>75.0</td>\n      <td>65.0</td>\n    </tr>\n  </tbody>\n</table>\n</div>"
     },
     "execution_count": 7,
     "metadata": {},
     "output_type": "execute_result"
    }
   ],
   "source": [
    "# 생성시 컬럼이나 index를 지정할 수 있음.\n",
    "# 이후로 나오는 모든 생성 과정에서 똑같이 적용할 수 있음\n",
    "index_list = ['번호', '성별', '국어', '영어', '수학', '과학']\n",
    "column_list = ['학생1', '학생2', '학생3', '학생4', '학생5', '학생6']\n",
    "df2 = pd.DataFrame(list1, index=index_list, columns=column_list)\n",
    "df2"
   ],
   "metadata": {
    "collapsed": false
   }
  },
  {
   "cell_type": "code",
   "execution_count": 8,
   "outputs": [
    {
     "data": {
      "text/plain": "   번호  성별  국어  영어  수학\n0   1  남자  90  80  70\n1   2  여자  91  81  71\n2   3  남자  92  82  72\n3   4  여자  93  83  73",
      "text/html": "<div>\n<style scoped>\n    .dataframe tbody tr th:only-of-type {\n        vertical-align: middle;\n    }\n\n    .dataframe tbody tr th {\n        vertical-align: top;\n    }\n\n    .dataframe thead th {\n        text-align: right;\n    }\n</style>\n<table border=\"1\" class=\"dataframe\">\n  <thead>\n    <tr style=\"text-align: right;\">\n      <th></th>\n      <th>번호</th>\n      <th>성별</th>\n      <th>국어</th>\n      <th>영어</th>\n      <th>수학</th>\n    </tr>\n  </thead>\n  <tbody>\n    <tr>\n      <th>0</th>\n      <td>1</td>\n      <td>남자</td>\n      <td>90</td>\n      <td>80</td>\n      <td>70</td>\n    </tr>\n    <tr>\n      <th>1</th>\n      <td>2</td>\n      <td>여자</td>\n      <td>91</td>\n      <td>81</td>\n      <td>71</td>\n    </tr>\n    <tr>\n      <th>2</th>\n      <td>3</td>\n      <td>남자</td>\n      <td>92</td>\n      <td>82</td>\n      <td>72</td>\n    </tr>\n    <tr>\n      <th>3</th>\n      <td>4</td>\n      <td>여자</td>\n      <td>93</td>\n      <td>83</td>\n      <td>73</td>\n    </tr>\n  </tbody>\n</table>\n</div>"
     },
     "execution_count": 8,
     "metadata": {},
     "output_type": "execute_result"
    }
   ],
   "source": [
    "# 리스트를 가지고 있는 딕셔너리\n",
    "# 리스트 하나가 컬럼 하나로 구성되며, 리스트를 관리하는 딕셔너리의 이름이\n",
    "# 컬럼 이름으로 적용됨\n",
    "# 각 리스트의 크기는 모두 동일해야 하며, 다르면 오류가 발생함\n",
    "data1 = {\n",
    "    '번호': [1, 2, 3, 4],\n",
    "    '성별': ['남자', '여자', '남자', '여자'],\n",
    "    '국어': [90, 91, 92, 93],\n",
    "    '영어': [80, 81, 82, 83],\n",
    "    '수학': [70, 71, 72, 73],\n",
    "    #'과학': [60, 61, 62, 63, 64],\n",
    "}\n",
    "\n",
    "df3 = pd.DataFrame(data1)\n",
    "df3"
   ],
   "metadata": {
    "collapsed": false
   }
  },
  {
   "cell_type": "code",
   "execution_count": 9,
   "outputs": [
    {
     "data": {
      "text/plain": "   번호   이름   국어     영어\n0   1  홍길동  100    NaN\n1   2  김길동   99    NaN\n2   3  최길동   98    NaN\n3   4  박길동   97    NaN\n4   5  황길동   96    NaN\n5   6  고길동   95  100.0",
      "text/html": "<div>\n<style scoped>\n    .dataframe tbody tr th:only-of-type {\n        vertical-align: middle;\n    }\n\n    .dataframe tbody tr th {\n        vertical-align: top;\n    }\n\n    .dataframe thead th {\n        text-align: right;\n    }\n</style>\n<table border=\"1\" class=\"dataframe\">\n  <thead>\n    <tr style=\"text-align: right;\">\n      <th></th>\n      <th>번호</th>\n      <th>이름</th>\n      <th>국어</th>\n      <th>영어</th>\n    </tr>\n  </thead>\n  <tbody>\n    <tr>\n      <th>0</th>\n      <td>1</td>\n      <td>홍길동</td>\n      <td>100</td>\n      <td>NaN</td>\n    </tr>\n    <tr>\n      <th>1</th>\n      <td>2</td>\n      <td>김길동</td>\n      <td>99</td>\n      <td>NaN</td>\n    </tr>\n    <tr>\n      <th>2</th>\n      <td>3</td>\n      <td>최길동</td>\n      <td>98</td>\n      <td>NaN</td>\n    </tr>\n    <tr>\n      <th>3</th>\n      <td>4</td>\n      <td>박길동</td>\n      <td>97</td>\n      <td>NaN</td>\n    </tr>\n    <tr>\n      <th>4</th>\n      <td>5</td>\n      <td>황길동</td>\n      <td>96</td>\n      <td>NaN</td>\n    </tr>\n    <tr>\n      <th>5</th>\n      <td>6</td>\n      <td>고길동</td>\n      <td>95</td>\n      <td>100.0</td>\n    </tr>\n  </tbody>\n</table>\n</div>"
     },
     "execution_count": 9,
     "metadata": {},
     "output_type": "execute_result"
    }
   ],
   "source": [
    "# 딕셔너리를 가지고 있는 리스트\n",
    "# 각 딕셔너리에 이름이 같은 것끼리 모아서 컬럼으로 구성함.\n",
    "# 부족한 부분에 대해서는 NaN으로 채워짐\n",
    "list3 = [\n",
    "    {'번호':1, '이름':'홍길동', '국어':100},\n",
    "    {'번호':2, '이름':'김길동', '국어':99},\n",
    "    {'번호':3, '이름':'최길동', '국어':98},\n",
    "    {'번호':4, '이름':'박길동', '국어':97},\n",
    "    {'이름':'황길동', '국어':96, '번호':5},\n",
    "    {'번호':6, '이름':'고길동', '국어':95, '영어':100},\n",
    "]\n",
    "\n",
    "df4 = pd.DataFrame(list3)\n",
    "df4"
   ],
   "metadata": {
    "collapsed": false
   }
  },
  {
   "cell_type": "code",
   "execution_count": 10,
   "outputs": [
    {
     "data": {
      "text/plain": "   이름  학년  성별   국어    영어    수학    과학\n0  철수   1  남자   98   NaN  88.0  64.0\n1  영희   2  여자   88  90.0  62.0  72.0\n2  민수   1  남자   92  70.0   NaN   NaN\n3  수현   3  여자   63  60.0  31.0  70.0\n4  호영   4  남자  120  50.0   NaN  88.0",
      "text/html": "<div>\n<style scoped>\n    .dataframe tbody tr th:only-of-type {\n        vertical-align: middle;\n    }\n\n    .dataframe tbody tr th {\n        vertical-align: top;\n    }\n\n    .dataframe thead th {\n        text-align: right;\n    }\n</style>\n<table border=\"1\" class=\"dataframe\">\n  <thead>\n    <tr style=\"text-align: right;\">\n      <th></th>\n      <th>이름</th>\n      <th>학년</th>\n      <th>성별</th>\n      <th>국어</th>\n      <th>영어</th>\n      <th>수학</th>\n      <th>과학</th>\n    </tr>\n  </thead>\n  <tbody>\n    <tr>\n      <th>0</th>\n      <td>철수</td>\n      <td>1</td>\n      <td>남자</td>\n      <td>98</td>\n      <td>NaN</td>\n      <td>88.0</td>\n      <td>64.0</td>\n    </tr>\n    <tr>\n      <th>1</th>\n      <td>영희</td>\n      <td>2</td>\n      <td>여자</td>\n      <td>88</td>\n      <td>90.0</td>\n      <td>62.0</td>\n      <td>72.0</td>\n    </tr>\n    <tr>\n      <th>2</th>\n      <td>민수</td>\n      <td>1</td>\n      <td>남자</td>\n      <td>92</td>\n      <td>70.0</td>\n      <td>NaN</td>\n      <td>NaN</td>\n    </tr>\n    <tr>\n      <th>3</th>\n      <td>수현</td>\n      <td>3</td>\n      <td>여자</td>\n      <td>63</td>\n      <td>60.0</td>\n      <td>31.0</td>\n      <td>70.0</td>\n    </tr>\n    <tr>\n      <th>4</th>\n      <td>호영</td>\n      <td>4</td>\n      <td>남자</td>\n      <td>120</td>\n      <td>50.0</td>\n      <td>NaN</td>\n      <td>88.0</td>\n    </tr>\n  </tbody>\n</table>\n</div>"
     },
     "execution_count": 10,
     "metadata": {},
     "output_type": "execute_result"
    }
   ],
   "source": [
    "# csv 파일\n",
    "# 콤마(,)로 데이터를 구분한 파일\n",
    "\n",
    "# csv 파일을 읽어올 때 UnicodeDecodeError가 발생한 경우\n",
    "# 파이썬에서 사용하는 모든 라이브러리는 문자 인코딩 체계를 기본적으로 UTF-8을 사용한다.\n",
    "# UTF-8 양식으로 저장된 파일이 아닌 경우 오류가 발생한다.\n",
    "# 이 때, 인코딩 양식을 정해주면 된다.\n",
    "# https://docs.python.org/3/library/codecs.html#standard-encodings\n",
    "\n",
    "# 위의 주소의 문서는 한국어의 경우 euc-kr로 되어 있지만, euc-kr로 넣어줘도 된다.\n",
    "df1 = pd.read_csv('data/grade.csv', encoding='euc-kr')\n",
    "df1"
   ],
   "metadata": {
    "collapsed": false
   }
  },
  {
   "cell_type": "code",
   "execution_count": 11,
   "outputs": [
    {
     "data": {
      "text/plain": "   이름  학년  성별   국어    영어    수학    과학\n0  철수   1  남자   98   NaN  88.0  64.0\n1  영희   2  여자   88  90.0  62.0  72.0\n2  민수   1  남자   92  70.0   NaN   NaN\n3  수현   3  여자   63  60.0  31.0  70.0\n4  호영   4  남자  120  50.0   NaN  88.0",
      "text/html": "<div>\n<style scoped>\n    .dataframe tbody tr th:only-of-type {\n        vertical-align: middle;\n    }\n\n    .dataframe tbody tr th {\n        vertical-align: top;\n    }\n\n    .dataframe thead th {\n        text-align: right;\n    }\n</style>\n<table border=\"1\" class=\"dataframe\">\n  <thead>\n    <tr style=\"text-align: right;\">\n      <th></th>\n      <th>이름</th>\n      <th>학년</th>\n      <th>성별</th>\n      <th>국어</th>\n      <th>영어</th>\n      <th>수학</th>\n      <th>과학</th>\n    </tr>\n  </thead>\n  <tbody>\n    <tr>\n      <th>0</th>\n      <td>철수</td>\n      <td>1</td>\n      <td>남자</td>\n      <td>98</td>\n      <td>NaN</td>\n      <td>88.0</td>\n      <td>64.0</td>\n    </tr>\n    <tr>\n      <th>1</th>\n      <td>영희</td>\n      <td>2</td>\n      <td>여자</td>\n      <td>88</td>\n      <td>90.0</td>\n      <td>62.0</td>\n      <td>72.0</td>\n    </tr>\n    <tr>\n      <th>2</th>\n      <td>민수</td>\n      <td>1</td>\n      <td>남자</td>\n      <td>92</td>\n      <td>70.0</td>\n      <td>NaN</td>\n      <td>NaN</td>\n    </tr>\n    <tr>\n      <th>3</th>\n      <td>수현</td>\n      <td>3</td>\n      <td>여자</td>\n      <td>63</td>\n      <td>60.0</td>\n      <td>31.0</td>\n      <td>70.0</td>\n    </tr>\n    <tr>\n      <th>4</th>\n      <td>호영</td>\n      <td>4</td>\n      <td>남자</td>\n      <td>120</td>\n      <td>50.0</td>\n      <td>NaN</td>\n      <td>88.0</td>\n    </tr>\n  </tbody>\n</table>\n</div>"
     },
     "execution_count": 11,
     "metadata": {},
     "output_type": "execute_result"
    }
   ],
   "source": [
    "# 쉼표가 아닌 다른 문자열로 구분자를 사용한 파일인 경우\n",
    "df2 = pd.read_csv('data/grade3.csv', encoding='euc-kr', delimiter='|')\n",
    "df2"
   ],
   "metadata": {
    "collapsed": false
   }
  },
  {
   "cell_type": "code",
   "execution_count": 12,
   "outputs": [
    {
     "data": {
      "text/plain": "   이름  학년  성별   국어  영어    수학    과학\n0  철수   1  남자   98  88  64.0   NaN\n1  영희   2  여자   88  90  62.0  72.0\n2  민수   1  남자   92  70   NaN   NaN\n3  수현   3  여자   63  60  31.0  70.0\n4  호영   4  남자  120  50  88.0   NaN",
      "text/html": "<div>\n<style scoped>\n    .dataframe tbody tr th:only-of-type {\n        vertical-align: middle;\n    }\n\n    .dataframe tbody tr th {\n        vertical-align: top;\n    }\n\n    .dataframe thead th {\n        text-align: right;\n    }\n</style>\n<table border=\"1\" class=\"dataframe\">\n  <thead>\n    <tr style=\"text-align: right;\">\n      <th></th>\n      <th>이름</th>\n      <th>학년</th>\n      <th>성별</th>\n      <th>국어</th>\n      <th>영어</th>\n      <th>수학</th>\n      <th>과학</th>\n    </tr>\n  </thead>\n  <tbody>\n    <tr>\n      <th>0</th>\n      <td>철수</td>\n      <td>1</td>\n      <td>남자</td>\n      <td>98</td>\n      <td>88</td>\n      <td>64.0</td>\n      <td>NaN</td>\n    </tr>\n    <tr>\n      <th>1</th>\n      <td>영희</td>\n      <td>2</td>\n      <td>여자</td>\n      <td>88</td>\n      <td>90</td>\n      <td>62.0</td>\n      <td>72.0</td>\n    </tr>\n    <tr>\n      <th>2</th>\n      <td>민수</td>\n      <td>1</td>\n      <td>남자</td>\n      <td>92</td>\n      <td>70</td>\n      <td>NaN</td>\n      <td>NaN</td>\n    </tr>\n    <tr>\n      <th>3</th>\n      <td>수현</td>\n      <td>3</td>\n      <td>여자</td>\n      <td>63</td>\n      <td>60</td>\n      <td>31.0</td>\n      <td>70.0</td>\n    </tr>\n    <tr>\n      <th>4</th>\n      <td>호영</td>\n      <td>4</td>\n      <td>남자</td>\n      <td>120</td>\n      <td>50</td>\n      <td>88.0</td>\n      <td>NaN</td>\n    </tr>\n  </tbody>\n</table>\n</div>"
     },
     "execution_count": 12,
     "metadata": {},
     "output_type": "execute_result"
    }
   ],
   "source": [
    "# 구분자를 탭(혹은 공백)으로 사용한 경우\n",
    "# df3 = pd.read_csv('data/grade2.csv', encoding='euc-kr', delimiter='\\t')\n",
    "\n",
    "# delim_whitespace: True를 넣어주면 공백을 구분자로 사용함\n",
    "df3 = pd.read_csv('data/grade2.csv', encoding='euc-kr', delim_whitespace=True)\n",
    "df3"
   ],
   "metadata": {
    "collapsed": false
   }
  },
  {
   "cell_type": "code",
   "execution_count": 13,
   "outputs": [
    {
     "data": {
      "text/plain": "    0   1   2    3    4    5    6\n0  이름  학년  성별   국어   영어   수학   과학\n1  철수   1  남자   98  NaN   88   64\n2  영희   2  여자   88   90   62   72\n3  민수   1  남자   92   70  NaN  NaN\n4  수현   3  여자   63   60   31   70\n5  호영   4  남자  120   50  NaN   88",
      "text/html": "<div>\n<style scoped>\n    .dataframe tbody tr th:only-of-type {\n        vertical-align: middle;\n    }\n\n    .dataframe tbody tr th {\n        vertical-align: top;\n    }\n\n    .dataframe thead th {\n        text-align: right;\n    }\n</style>\n<table border=\"1\" class=\"dataframe\">\n  <thead>\n    <tr style=\"text-align: right;\">\n      <th></th>\n      <th>0</th>\n      <th>1</th>\n      <th>2</th>\n      <th>3</th>\n      <th>4</th>\n      <th>5</th>\n      <th>6</th>\n    </tr>\n  </thead>\n  <tbody>\n    <tr>\n      <th>0</th>\n      <td>이름</td>\n      <td>학년</td>\n      <td>성별</td>\n      <td>국어</td>\n      <td>영어</td>\n      <td>수학</td>\n      <td>과학</td>\n    </tr>\n    <tr>\n      <th>1</th>\n      <td>철수</td>\n      <td>1</td>\n      <td>남자</td>\n      <td>98</td>\n      <td>NaN</td>\n      <td>88</td>\n      <td>64</td>\n    </tr>\n    <tr>\n      <th>2</th>\n      <td>영희</td>\n      <td>2</td>\n      <td>여자</td>\n      <td>88</td>\n      <td>90</td>\n      <td>62</td>\n      <td>72</td>\n    </tr>\n    <tr>\n      <th>3</th>\n      <td>민수</td>\n      <td>1</td>\n      <td>남자</td>\n      <td>92</td>\n      <td>70</td>\n      <td>NaN</td>\n      <td>NaN</td>\n    </tr>\n    <tr>\n      <th>4</th>\n      <td>수현</td>\n      <td>3</td>\n      <td>여자</td>\n      <td>63</td>\n      <td>60</td>\n      <td>31</td>\n      <td>70</td>\n    </tr>\n    <tr>\n      <th>5</th>\n      <td>호영</td>\n      <td>4</td>\n      <td>남자</td>\n      <td>120</td>\n      <td>50</td>\n      <td>NaN</td>\n      <td>88</td>\n    </tr>\n  </tbody>\n</table>\n</div>"
     },
     "execution_count": 13,
     "metadata": {},
     "output_type": "execute_result"
    }
   ],
   "source": [
    "# 파일로부터 데이터를 읽어올 때는 첫 줄의 데이터를 컬럼 이름으로 시용함.\n",
    "# 만약 첫줄부터 데이터라고 한다면 header에 None을 넣어줌\n",
    "df4 = pd.read_csv('data/grade.csv', encoding='euc-kr', header=None)\n",
    "df4"
   ],
   "metadata": {
    "collapsed": false
   }
  },
  {
   "cell_type": "code",
   "execution_count": 14,
   "outputs": [
    {
     "data": {
      "text/plain": "   민수  1  남자   92  70  Unnamed: 5  Unnamed: 6\n0  수현  3  여자   63  60        31.0          70\n1  호영  4  남자  120  50         NaN          88",
      "text/html": "<div>\n<style scoped>\n    .dataframe tbody tr th:only-of-type {\n        vertical-align: middle;\n    }\n\n    .dataframe tbody tr th {\n        vertical-align: top;\n    }\n\n    .dataframe thead th {\n        text-align: right;\n    }\n</style>\n<table border=\"1\" class=\"dataframe\">\n  <thead>\n    <tr style=\"text-align: right;\">\n      <th></th>\n      <th>민수</th>\n      <th>1</th>\n      <th>남자</th>\n      <th>92</th>\n      <th>70</th>\n      <th>Unnamed: 5</th>\n      <th>Unnamed: 6</th>\n    </tr>\n  </thead>\n  <tbody>\n    <tr>\n      <th>0</th>\n      <td>수현</td>\n      <td>3</td>\n      <td>여자</td>\n      <td>63</td>\n      <td>60</td>\n      <td>31.0</td>\n      <td>70</td>\n    </tr>\n    <tr>\n      <th>1</th>\n      <td>호영</td>\n      <td>4</td>\n      <td>남자</td>\n      <td>120</td>\n      <td>50</td>\n      <td>NaN</td>\n      <td>88</td>\n    </tr>\n  </tbody>\n</table>\n</div>"
     },
     "execution_count": 14,
     "metadata": {},
     "output_type": "execute_result"
    }
   ],
   "source": [
    "# 사용하고자 하는 파일에서 컬럼 이름으로 사용할 행을 지정할 수 있음\n",
    "# 생략시 0\n",
    "# 지정한 행 위의 데이터는 모두 포함하지 않음\n",
    "df5 = pd.read_csv('data/grade.csv', encoding='euc-kr', header=3)\n",
    "df5"
   ],
   "metadata": {
    "collapsed": false
   }
  },
  {
   "cell_type": "code",
   "execution_count": 15,
   "outputs": [
    {
     "data": {
      "text/plain": "   이름  학년  성별   국어    영어    수학    과학\n0  철수   1  남자   98   NaN  88.0  64.0\n1  영희   2  여자   88  90.0  62.0  72.0\n2  민수   1  남자   92  70.0   NaN   NaN\n3  수현   3  여자   63  60.0  31.0  70.0\n4  호영   4  남자  120  50.0   NaN  88.0",
      "text/html": "<div>\n<style scoped>\n    .dataframe tbody tr th:only-of-type {\n        vertical-align: middle;\n    }\n\n    .dataframe tbody tr th {\n        vertical-align: top;\n    }\n\n    .dataframe thead th {\n        text-align: right;\n    }\n</style>\n<table border=\"1\" class=\"dataframe\">\n  <thead>\n    <tr style=\"text-align: right;\">\n      <th></th>\n      <th>이름</th>\n      <th>학년</th>\n      <th>성별</th>\n      <th>국어</th>\n      <th>영어</th>\n      <th>수학</th>\n      <th>과학</th>\n    </tr>\n  </thead>\n  <tbody>\n    <tr>\n      <th>0</th>\n      <td>철수</td>\n      <td>1</td>\n      <td>남자</td>\n      <td>98</td>\n      <td>NaN</td>\n      <td>88.0</td>\n      <td>64.0</td>\n    </tr>\n    <tr>\n      <th>1</th>\n      <td>영희</td>\n      <td>2</td>\n      <td>여자</td>\n      <td>88</td>\n      <td>90.0</td>\n      <td>62.0</td>\n      <td>72.0</td>\n    </tr>\n    <tr>\n      <th>2</th>\n      <td>민수</td>\n      <td>1</td>\n      <td>남자</td>\n      <td>92</td>\n      <td>70.0</td>\n      <td>NaN</td>\n      <td>NaN</td>\n    </tr>\n    <tr>\n      <th>3</th>\n      <td>수현</td>\n      <td>3</td>\n      <td>여자</td>\n      <td>63</td>\n      <td>60.0</td>\n      <td>31.0</td>\n      <td>70.0</td>\n    </tr>\n    <tr>\n      <th>4</th>\n      <td>호영</td>\n      <td>4</td>\n      <td>남자</td>\n      <td>120</td>\n      <td>50.0</td>\n      <td>NaN</td>\n      <td>88.0</td>\n    </tr>\n  </tbody>\n</table>\n</div>"
     },
     "execution_count": 15,
     "metadata": {},
     "output_type": "execute_result"
    }
   ],
   "source": [
    "# 엑셀에서 데이터를 읽어와 데이터프레임을 생성함\n",
    "# 첫번째 sheet를 사용함.\n",
    "df1 = pd.read_excel('data/grade.xlsx')\n",
    "df1"
   ],
   "metadata": {
    "collapsed": false
   }
  },
  {
   "cell_type": "code",
   "execution_count": 16,
   "outputs": [
    {
     "data": {
      "text/plain": "   이름  학년  성별   국어    영어    수학    과학\n0  철수   1  남자   98   NaN  88.0  64.0\n1  영희   2  여자   88  90.0  62.0  72.0\n2  민수   1  남자   92  70.0   NaN   NaN\n3  수현   3  여자   63  60.0  31.0  70.0\n4  호영   4  남자  120  50.0   NaN  88.0",
      "text/html": "<div>\n<style scoped>\n    .dataframe tbody tr th:only-of-type {\n        vertical-align: middle;\n    }\n\n    .dataframe tbody tr th {\n        vertical-align: top;\n    }\n\n    .dataframe thead th {\n        text-align: right;\n    }\n</style>\n<table border=\"1\" class=\"dataframe\">\n  <thead>\n    <tr style=\"text-align: right;\">\n      <th></th>\n      <th>이름</th>\n      <th>학년</th>\n      <th>성별</th>\n      <th>국어</th>\n      <th>영어</th>\n      <th>수학</th>\n      <th>과학</th>\n    </tr>\n  </thead>\n  <tbody>\n    <tr>\n      <th>0</th>\n      <td>철수</td>\n      <td>1</td>\n      <td>남자</td>\n      <td>98</td>\n      <td>NaN</td>\n      <td>88.0</td>\n      <td>64.0</td>\n    </tr>\n    <tr>\n      <th>1</th>\n      <td>영희</td>\n      <td>2</td>\n      <td>여자</td>\n      <td>88</td>\n      <td>90.0</td>\n      <td>62.0</td>\n      <td>72.0</td>\n    </tr>\n    <tr>\n      <th>2</th>\n      <td>민수</td>\n      <td>1</td>\n      <td>남자</td>\n      <td>92</td>\n      <td>70.0</td>\n      <td>NaN</td>\n      <td>NaN</td>\n    </tr>\n    <tr>\n      <th>3</th>\n      <td>수현</td>\n      <td>3</td>\n      <td>여자</td>\n      <td>63</td>\n      <td>60.0</td>\n      <td>31.0</td>\n      <td>70.0</td>\n    </tr>\n    <tr>\n      <th>4</th>\n      <td>호영</td>\n      <td>4</td>\n      <td>남자</td>\n      <td>120</td>\n      <td>50.0</td>\n      <td>NaN</td>\n      <td>88.0</td>\n    </tr>\n  </tbody>\n</table>\n</div>"
     },
     "metadata": {},
     "output_type": "display_data"
    },
    {
     "data": {
      "text/plain": "    이름  학년  성별   국어    영어    수학    과학\n0  홍길동   1  남자   98   NaN  88.0  64.0\n1   영희   2  여자   88  90.0  62.0  72.0\n2   민수   1  남자   92  70.0   NaN   NaN\n3   수현   3  여자   63  60.0  31.0  70.0\n4   호영   4  남자  120  50.0   NaN  88.0",
      "text/html": "<div>\n<style scoped>\n    .dataframe tbody tr th:only-of-type {\n        vertical-align: middle;\n    }\n\n    .dataframe tbody tr th {\n        vertical-align: top;\n    }\n\n    .dataframe thead th {\n        text-align: right;\n    }\n</style>\n<table border=\"1\" class=\"dataframe\">\n  <thead>\n    <tr style=\"text-align: right;\">\n      <th></th>\n      <th>이름</th>\n      <th>학년</th>\n      <th>성별</th>\n      <th>국어</th>\n      <th>영어</th>\n      <th>수학</th>\n      <th>과학</th>\n    </tr>\n  </thead>\n  <tbody>\n    <tr>\n      <th>0</th>\n      <td>홍길동</td>\n      <td>1</td>\n      <td>남자</td>\n      <td>98</td>\n      <td>NaN</td>\n      <td>88.0</td>\n      <td>64.0</td>\n    </tr>\n    <tr>\n      <th>1</th>\n      <td>영희</td>\n      <td>2</td>\n      <td>여자</td>\n      <td>88</td>\n      <td>90.0</td>\n      <td>62.0</td>\n      <td>72.0</td>\n    </tr>\n    <tr>\n      <th>2</th>\n      <td>민수</td>\n      <td>1</td>\n      <td>남자</td>\n      <td>92</td>\n      <td>70.0</td>\n      <td>NaN</td>\n      <td>NaN</td>\n    </tr>\n    <tr>\n      <th>3</th>\n      <td>수현</td>\n      <td>3</td>\n      <td>여자</td>\n      <td>63</td>\n      <td>60.0</td>\n      <td>31.0</td>\n      <td>70.0</td>\n    </tr>\n    <tr>\n      <th>4</th>\n      <td>호영</td>\n      <td>4</td>\n      <td>남자</td>\n      <td>120</td>\n      <td>50.0</td>\n      <td>NaN</td>\n      <td>88.0</td>\n    </tr>\n  </tbody>\n</table>\n</div>"
     },
     "metadata": {},
     "output_type": "display_data"
    }
   ],
   "source": [
    "# sheet_name : 데이터프레임으로 생성할 sheet를 지정함.\n",
    "# 숫자 하나 : sheet의 순서, 0부터 1씩 증가\n",
    "\n",
    "df2 = pd.read_excel('data/grade.xlsx', sheet_name=0)\n",
    "df3 = pd.read_excel('data/grade.xlsx', sheet_name=1)\n",
    "\n",
    "display(df2)\n",
    "display(df3)"
   ],
   "metadata": {
    "collapsed": false
   }
  },
  {
   "cell_type": "code",
   "execution_count": 17,
   "outputs": [
    {
     "data": {
      "text/plain": "   이름  학년  성별   국어    영어    수학    과학\n0  철수   1  남자   98   NaN  88.0  64.0\n1  영희   2  여자   88  90.0  62.0  72.0\n2  민수   1  남자   92  70.0   NaN   NaN\n3  수현   3  여자   63  60.0  31.0  70.0\n4  호영   4  남자  120  50.0   NaN  88.0",
      "text/html": "<div>\n<style scoped>\n    .dataframe tbody tr th:only-of-type {\n        vertical-align: middle;\n    }\n\n    .dataframe tbody tr th {\n        vertical-align: top;\n    }\n\n    .dataframe thead th {\n        text-align: right;\n    }\n</style>\n<table border=\"1\" class=\"dataframe\">\n  <thead>\n    <tr style=\"text-align: right;\">\n      <th></th>\n      <th>이름</th>\n      <th>학년</th>\n      <th>성별</th>\n      <th>국어</th>\n      <th>영어</th>\n      <th>수학</th>\n      <th>과학</th>\n    </tr>\n  </thead>\n  <tbody>\n    <tr>\n      <th>0</th>\n      <td>철수</td>\n      <td>1</td>\n      <td>남자</td>\n      <td>98</td>\n      <td>NaN</td>\n      <td>88.0</td>\n      <td>64.0</td>\n    </tr>\n    <tr>\n      <th>1</th>\n      <td>영희</td>\n      <td>2</td>\n      <td>여자</td>\n      <td>88</td>\n      <td>90.0</td>\n      <td>62.0</td>\n      <td>72.0</td>\n    </tr>\n    <tr>\n      <th>2</th>\n      <td>민수</td>\n      <td>1</td>\n      <td>남자</td>\n      <td>92</td>\n      <td>70.0</td>\n      <td>NaN</td>\n      <td>NaN</td>\n    </tr>\n    <tr>\n      <th>3</th>\n      <td>수현</td>\n      <td>3</td>\n      <td>여자</td>\n      <td>63</td>\n      <td>60.0</td>\n      <td>31.0</td>\n      <td>70.0</td>\n    </tr>\n    <tr>\n      <th>4</th>\n      <td>호영</td>\n      <td>4</td>\n      <td>남자</td>\n      <td>120</td>\n      <td>50.0</td>\n      <td>NaN</td>\n      <td>88.0</td>\n    </tr>\n  </tbody>\n</table>\n</div>"
     },
     "metadata": {},
     "output_type": "display_data"
    },
    {
     "data": {
      "text/plain": "    이름  학년  성별   국어    영어    수학    과학\n0  홍길동   1  남자   98   NaN  88.0  64.0\n1   영희   2  여자   88  90.0  62.0  72.0\n2   민수   1  남자   92  70.0   NaN   NaN\n3   수현   3  여자   63  60.0  31.0  70.0\n4   호영   4  남자  120  50.0   NaN  88.0",
      "text/html": "<div>\n<style scoped>\n    .dataframe tbody tr th:only-of-type {\n        vertical-align: middle;\n    }\n\n    .dataframe tbody tr th {\n        vertical-align: top;\n    }\n\n    .dataframe thead th {\n        text-align: right;\n    }\n</style>\n<table border=\"1\" class=\"dataframe\">\n  <thead>\n    <tr style=\"text-align: right;\">\n      <th></th>\n      <th>이름</th>\n      <th>학년</th>\n      <th>성별</th>\n      <th>국어</th>\n      <th>영어</th>\n      <th>수학</th>\n      <th>과학</th>\n    </tr>\n  </thead>\n  <tbody>\n    <tr>\n      <th>0</th>\n      <td>홍길동</td>\n      <td>1</td>\n      <td>남자</td>\n      <td>98</td>\n      <td>NaN</td>\n      <td>88.0</td>\n      <td>64.0</td>\n    </tr>\n    <tr>\n      <th>1</th>\n      <td>영희</td>\n      <td>2</td>\n      <td>여자</td>\n      <td>88</td>\n      <td>90.0</td>\n      <td>62.0</td>\n      <td>72.0</td>\n    </tr>\n    <tr>\n      <th>2</th>\n      <td>민수</td>\n      <td>1</td>\n      <td>남자</td>\n      <td>92</td>\n      <td>70.0</td>\n      <td>NaN</td>\n      <td>NaN</td>\n    </tr>\n    <tr>\n      <th>3</th>\n      <td>수현</td>\n      <td>3</td>\n      <td>여자</td>\n      <td>63</td>\n      <td>60.0</td>\n      <td>31.0</td>\n      <td>70.0</td>\n    </tr>\n    <tr>\n      <th>4</th>\n      <td>호영</td>\n      <td>4</td>\n      <td>남자</td>\n      <td>120</td>\n      <td>50.0</td>\n      <td>NaN</td>\n      <td>88.0</td>\n    </tr>\n  </tbody>\n</table>\n</div>"
     },
     "metadata": {},
     "output_type": "display_data"
    }
   ],
   "source": [
    "# 문자열 하나: sheet의 이름\n",
    "df4 = pd.read_excel('data/grade.xlsx', sheet_name='grade')\n",
    "df5 = pd.read_excel('data/grade.xlsx', sheet_name='grade2')\n",
    "\n",
    "display(df4)\n",
    "display(df5)"
   ],
   "metadata": {
    "collapsed": false
   }
  },
  {
   "cell_type": "code",
   "execution_count": 18,
   "outputs": [
    {
     "data": {
      "text/plain": "{0:    이름  학년  성별   국어    영어    수학    과학\n 0  철수   1  남자   98   NaN  88.0  64.0\n 1  영희   2  여자   88  90.0  62.0  72.0\n 2  민수   1  남자   92  70.0   NaN   NaN\n 3  수현   3  여자   63  60.0  31.0  70.0\n 4  호영   4  남자  120  50.0   NaN  88.0,\n 1:     이름  학년  성별   국어    영어    수학    과학\n 0  홍길동   1  남자   98   NaN  88.0  64.0\n 1   영희   2  여자   88  90.0  62.0  72.0\n 2   민수   1  남자   92  70.0   NaN   NaN\n 3   수현   3  여자   63  60.0  31.0  70.0\n 4   호영   4  남자  120  50.0   NaN  88.0}"
     },
     "metadata": {},
     "output_type": "display_data"
    },
    {
     "data": {
      "text/plain": "{'grade':    이름  학년  성별   국어    영어    수학    과학\n 0  철수   1  남자   98   NaN  88.0  64.0\n 1  영희   2  여자   88  90.0  62.0  72.0\n 2  민수   1  남자   92  70.0   NaN   NaN\n 3  수현   3  여자   63  60.0  31.0  70.0\n 4  호영   4  남자  120  50.0   NaN  88.0,\n 'grade2':     이름  학년  성별   국어    영어    수학    과학\n 0  홍길동   1  남자   98   NaN  88.0  64.0\n 1   영희   2  여자   88  90.0  62.0  72.0\n 2   민수   1  남자   92  70.0   NaN   NaN\n 3   수현   3  여자   63  60.0  31.0  70.0\n 4   호영   4  남자  120  50.0   NaN  88.0}"
     },
     "metadata": {},
     "output_type": "display_data"
    }
   ],
   "source": [
    "# 리스트: 리스트를 통해 지정한 sheet를 모두 데이터프레임으로 만들어 줌\n",
    "# sheet 하나당 하나의 데이터프레임이 생성되고, 생성된 데이터프레임들은 딕셔너리에 담겨져서 반환됨\n",
    "# 숫자 : sheet의 순서\n",
    "df6 = pd.read_excel('data/grade.xlsx', sheet_name=[0, 1])\n",
    "df7 = pd.read_excel('data/grade.xlsx', sheet_name=['grade', 'grade2'])\n",
    "\n",
    "display(df6)\n",
    "display(df7)"
   ],
   "metadata": {
    "collapsed": false
   }
  },
  {
   "cell_type": "code",
   "execution_count": 19,
   "outputs": [
    {
     "data": {
      "text/plain": "   이름  학년  성별   국어    영어    수학    과학\n0  철수   1  남자   98   NaN  88.0  64.0\n1  영희   2  여자   88  90.0  62.0  72.0\n2  민수   1  남자   92  70.0   NaN   NaN\n3  수현   3  여자   63  60.0  31.0  70.0\n4  호영   4  남자  120  50.0   NaN  88.0",
      "text/html": "<div>\n<style scoped>\n    .dataframe tbody tr th:only-of-type {\n        vertical-align: middle;\n    }\n\n    .dataframe tbody tr th {\n        vertical-align: top;\n    }\n\n    .dataframe thead th {\n        text-align: right;\n    }\n</style>\n<table border=\"1\" class=\"dataframe\">\n  <thead>\n    <tr style=\"text-align: right;\">\n      <th></th>\n      <th>이름</th>\n      <th>학년</th>\n      <th>성별</th>\n      <th>국어</th>\n      <th>영어</th>\n      <th>수학</th>\n      <th>과학</th>\n    </tr>\n  </thead>\n  <tbody>\n    <tr>\n      <th>0</th>\n      <td>철수</td>\n      <td>1</td>\n      <td>남자</td>\n      <td>98</td>\n      <td>NaN</td>\n      <td>88.0</td>\n      <td>64.0</td>\n    </tr>\n    <tr>\n      <th>1</th>\n      <td>영희</td>\n      <td>2</td>\n      <td>여자</td>\n      <td>88</td>\n      <td>90.0</td>\n      <td>62.0</td>\n      <td>72.0</td>\n    </tr>\n    <tr>\n      <th>2</th>\n      <td>민수</td>\n      <td>1</td>\n      <td>남자</td>\n      <td>92</td>\n      <td>70.0</td>\n      <td>NaN</td>\n      <td>NaN</td>\n    </tr>\n    <tr>\n      <th>3</th>\n      <td>수현</td>\n      <td>3</td>\n      <td>여자</td>\n      <td>63</td>\n      <td>60.0</td>\n      <td>31.0</td>\n      <td>70.0</td>\n    </tr>\n    <tr>\n      <th>4</th>\n      <td>호영</td>\n      <td>4</td>\n      <td>남자</td>\n      <td>120</td>\n      <td>50.0</td>\n      <td>NaN</td>\n      <td>88.0</td>\n    </tr>\n  </tbody>\n</table>\n</div>"
     },
     "metadata": {},
     "output_type": "display_data"
    }
   ],
   "source": [
    "display(df6[0])"
   ],
   "metadata": {
    "collapsed": false
   }
  },
  {
   "cell_type": "code",
   "execution_count": 20,
   "outputs": [
    {
     "data": {
      "text/plain": "    이름  학년  성별   국어    영어    수학    과학\n0  홍길동   1  남자   98   NaN  88.0  64.0\n1   영희   2  여자   88  90.0  62.0  72.0\n2   민수   1  남자   92  70.0   NaN   NaN\n3   수현   3  여자   63  60.0  31.0  70.0\n4   호영   4  남자  120  50.0   NaN  88.0",
      "text/html": "<div>\n<style scoped>\n    .dataframe tbody tr th:only-of-type {\n        vertical-align: middle;\n    }\n\n    .dataframe tbody tr th {\n        vertical-align: top;\n    }\n\n    .dataframe thead th {\n        text-align: right;\n    }\n</style>\n<table border=\"1\" class=\"dataframe\">\n  <thead>\n    <tr style=\"text-align: right;\">\n      <th></th>\n      <th>이름</th>\n      <th>학년</th>\n      <th>성별</th>\n      <th>국어</th>\n      <th>영어</th>\n      <th>수학</th>\n      <th>과학</th>\n    </tr>\n  </thead>\n  <tbody>\n    <tr>\n      <th>0</th>\n      <td>홍길동</td>\n      <td>1</td>\n      <td>남자</td>\n      <td>98</td>\n      <td>NaN</td>\n      <td>88.0</td>\n      <td>64.0</td>\n    </tr>\n    <tr>\n      <th>1</th>\n      <td>영희</td>\n      <td>2</td>\n      <td>여자</td>\n      <td>88</td>\n      <td>90.0</td>\n      <td>62.0</td>\n      <td>72.0</td>\n    </tr>\n    <tr>\n      <th>2</th>\n      <td>민수</td>\n      <td>1</td>\n      <td>남자</td>\n      <td>92</td>\n      <td>70.0</td>\n      <td>NaN</td>\n      <td>NaN</td>\n    </tr>\n    <tr>\n      <th>3</th>\n      <td>수현</td>\n      <td>3</td>\n      <td>여자</td>\n      <td>63</td>\n      <td>60.0</td>\n      <td>31.0</td>\n      <td>70.0</td>\n    </tr>\n    <tr>\n      <th>4</th>\n      <td>호영</td>\n      <td>4</td>\n      <td>남자</td>\n      <td>120</td>\n      <td>50.0</td>\n      <td>NaN</td>\n      <td>88.0</td>\n    </tr>\n  </tbody>\n</table>\n</div>"
     },
     "metadata": {},
     "output_type": "display_data"
    }
   ],
   "source": [
    "display(df6[1])"
   ],
   "metadata": {
    "collapsed": false
   }
  },
  {
   "cell_type": "code",
   "execution_count": 21,
   "outputs": [
    {
     "data": {
      "text/plain": "   이름  학년  성별   국어    영어    수학    과학\n0  철수   1  남자   98   NaN  88.0  64.0\n1  영희   2  여자   88  90.0  62.0  72.0\n2  민수   1  남자   92  70.0   NaN   NaN\n3  수현   3  여자   63  60.0  31.0  70.0\n4  호영   4  남자  120  50.0   NaN  88.0",
      "text/html": "<div>\n<style scoped>\n    .dataframe tbody tr th:only-of-type {\n        vertical-align: middle;\n    }\n\n    .dataframe tbody tr th {\n        vertical-align: top;\n    }\n\n    .dataframe thead th {\n        text-align: right;\n    }\n</style>\n<table border=\"1\" class=\"dataframe\">\n  <thead>\n    <tr style=\"text-align: right;\">\n      <th></th>\n      <th>이름</th>\n      <th>학년</th>\n      <th>성별</th>\n      <th>국어</th>\n      <th>영어</th>\n      <th>수학</th>\n      <th>과학</th>\n    </tr>\n  </thead>\n  <tbody>\n    <tr>\n      <th>0</th>\n      <td>철수</td>\n      <td>1</td>\n      <td>남자</td>\n      <td>98</td>\n      <td>NaN</td>\n      <td>88.0</td>\n      <td>64.0</td>\n    </tr>\n    <tr>\n      <th>1</th>\n      <td>영희</td>\n      <td>2</td>\n      <td>여자</td>\n      <td>88</td>\n      <td>90.0</td>\n      <td>62.0</td>\n      <td>72.0</td>\n    </tr>\n    <tr>\n      <th>2</th>\n      <td>민수</td>\n      <td>1</td>\n      <td>남자</td>\n      <td>92</td>\n      <td>70.0</td>\n      <td>NaN</td>\n      <td>NaN</td>\n    </tr>\n    <tr>\n      <th>3</th>\n      <td>수현</td>\n      <td>3</td>\n      <td>여자</td>\n      <td>63</td>\n      <td>60.0</td>\n      <td>31.0</td>\n      <td>70.0</td>\n    </tr>\n    <tr>\n      <th>4</th>\n      <td>호영</td>\n      <td>4</td>\n      <td>남자</td>\n      <td>120</td>\n      <td>50.0</td>\n      <td>NaN</td>\n      <td>88.0</td>\n    </tr>\n  </tbody>\n</table>\n</div>"
     },
     "metadata": {},
     "output_type": "display_data"
    }
   ],
   "source": [
    "display(df7['grade'])"
   ],
   "metadata": {
    "collapsed": false
   }
  },
  {
   "cell_type": "code",
   "execution_count": 22,
   "outputs": [
    {
     "data": {
      "text/plain": "    이름  학년  성별   국어    영어    수학    과학\n0  홍길동   1  남자   98   NaN  88.0  64.0\n1   영희   2  여자   88  90.0  62.0  72.0\n2   민수   1  남자   92  70.0   NaN   NaN\n3   수현   3  여자   63  60.0  31.0  70.0\n4   호영   4  남자  120  50.0   NaN  88.0",
      "text/html": "<div>\n<style scoped>\n    .dataframe tbody tr th:only-of-type {\n        vertical-align: middle;\n    }\n\n    .dataframe tbody tr th {\n        vertical-align: top;\n    }\n\n    .dataframe thead th {\n        text-align: right;\n    }\n</style>\n<table border=\"1\" class=\"dataframe\">\n  <thead>\n    <tr style=\"text-align: right;\">\n      <th></th>\n      <th>이름</th>\n      <th>학년</th>\n      <th>성별</th>\n      <th>국어</th>\n      <th>영어</th>\n      <th>수학</th>\n      <th>과학</th>\n    </tr>\n  </thead>\n  <tbody>\n    <tr>\n      <th>0</th>\n      <td>홍길동</td>\n      <td>1</td>\n      <td>남자</td>\n      <td>98</td>\n      <td>NaN</td>\n      <td>88.0</td>\n      <td>64.0</td>\n    </tr>\n    <tr>\n      <th>1</th>\n      <td>영희</td>\n      <td>2</td>\n      <td>여자</td>\n      <td>88</td>\n      <td>90.0</td>\n      <td>62.0</td>\n      <td>72.0</td>\n    </tr>\n    <tr>\n      <th>2</th>\n      <td>민수</td>\n      <td>1</td>\n      <td>남자</td>\n      <td>92</td>\n      <td>70.0</td>\n      <td>NaN</td>\n      <td>NaN</td>\n    </tr>\n    <tr>\n      <th>3</th>\n      <td>수현</td>\n      <td>3</td>\n      <td>여자</td>\n      <td>63</td>\n      <td>60.0</td>\n      <td>31.0</td>\n      <td>70.0</td>\n    </tr>\n    <tr>\n      <th>4</th>\n      <td>호영</td>\n      <td>4</td>\n      <td>남자</td>\n      <td>120</td>\n      <td>50.0</td>\n      <td>NaN</td>\n      <td>88.0</td>\n    </tr>\n  </tbody>\n</table>\n</div>"
     },
     "metadata": {},
     "output_type": "display_data"
    }
   ],
   "source": [
    "display(df7['grade2'])"
   ],
   "metadata": {
    "collapsed": false
   }
  }
 ],
 "metadata": {
  "kernelspec": {
   "display_name": "Python 3",
   "language": "python",
   "name": "python3"
  },
  "language_info": {
   "codemirror_mode": {
    "name": "ipython",
    "version": 2
   },
   "file_extension": ".py",
   "mimetype": "text/x-python",
   "name": "python",
   "nbconvert_exporter": "python",
   "pygments_lexer": "ipython2",
   "version": "2.7.6"
  }
 },
 "nbformat": 4,
 "nbformat_minor": 0
}
