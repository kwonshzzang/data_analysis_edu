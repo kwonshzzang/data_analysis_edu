{
 "cells": [
  {
   "cell_type": "markdown",
   "metadata": {},
   "source": [
    "### Numpy\n",
    "- 파이썬에서 제공하는 list, tuple로는 행렬에 관련된 작업을 하기가 어려움\n",
    "- 행렬에 관련된 연산을 위해 제공하는 라이브러리\n",
    "- 수학에서의 행렬에 대한 작업을 할 수 있음"
   ]
  },
  {
   "cell_type": "code",
   "execution_count": 2,
   "metadata": {},
   "outputs": [],
   "source": [
    "import numpy as np"
   ]
  },
  {
   "cell_type": "code",
   "execution_count": 74,
   "metadata": {},
   "outputs": [],
   "source": [
    "# 리스트\n",
    "list1 = [10, 20, 30, 40, 50]\n",
    "list2 = [60, 70, 80, 90, 100]"
   ]
  },
  {
   "cell_type": "code",
   "execution_count": 75,
   "metadata": {},
   "outputs": [
    {
     "data": {
      "text/plain": "[10, 20, 30, 40, 50, 60, 70, 80, 90, 100]"
     },
     "execution_count": 75,
     "metadata": {},
     "output_type": "execute_result"
    }
   ],
   "source": [
    "# 더히기\n",
    "list3 = list1 + list2\n",
    "list3"
   ]
  },
  {
   "cell_type": "code",
   "execution_count": 76,
   "metadata": {},
   "outputs": [
    {
     "data": {
      "text/plain": "[10, 20, 30, 40, 50, 10, 20, 30, 40, 50, 10, 20, 30, 40, 50]"
     },
     "execution_count": 76,
     "metadata": {},
     "output_type": "execute_result"
    }
   ],
   "source": [
    "# 곱하기\n",
    "list4 = list1 * 3\n",
    "list4"
   ]
  },
  {
   "cell_type": "code",
   "execution_count": 77,
   "metadata": {},
   "outputs": [
    {
     "ename": "TypeError",
     "evalue": "unsupported operand type(s) for -: 'list' and 'list'",
     "output_type": "error",
     "traceback": [
      "\u001B[0;31m---------------------------------------------------------------------------\u001B[0m",
      "\u001B[0;31mTypeError\u001B[0m                                 Traceback (most recent call last)",
      "\u001B[0;32m/var/folders/2p/5ztvmmzx1xzdnqqn7snr0gp00000gn/T/ipykernel_34771/1721038680.py\u001B[0m in \u001B[0;36m<module>\u001B[0;34m\u001B[0m\n\u001B[1;32m      1\u001B[0m \u001B[0;31m# 뺄셈\u001B[0m\u001B[0;34m\u001B[0m\u001B[0;34m\u001B[0m\u001B[0m\n\u001B[0;32m----> 2\u001B[0;31m \u001B[0mlist5\u001B[0m \u001B[0;34m=\u001B[0m \u001B[0mlist1\u001B[0m \u001B[0;34m-\u001B[0m \u001B[0mlist2\u001B[0m\u001B[0;34m\u001B[0m\u001B[0;34m\u001B[0m\u001B[0m\n\u001B[0m\u001B[1;32m      3\u001B[0m \u001B[0mlist5\u001B[0m\u001B[0;34m\u001B[0m\u001B[0;34m\u001B[0m\u001B[0m\n",
      "\u001B[0;31mTypeError\u001B[0m: unsupported operand type(s) for -: 'list' and 'list'"
     ]
    }
   ],
   "source": [
    "# 뺄셈\n",
    "list5 = list1 - list2\n",
    "list5"
   ]
  },
  {
   "cell_type": "code",
   "execution_count": 86,
   "metadata": {},
   "outputs": [],
   "source": [
    "# ndarray\n",
    "array1 = np.array([10, 20, 30, 40, 50])\n",
    "array2 = np.array([60, 70, 80, 90, 100])"
   ]
  },
  {
   "cell_type": "code",
   "execution_count": 87,
   "metadata": {},
   "outputs": [
    {
     "data": {
      "text/plain": "array([ 70,  90, 110, 130, 150])"
     },
     "execution_count": 87,
     "metadata": {},
     "output_type": "execute_result"
    }
   ],
   "source": [
    "# 더하기\n",
    "array3 = array1 + array2\n",
    "array3"
   ]
  },
  {
   "cell_type": "code",
   "execution_count": 88,
   "metadata": {},
   "outputs": [
    {
     "data": {
      "text/plain": "array([ 30,  60,  90, 120, 150])"
     },
     "execution_count": 88,
     "metadata": {},
     "output_type": "execute_result"
    }
   ],
   "source": [
    "# 곱하기\n",
    "array4 = array1 * 3\n",
    "array4"
   ]
  },
  {
   "cell_type": "code",
   "execution_count": 89,
   "metadata": {},
   "outputs": [
    {
     "data": {
      "text/plain": "array([-50, -50, -50, -50, -50])"
     },
     "execution_count": 89,
     "metadata": {},
     "output_type": "execute_result"
    }
   ],
   "source": [
    "# 뺄셈\n",
    "array5 = array1 - array2\n",
    "array5"
   ]
  },
  {
   "cell_type": "markdown",
   "metadata": {},
   "source": [
    "### 행렬생성\n",
    "- 리스트나 튜플을 이용하여 생성\n",
    "- 생성된 행렬의 타입은 다차원 행렬이라는 의미로 ndarray로 불린다"
   ]
  },
  {
   "cell_type": "code",
   "execution_count": 78,
   "metadata": {},
   "outputs": [
    {
     "name": "stdout",
     "output_type": "stream",
     "text": [
      "[10, 20, 30, 40, 50]\n",
      "[10 20 30 40 50]\n"
     ]
    },
    {
     "data": {
      "text/plain": "[10, 20, 30, 40, 50]"
     },
     "metadata": {},
     "output_type": "display_data"
    },
    {
     "data": {
      "text/plain": "array([10, 20, 30, 40, 50])"
     },
     "metadata": {},
     "output_type": "display_data"
    }
   ],
   "source": [
    "# 1차원 리스트\n",
    "list1 = [10, 20, 30, 40, 50]\n",
    "\n",
    "# 1차원 행렬(함수 안에 리스트나 튜플을 넣어준다)\n",
    "array1 = np.array([10, 20, 30, 40, 50])\n",
    "\n",
    "print(list1)\n",
    "print(array1)\n",
    "\n",
    "display(list1)\n",
    "display(array1)"
   ]
  },
  {
   "cell_type": "code",
   "execution_count": 79,
   "metadata": {},
   "outputs": [
    {
     "name": "stdout",
     "output_type": "stream",
     "text": [
      "<class 'list'>\n",
      "<class 'numpy.ndarray'>\n"
     ]
    }
   ],
   "source": [
    "print(type(list1))\n",
    "print(type(array1))"
   ]
  },
  {
   "cell_type": "code",
   "execution_count": 80,
   "metadata": {},
   "outputs": [
    {
     "name": "stdout",
     "output_type": "stream",
     "text": [
      "[[1, 2, 3], [4, 5, 6], [7, 8, 9]]\n",
      "[[1 2 3]\n",
      " [4 5 6]\n",
      " [7 8 9]]\n"
     ]
    },
    {
     "data": {
      "text/plain": "[[1, 2, 3], [4, 5, 6], [7, 8, 9]]"
     },
     "metadata": {},
     "output_type": "display_data"
    },
    {
     "data": {
      "text/plain": "array([[1, 2, 3],\n       [4, 5, 6],\n       [7, 8, 9]])"
     },
     "metadata": {},
     "output_type": "display_data"
    }
   ],
   "source": [
    "# 2차원 리스트\n",
    "list2 = [\n",
    "    [1, 2, 3],\n",
    "    [4, 5, 6],\n",
    "    [7, 8, 9]\n",
    "]\n",
    "\n",
    "# 2차원 행렬\n",
    "array2 = np.array([\n",
    "    [1, 2, 3],\n",
    "    [4, 5, 6],\n",
    "    [7, 8, 9]\n",
    "])\n",
    "\n",
    "print(list2)\n",
    "print(array2)\n",
    "\n",
    "display(list2)\n",
    "display(array2)"
   ]
  },
  {
   "cell_type": "markdown",
   "metadata": {},
   "source": [
    "### 행렬과 데이터 타입의 관계"
   ]
  },
  {
   "cell_type": "code",
   "execution_count": 81,
   "metadata": {},
   "outputs": [
    {
     "data": {
      "text/plain": "[True, 100, 11.11, '문자열']"
     },
     "metadata": {},
     "output_type": "display_data"
    },
    {
     "data": {
      "text/plain": "array(['True', '100', '11.11', '문자열'], dtype='<U32')"
     },
     "metadata": {},
     "output_type": "display_data"
    }
   ],
   "source": [
    "list1 = [True, 100, 11.11, '문자열']\n",
    "\n",
    "# ndarray는 같은 타입의 값만 담을 수 있음\n",
    "# 다양한 타입의 값이 섞여져 있을 경우 더 많은 값의 종류를\n",
    "# 표현할 수 있는 형태로 변환\n",
    "# 논리형 -> 정수 -> 실수 -> 문자열\n",
    "\n",
    "array1 = np.array([True, 100, 11.11, '문자열'])\n",
    "\n",
    "display(list1)\n",
    "display(array1)"
   ]
  },
  {
   "cell_type": "code",
   "execution_count": 82,
   "metadata": {},
   "outputs": [
    {
     "name": "stdout",
     "output_type": "stream",
     "text": [
      "<class 'numpy.ndarray'>\n",
      "float64\n"
     ]
    }
   ],
   "source": [
    "# 행렬의 타입을 확인\n",
    "array2 = np.array([0, 1, 2, 3, 4])\n",
    "array3 = np.array([11, 11.11, 22.22, 33.33])\n",
    "\n",
    "print(type(array2))\n",
    "print(array3.dtype)"
   ]
  },
  {
   "cell_type": "code",
   "execution_count": 83,
   "metadata": {},
   "outputs": [
    {
     "name": "stdout",
     "output_type": "stream",
     "text": [
      "float64\n",
      "int64\n"
     ]
    }
   ],
   "source": [
    "# 행렬을 생성할때 타입을 설정할 수 있다.\n",
    "# 정수: int, 실수: float, 논리: bool, 문자열: str\n",
    "array4 = np.array([0, 1, 2, 3, 4], dtype='float')\n",
    "array5 = np.array([0, 1, 2, 3, 4])\n",
    "\n",
    "print(array4.dtype)\n",
    "print(array5.dtype)"
   ]
  },
  {
   "cell_type": "code",
   "execution_count": 84,
   "metadata": {},
   "outputs": [
    {
     "name": "stdout",
     "output_type": "stream",
     "text": [
      "[1 2 3]\n",
      "int64\n"
     ]
    }
   ],
   "source": [
    "array6 = np.array(['1', '2', '3'], dtype='int')\n",
    "\n",
    "print(array6)\n",
    "print(array6.dtype)"
   ]
  },
  {
   "cell_type": "code",
   "execution_count": 85,
   "metadata": {},
   "outputs": [
    {
     "ename": "ValueError",
     "evalue": "invalid literal for int() with base 10: '홍길동'",
     "output_type": "error",
     "traceback": [
      "\u001B[0;31m---------------------------------------------------------------------------\u001B[0m",
      "\u001B[0;31mValueError\u001B[0m                                Traceback (most recent call last)",
      "\u001B[0;32m/var/folders/2p/5ztvmmzx1xzdnqqn7snr0gp00000gn/T/ipykernel_34771/3992795415.py\u001B[0m in \u001B[0;36m<module>\u001B[0;34m\u001B[0m\n\u001B[0;32m----> 1\u001B[0;31m \u001B[0marray7\u001B[0m \u001B[0;34m=\u001B[0m \u001B[0mnp\u001B[0m\u001B[0;34m.\u001B[0m\u001B[0marray\u001B[0m\u001B[0;34m(\u001B[0m\u001B[0;34m[\u001B[0m\u001B[0;34m'홍길동'\u001B[0m\u001B[0;34m,\u001B[0m \u001B[0;34m'김길동'\u001B[0m\u001B[0;34m,\u001B[0m \u001B[0;34m'최길동'\u001B[0m\u001B[0;34m]\u001B[0m\u001B[0;34m,\u001B[0m \u001B[0mdtype\u001B[0m\u001B[0;34m=\u001B[0m\u001B[0;34m'int'\u001B[0m\u001B[0;34m)\u001B[0m\u001B[0;34m\u001B[0m\u001B[0;34m\u001B[0m\u001B[0m\n\u001B[0m\u001B[1;32m      2\u001B[0m \u001B[0;34m\u001B[0m\u001B[0m\n\u001B[1;32m      3\u001B[0m \u001B[0mprint\u001B[0m\u001B[0;34m(\u001B[0m\u001B[0marray7\u001B[0m\u001B[0;34m)\u001B[0m\u001B[0;34m\u001B[0m\u001B[0;34m\u001B[0m\u001B[0m\n\u001B[1;32m      4\u001B[0m \u001B[0mprint\u001B[0m\u001B[0;34m(\u001B[0m\u001B[0marray7\u001B[0m\u001B[0;34m.\u001B[0m\u001B[0mdtype\u001B[0m\u001B[0;34m)\u001B[0m\u001B[0;34m\u001B[0m\u001B[0;34m\u001B[0m\u001B[0m\n",
      "\u001B[0;31mValueError\u001B[0m: invalid literal for int() with base 10: '홍길동'"
     ]
    }
   ],
   "source": [
    "array7 = np.array(['홍길동', '김길동', '최길동'], dtype='int')\n",
    "\n",
    "print(array7)\n",
    "print(array7.dtype)"
   ]
  },
  {
   "cell_type": "code",
   "execution_count": 90,
   "metadata": {},
   "outputs": [
    {
     "name": "stdout",
     "output_type": "stream",
     "text": [
      "[ True  True]\n",
      "bool\n"
     ]
    }
   ],
   "source": [
    "array8 = np.array(['홍길동', '김길동'], dtype='bool')\n",
    "\n",
    "print(array8)\n",
    "print(array8.dtype)"
   ]
  },
  {
   "cell_type": "code",
   "execution_count": 91,
   "metadata": {},
   "outputs": [
    {
     "name": "stdout",
     "output_type": "stream",
     "text": [
      "[ True  True]\n",
      "bool\n",
      "[ True  True  True  True]\n",
      "bool\n"
     ]
    }
   ],
   "source": [
    "array9 = np.array(['홍길동', '김길동'], dtype='bool')\n",
    "\n",
    "print(array9)\n",
    "print(array9.dtype)\n",
    "\n",
    "array10 = np.array(['True', 'False', 'True', 'False'], dtype='bool')\n",
    "\n",
    "print(array10)\n",
    "print(array10.dtype)"
   ]
  },
  {
   "cell_type": "code",
   "execution_count": 92,
   "metadata": {},
   "outputs": [
    {
     "name": "stdout",
     "output_type": "stream",
     "text": [
      "[11 22 33]\n",
      "int64\n"
     ]
    }
   ],
   "source": [
    "array11 = np.array([11.11, 22.22, 33.33], dtype='int')\n",
    "\n",
    "print(array11)\n",
    "print(array11.dtype)"
   ]
  },
  {
   "cell_type": "code",
   "execution_count": 93,
   "outputs": [
    {
     "name": "stdout",
     "output_type": "stream",
     "text": [
      "['30' '60' '90' '120' '150']\n",
      "<U21\n"
     ]
    }
   ],
   "source": [
    "# 이미 생성되어 있는 행렬의 값을 추출하여 다른 타입으로 행렬을 생성\n",
    "# 정수: int, 실수: float, 논리: bool, 문자열: str\n",
    "array12 = array4.astype('str')\n",
    "\n",
    "print(array12)\n",
    "print(array12.dtype)"
   ],
   "metadata": {
    "collapsed": false
   }
  },
  {
   "cell_type": "markdown",
   "source": [
    "### 행렬 생성 함수"
   ],
   "metadata": {
    "collapsed": false
   }
  },
  {
   "cell_type": "code",
   "execution_count": 94,
   "outputs": [
    {
     "data": {
      "text/plain": "array([10, 20, 30, 40, 50])"
     },
     "execution_count": 94,
     "metadata": {},
     "output_type": "execute_result"
    }
   ],
   "source": [
    "# 값을 정해주면서 생성\n",
    "# 값은 리스트나 튜플 등과 같이 순서를 가지고 값을 관리하는 요소를 지정\n",
    "array1 = np.array([10, 20, 30, 40, 50])\n",
    "array1"
   ],
   "metadata": {
    "collapsed": false
   }
  },
  {
   "cell_type": "code",
   "execution_count": 96,
   "outputs": [
    {
     "data": {
      "text/plain": "array({'a1': 100, 'a2': 22.22, 'a3': True, 'a4': '문자열'}, dtype=object)"
     },
     "metadata": {},
     "output_type": "display_data"
    },
    {
     "data": {
      "text/plain": "array(['100', '22.22', 'True', '문자열'], dtype='<U32')"
     },
     "metadata": {},
     "output_type": "display_data"
    },
    {
     "data": {
      "text/plain": "dtype('<U32')"
     },
     "metadata": {},
     "output_type": "display_data"
    }
   ],
   "source": [
    "# 딕셔너리로 행렬 생성\n",
    "d1 = {\n",
    "    'a1':100,\n",
    "    'a2':22.22,\n",
    "    'a3':True,\n",
    "    'a4':'문자열',\n",
    "}\n",
    "\n",
    "# 딕셔너리를 원소로 가지고 있는 행렬이 생성됨\n",
    "array2 = np.array(d1)\n",
    "display(array2)\n",
    "\n",
    "# 딕셔너리\n",
    "array3 = np.array(list(d1.values()))\n",
    "display(array3)\n",
    "display(array3.dtype)"
   ],
   "metadata": {
    "collapsed": false,
    "pycharm": {
     "name": "#%%딕\n"
    }
   }
  },
  {
   "cell_type": "code",
   "execution_count": 99,
   "outputs": [
    {
     "data": {
      "text/plain": "array([0., 0., 0., 0., 0.])"
     },
     "metadata": {},
     "output_type": "display_data"
    },
    {
     "data": {
      "text/plain": "array([[0., 0., 0., 0.],\n       [0., 0., 0., 0.],\n       [0., 0., 0., 0.]])"
     },
     "metadata": {},
     "output_type": "display_data"
    }
   ],
   "source": [
    "# 0 행렬\n",
    "# 원소가 0으로 채워진 행렬\n",
    "# 0이 5개 있는 1차원 배열\n",
    "array4 = np.zeros(5)\n",
    "display(array4)\n",
    "\n",
    "# 0으로 채워진 3행 4열 2차원 행렬\n",
    "# 행과 열의 수를 리스트로 지정해 줌\n",
    "array5 = np.zeros([3, 4])\n",
    "display(array5)"
   ],
   "metadata": {
    "collapsed": false
   }
  },
  {
   "cell_type": "code",
   "execution_count": 101,
   "outputs": [
    {
     "data": {
      "text/plain": "array([1., 1., 1., 1., 1.])"
     },
     "metadata": {},
     "output_type": "display_data"
    },
    {
     "data": {
      "text/plain": "array([[1., 1., 1., 1.],\n       [1., 1., 1., 1.],\n       [1., 1., 1., 1.]])"
     },
     "metadata": {},
     "output_type": "display_data"
    }
   ],
   "source": [
    "# 1이 5개 있는 1차원 행렬\n",
    "array6 = np.ones(5)\n",
    "display(array6)\n",
    "\n",
    "# 1로 채워진 3행 4열 2차원 행렬\n",
    "array7 = np.ones([3, 4])\n",
    "display(array7)"
   ],
   "metadata": {
    "collapsed": false
   }
  },
  {
   "cell_type": "code",
   "execution_count": 103,
   "outputs": [
    {
     "data": {
      "text/plain": "array([7, 7, 7, 7, 7])"
     },
     "metadata": {},
     "output_type": "display_data"
    },
    {
     "data": {
      "text/plain": "array([[7, 7, 7, 7],\n       [7, 7, 7, 7],\n       [7, 7, 7, 7]])"
     },
     "metadata": {},
     "output_type": "display_data"
    }
   ],
   "source": [
    "# n으로 채워진 행렬\n",
    "# 7이 5개 있는 1차원 행렬\n",
    "array8 = np.full(5, 7)\n",
    "display(array8)\n",
    "\n",
    "# 7로 채워진 3행 4열의 2차원 행렬\n",
    "array9 = np.full([3, 4], 7)\n",
    "display(array9)"
   ],
   "metadata": {
    "collapsed": false
   }
  },
  {
   "cell_type": "code",
   "execution_count": 104,
   "outputs": [
    {
     "data": {
      "text/plain": "array([3.5e-323, 3.5e-323, 3.5e-323, 3.5e-323, 3.5e-323])"
     },
     "metadata": {},
     "output_type": "display_data"
    },
    {
     "data": {
      "text/plain": "array([[1., 1., 1., 1.],\n       [1., 1., 1., 1.],\n       [1., 1., 1., 1.]])"
     },
     "metadata": {},
     "output_type": "display_data"
    }
   ],
   "source": [
    "# 행렬을 만들고 아무값도 넣어주지 않는다.\n",
    "# 빠르게 행렬을 생성하고 싶을때 사용함\n",
    "# 단, 값을 채우는 작업을 해주지 않기 때문에 행렬 사용 전에\n",
    "# 반드시 값을 채워줘야 함.\n",
    "\n",
    "# 5개까지 1차원 행렬\n",
    "array10 = np.empty(5)\n",
    "\n",
    "# 3행 4열짜리 2차원 행렬\n",
    "array11 = np.empty([3, 4])\n",
    "\n",
    "display(array10)\n",
    "display(array11)"
   ],
   "metadata": {
    "collapsed": false
   }
  },
  {
   "cell_type": "code",
   "execution_count": 105,
   "outputs": [
    {
     "data": {
      "text/plain": "array([0, 1, 2, 3, 4, 5])"
     },
     "execution_count": 105,
     "metadata": {},
     "output_type": "execute_result"
    }
   ],
   "source": [
    "# 특정 범위를 가진 행렬을 생성\n",
    "# 0~6-1까지 1씩 증가하는 행렬\n",
    "array12 = np.arange(6)\n",
    "array12"
   ],
   "metadata": {
    "collapsed": false
   }
  },
  {
   "cell_type": "code",
   "execution_count": 106,
   "outputs": [
    {
     "data": {
      "text/plain": "array([ 3,  4,  5,  6,  7,  8,  9, 10, 11, 12])"
     },
     "execution_count": 106,
     "metadata": {},
     "output_type": "execute_result"
    }
   ],
   "source": [
    "# 3~13-1까지 1씩 증가하는 행렬을 생성\n",
    "array13 = np.arange(3, 13)\n",
    "array13"
   ],
   "metadata": {
    "collapsed": false
   }
  },
  {
   "cell_type": "code",
   "execution_count": 107,
   "outputs": [
    {
     "data": {
      "text/plain": "array([ 3,  5,  7,  9, 11])"
     },
     "execution_count": 107,
     "metadata": {},
     "output_type": "execute_result"
    }
   ],
   "source": [
    "# 3~13-1까지 2씩 증가\n",
    "array14 = np.arange(3, 13, 2)\n",
    "array14"
   ],
   "metadata": {
    "collapsed": false
   }
  },
  {
   "cell_type": "markdown",
   "source": [
    "### 인덱싱과 슬라이싱\n",
    "- 인덱싱: 값 하나를 가져오는 것\n",
    "- 슬라이싱: 원하는 부분의 값을 가져오는 것"
   ],
   "metadata": {
    "collapsed": false
   }
  },
  {
   "cell_type": "code",
   "execution_count": 108,
   "outputs": [],
   "source": [
    "# 1차원\n",
    "list1 = [10, 20, 30, 40, 50, 60, 70, 80, 90, 100]\n",
    "array1 = np.array([10, 20, 30, 40, 50, 60, 70, 80, 90, 100])"
   ],
   "metadata": {
    "collapsed": false
   }
  },
  {
   "cell_type": "code",
   "execution_count": 110,
   "outputs": [
    {
     "name": "stdout",
     "output_type": "stream",
     "text": [
      "10\n",
      "10\n",
      "20\n",
      "20\n"
     ]
    }
   ],
   "source": [
    "# 값 하나를 가져온다. 0부터 1씩 증가하는 위치값\n",
    "print(list1[0])\n",
    "print(array1[0])\n",
    "print(list1[1])\n",
    "print(array1[1])"
   ],
   "metadata": {
    "collapsed": false
   }
  },
  {
   "cell_type": "code",
   "execution_count": 111,
   "outputs": [
    {
     "name": "stdout",
     "output_type": "stream",
     "text": [
      "100\n",
      "100\n",
      "90\n",
      "90\n"
     ]
    }
   ],
   "source": [
    "# 마이너스 인덱스, 뒤에서부터.\n",
    "print(list1[-1])\n",
    "print(array1[-1])\n",
    "print(list1[-2])\n",
    "print(array1[-2])"
   ],
   "metadata": {
    "collapsed": false
   }
  },
  {
   "cell_type": "code",
   "execution_count": 112,
   "outputs": [
    {
     "name": "stdout",
     "output_type": "stream",
     "text": [
      "[30, 40, 50, 60]\n",
      "[30 40 50 60]\n"
     ]
    }
   ],
   "source": [
    "# 위치값 2~6-1까지\n",
    "print(list1[2:6])\n",
    "print(array1[2:6])"
   ],
   "metadata": {
    "collapsed": false
   }
  },
  {
   "cell_type": "code",
   "execution_count": 113,
   "outputs": [
    {
     "name": "stdout",
     "output_type": "stream",
     "text": [
      "[10, 20, 30, 40, 50, 60]\n",
      "[10 20 30 40 50 60]\n"
     ]
    }
   ],
   "source": [
    "# 위치값 처음~6-1까지\n",
    "print(list1[:6])\n",
    "print(array1[:6])"
   ],
   "metadata": {
    "collapsed": false
   }
  },
  {
   "cell_type": "code",
   "execution_count": 114,
   "outputs": [
    {
     "name": "stdout",
     "output_type": "stream",
     "text": [
      "[30, 40, 50, 60, 70, 80, 90, 100]\n",
      "[ 30  40  50  60  70  80  90 100]\n"
     ]
    }
   ],
   "source": [
    "# 위치값 2~끝까지\n",
    "print(list1[2:])\n",
    "print(array1[2:])"
   ],
   "metadata": {
    "collapsed": false
   }
  },
  {
   "cell_type": "code",
   "execution_count": 115,
   "outputs": [],
   "source": [
    "list2d = [\n",
    "    [1, 2, 3],\n",
    "    [4, 5, 6],\n",
    "    [7, 8, 9]\n",
    "]\n",
    "\n",
    "array2d = np.array([\n",
    "    [1, 2, 3],\n",
    "    [4, 5, 6],\n",
    "    [7, 8, 9]\n",
    "])"
   ],
   "metadata": {
    "collapsed": false
   }
  },
  {
   "cell_type": "code",
   "execution_count": 120,
   "outputs": [
    {
     "name": "stdout",
     "output_type": "stream",
     "text": [
      "6\n",
      "6\n",
      "6\n"
     ]
    }
   ],
   "source": [
    "# 2행 3열 데이터를 가져온다.\n",
    "print(list2d[1][2])\n",
    "print(array2d[1][2])\n",
    "print(array2d[1,2])"
   ],
   "metadata": {
    "collapsed": false
   }
  },
  {
   "cell_type": "code",
   "execution_count": 123,
   "outputs": [
    {
     "data": {
      "text/plain": "[[7, 8, 9]]"
     },
     "metadata": {},
     "output_type": "display_data"
    },
    {
     "data": {
      "text/plain": "array([[7, 8, 9]])"
     },
     "metadata": {},
     "output_type": "display_data"
    },
    {
     "data": {
      "text/plain": "array([[5, 6],\n       [8, 9]])"
     },
     "metadata": {},
     "output_type": "display_data"
    }
   ],
   "source": [
    "# 위치값 1~3-1 행, 1~3-1열의 데이터를 가져옴\n",
    "display(list2d[1:3][1:3])\n",
    "display(array2d[1:3][1:3])\n",
    "display(array2d[1:3, 1:3][]"
   ],
   "metadata": {
    "collapsed": false
   }
  },
  {
   "cell_type": "code",
   "execution_count": 8,
   "outputs": [],
   "source": [
    "# 원하는 것만 가져오는 테스트 위해 행렬을 다시 만듬\n",
    "array1 = np.array([10, 20, 30, 40, 50])"
   ],
   "metadata": {
    "collapsed": false
   }
  },
  {
   "cell_type": "code",
   "execution_count": 9,
   "outputs": [
    {
     "name": "stdout",
     "output_type": "stream",
     "text": [
      "[10 20 50]\n"
     ]
    }
   ],
   "source": [
    "# 위치값 0, 1, 4에 해당하는 것만 가져옴\n",
    "array2 = array1[[0, 1, 4]]\n",
    "print(array2)"
   ],
   "metadata": {
    "collapsed": false
   }
  },
  {
   "cell_type": "code",
   "execution_count": 10,
   "outputs": [
    {
     "data": {
      "text/plain": "array([10, 30, 50])"
     },
     "execution_count": 10,
     "metadata": {},
     "output_type": "execute_result"
    }
   ],
   "source": [
    "# True와 False로 구성된 리스트를 넣어서 값을 가져옴.\n",
    "# True 자리에 해당하는 값만 추출하여 줌\n",
    "# 행렬의 원소의 개수와 맞지 않으면 오류가 발생함.\n",
    "array3 = array1[[True, False, True, False, True]]\n",
    "array3"
   ],
   "metadata": {
    "collapsed": false
   }
  }
 ],
 "metadata": {
  "kernelspec": {
   "display_name": "Python 3 (ipykernel)",
   "language": "python",
   "name": "python3"
  },
  "language_info": {
   "codemirror_mode": {
    "name": "ipython",
    "version": 3
   },
   "file_extension": ".py",
   "mimetype": "text/x-python",
   "name": "python",
   "nbconvert_exporter": "python",
   "pygments_lexer": "ipython3",
   "version": "3.9.10+"
  }
 },
 "nbformat": 4,
 "nbformat_minor": 2
}
