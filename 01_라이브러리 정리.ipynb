{
 "cells": [
  {
   "cell_type": "markdown",
   "metadata": {},
   "source": [
    "### numpy\n",
    "- 파이썬에서 행렬 데이터를 관리하기 위해 사용하는 라이브러리\n",
    "- 일반적인 프로그래밍에서 데이터를 다루는 방식이 아닌 수학의 행렬 데이터를 다루는 방식으로 데이터를 관리"
   ]
  },
  {
   "cell_type": "markdown",
   "metadata": {},
   "source": [
    "### scipy\n",
    "- 과학 기술 연산을 위해 만든 라이브러리\n",
    "- 천문학, 기상학, 물리학 등등 고차 수학에서 사용하는 계산 방식을 구현해 놓은 라이브러리\n",
    "- 머신러닝(딥러닝) 알고리즘 구현을 위해 사용"
   ]
  },
  {
   "cell_type": "markdown",
   "metadata": {},
   "source": [
    "### sympy\n",
    "- 미분, 적분, 백터 공간 등을 계산할 수 있도록 만들어진 라이브러리\n",
    "- 머신러닝(딥러닝) 알고리즘 구현을 위해 사용"
   ]
  },
  {
   "cell_type": "markdown",
   "metadata": {},
   "source": [
    "### pandas\n",
    "- numpy는 수학에서 행렬을 다루기 위해 만든 라이브러리\n",
    "- numpy가 가진 기능에 데이터를 다루고 분석하기 위한 다양한 기능을 추가한 라이브러리\n",
    "- 데이터 사이언스 분야에서 가장 핵심이 되는 라이브러리\n",
    "- 데이터 분석, 시각화, 전처리, 변환, 가공 등등 많은 기능을 가지고 있음"
   ]
  },
  {
   "cell_type": "markdown",
   "metadata": {},
   "source": [
    "### scikit-learn\n",
    "- 파이썬에서 사용하는 대표 머신러닝 라이브러리\n",
    "- 대부분의 머신러닝 알고리즘을 구현해 제공하고 있으며, 프로젝트 수행에 필요한 다양한 기능들로 제공하고 있음\n",
    "- 학습을 위해 필요한 데이터도 일부 제공하고 있음"
   ]
  },
  {
   "cell_type": "markdown",
   "metadata": {},
   "source": [
    "### tensorflow, pytorch\n",
    "- 파이썬에서 사용되는 대표 딥러닝 라이브러리\n",
    "- 딥러닝 프로젝트를 수행하기 위한 다양한 기능들이 포함되어 있음\n",
    "- 코드 작성 난이도는 tensorflow보다 pytorch가 더 편함\n",
    "- 2022년 11월 현재 애플의 m1, m2 맥북의 GPU 가속이 가능하지만 nvidia gpu에 비해 속도가 느림"
   ]
  },
  {
   "cell_type": "markdown",
   "metadata": {},
   "source": [
    "### keras\n",
    "- tensorflow는 코드 작성이 매우매우 불편함\n",
    "- tensorflow를 가지고 딥러닝을 수행할 때 코드 작성을 쉽게 하기 위해 만들어 배포하고 있는 것이 keras임\n",
    "- 개발자는 keras를 가지고 작업하고 내부적으로 tensorflow를 통해 운영"
   ]
  },
  {
   "cell_type": "markdown",
   "metadata": {},
   "source": [
    "### pytorch lightning\n",
    "- keras처럼 pytorch 프로그래밍을 쉽게 할 수 있도록 만들어 배포하는 라이브러리"
   ]
  },
  {
   "cell_type": "markdown",
   "metadata": {},
   "source": [
    "### matplotlib\n",
    "- 파이썬에서 데이터를 시각화 하기 위한 라이브러리"
   ]
  },
  {
   "cell_type": "markdown",
   "metadata": {},
   "source": [
    "### seaborn\n",
    "- matplotlib를 기반으로 만들어진 시각화 라이브러리\n",
    "- 데이터 통계, 분석을 위해 만들어짐"
   ]
  },
  {
   "cell_type": "markdown",
   "metadata": {},
   "source": [
    "### plotly\n",
    "- 다양한 언어와 개발환경을 지원하는 시각화 라이브러리\n",
    "- 그래프 에니메이션을 제공\n",
    "- 다른 시각화 라이브러리 없는 분석용 그래프를 제공하고 있음\n",
    "- javascript(웹)도 지원하기 때문에 데이터 분석 및 통계 서비스를 만들때 매우 유용\n",
    "- 인공지능 관련된 시각화도 지원함"
   ]
  }
 ],
 "metadata": {
  "kernelspec": {
   "display_name": "Python 3 (ipykernel)",
   "language": "python",
   "name": "python3"
  },
  "language_info": {
   "codemirror_mode": {
    "name": "ipython",
    "version": 3
   },
   "file_extension": ".py",
   "mimetype": "text/x-python",
   "name": "python",
   "nbconvert_exporter": "python",
   "pygments_lexer": "ipython3",
   "version": "3.9.10+"
  }
 },
 "nbformat": 4,
 "nbformat_minor": 2
}
